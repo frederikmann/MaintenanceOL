{
 "cells": [
  {
   "cell_type": "markdown",
   "metadata": {},
   "source": [
    "# Domain Relevance Evaluation\n",
    "\n",
    "Comparing different methods to get domain relevant terms "
   ]
  },
  {
   "cell_type": "code",
   "execution_count": 2,
   "metadata": {},
   "outputs": [],
   "source": [
    "from tqdm import tqdm\n",
    "from parts import collect, oie, domain_relevance, cleaning"
   ]
  },
  {
   "cell_type": "markdown",
   "metadata": {},
   "source": [
    "## Initial Load of Background Domains"
   ]
  },
  {
   "cell_type": "code",
   "execution_count": 257,
   "metadata": {},
   "outputs": [],
   "source": [
    "# adac domain\n",
    "\n",
    "def get_corpus(topic, domain, limit, export):\n",
    "    corpus = []\n",
    "    path = \"resources/txt/\"\n",
    "    counter = 0\n",
    "    links = collect.get_links(topic, domain, limit)\n",
    "    for link in tqdm(links):\n",
    "        if collect.get_text(link, domain):\n",
    "            text = \" ; \".join(collect.get_text(link, domain))\n",
    "            if len(text) < 100000 and text:\n",
    "                corpus.append(text)\n",
    "                if export:\n",
    "                    with open(path+domain+\"/\"+str(counter)+\".txt\", \"w\") as file:\n",
    "                        file.write(text)\n",
    "                    counter += 1\n",
    "    return corpus"
   ]
  },
  {
   "cell_type": "code",
   "execution_count": null,
   "metadata": {
    "scrolled": true
   },
   "outputs": [],
   "source": [
    "adac_corpus = get_corpus(0,\"adac\",0,1)"
   ]
  },
  {
   "cell_type": "code",
   "execution_count": 259,
   "metadata": {},
   "outputs": [],
   "source": [
    "test_chefkoch = collect.get_text(\"https://www.chefkoch.de/forum/2,27,770419/Zeckenrollen-Funktionieren-die.html\", \"chefkoch\")"
   ]
  },
  {
   "cell_type": "code",
   "execution_count": 262,
   "metadata": {},
   "outputs": [],
   "source": [
    "chefkoch_corpus = get_corpus(\"https://www.chefkoch.de/forum/1,27/Haus-Garten.html\",\"chefkoch\",5,0)"
   ]
  },
  {
   "cell_type": "code",
   "execution_count": null,
   "metadata": {},
   "outputs": [],
   "source": [
    "car_corpus = get_corpus(\"https://www.motor-talk.de/forum/audi-80-90-100-200-v8-b158.html\",\"car\",3,0)"
   ]
  },
  {
   "cell_type": "markdown",
   "metadata": {},
   "source": [
    "## Load Background Domains and Extract Terms"
   ]
  },
  {
   "cell_type": "code",
   "execution_count": 3,
   "metadata": {},
   "outputs": [],
   "source": [
    "### import car_domain from files\n",
    "\n",
    "def load_domain_terms(domain, limit, clean = 0, del_unique = 0):\n",
    "    counter = 0\n",
    "    path = \"resources/txt/\"\n",
    "    corpus = []\n",
    "    terms = []\n",
    "    while counter < limit:\n",
    "        try:\n",
    "            with open(path+domain+\"/\"+str(counter)+\".txt\", \"r\") as file:\n",
    "                corpus.append(file.read())\n",
    "            counter += 1\n",
    "        except:\n",
    "            break\n",
    "    \n",
    "    for doc in tqdm(corpus):\n",
    "        if del_unique:\n",
    "            doc_terms = clean.uniques(oie.get_terms(doc))\n",
    "        else:\n",
    "            doc_terms = oie.get_terms(doc)\n",
    "        terms.append(doc_terms)\n",
    "    if clean:    \n",
    "        terms = cleaning.terms(terms)\n",
    "        \n",
    "    return terms"
   ]
  },
  {
   "cell_type": "code",
   "execution_count": 135,
   "metadata": {},
   "outputs": [
    {
     "name": "stderr",
     "output_type": "stream",
     "text": [
      "100%|██████████| 2524/2524 [01:23<00:00, 30.31it/s]\n"
     ]
    },
    {
     "name": "stdout",
     "output_type": "stream",
     "text": [
      "deleted time references: 0\n",
      "deleted date references: 287\n",
      "deleted links: 77\n",
      "deleted quotes: 63\n",
      "deleted ireg expressions: 38\n",
      "deleted abbreviations: 206\n"
     ]
    }
   ],
   "source": [
    "adac_domain = load_domain_terms(\"adac\", 10000, 1, 0)"
   ]
  },
  {
   "cell_type": "code",
   "execution_count": 4,
   "metadata": {
    "scrolled": false
   },
   "outputs": [
    {
     "name": "stderr",
     "output_type": "stream",
     "text": [
      "100%|██████████| 174/174 [00:18<00:00,  9.58it/s]\n"
     ]
    },
    {
     "name": "stdout",
     "output_type": "stream",
     "text": [
      "deleted time references: 19\n",
      "deleted date references: 29\n",
      "deleted links: 89\n",
      "deleted quotes: 367\n",
      "deleted ireg expressions: 129\n",
      "deleted abbreviations: 241\n"
     ]
    }
   ],
   "source": [
    "car_domain = load_domain_terms(\"car\", 10000, 1, 0)"
   ]
  },
  {
   "cell_type": "code",
   "execution_count": 5,
   "metadata": {
    "scrolled": true
   },
   "outputs": [
    {
     "name": "stderr",
     "output_type": "stream",
     "text": [
      "100%|██████████| 279/279 [01:21<00:00,  3.42it/s]\n"
     ]
    },
    {
     "name": "stdout",
     "output_type": "stream",
     "text": [
      "deleted time references: 0\n",
      "deleted date references: 692\n",
      "deleted links: 156\n",
      "deleted quotes: 502\n",
      "deleted ireg expressions: 359\n",
      "deleted abbreviations: 488\n"
     ]
    }
   ],
   "source": [
    "chefkoch_domain = load_domain_terms(\"chefkoch\", 10000, 1, 0)"
   ]
  },
  {
   "cell_type": "markdown",
   "metadata": {},
   "source": [
    "## Calculate Metrics "
   ]
  },
  {
   "cell_type": "code",
   "execution_count": 15,
   "metadata": {},
   "outputs": [],
   "source": [
    "def get_relevancy(terms, metric):\n",
    "    tf = domain_relevance.get_tf(terms)\n",
    "    idf = domain_relevance.get_idf(terms)\n",
    "    tdf = domain_relevance.get_tdf(terms)\n",
    "    tf_tdf = {}\n",
    "    \n",
    "    if metric == \"tf\":\n",
    "        return tf\n",
    "    elif metric == \"tf_tdf\":\n",
    "        for term in set([item for sublist in terms for item in sublist]):\n",
    "            tf_tdf[term] = tf[term]*tdf[term]\n",
    "        return tf_tdf\n",
    "    elif metric == \"tf_idf\":\n",
    "        for term in set([item for sublist in terms for item in sublist]):\n",
    "            tf_idf[term] = tf[term]*idf[term]\n",
    "        return tf_idf\n",
    "    else:\n",
    "        return False\n",
    "    "
   ]
  },
  {
   "cell_type": "code",
   "execution_count": 16,
   "metadata": {},
   "outputs": [],
   "source": [
    "metric = \"tf_tdf\""
   ]
  },
  {
   "cell_type": "code",
   "execution_count": 17,
   "metadata": {},
   "outputs": [],
   "source": [
    "adac_relevance = get_relevancy(adac_domain, metric)"
   ]
  },
  {
   "cell_type": "code",
   "execution_count": 18,
   "metadata": {},
   "outputs": [],
   "source": [
    "car_relevance = get_relevancy(car_domain, metric)"
   ]
  },
  {
   "cell_type": "code",
   "execution_count": 19,
   "metadata": {},
   "outputs": [],
   "source": [
    "chefkoch_relevance = get_relevancy(chefkoch_domain, metric)"
   ]
  },
  {
   "cell_type": "code",
   "execution_count": 6,
   "metadata": {},
   "outputs": [],
   "source": [
    "alpha = 0.5\n",
    "candidates = set([item for sublist in car_domain for item in sublist])\n",
    "dw = domain_relevance.get_dw(car_domain, chefkoch_domain, candidates, alpha)"
   ]
  },
  {
   "cell_type": "code",
   "execution_count": 152,
   "metadata": {},
   "outputs": [],
   "source": [
    "llr = domain_relevance.get_llr(car_domain, chefkoch_domain, candidates)"
   ]
  },
  {
   "cell_type": "code",
   "execution_count": 157,
   "metadata": {},
   "outputs": [],
   "source": [
    "import matplotlib.pyplot as plt"
   ]
  },
  {
   "cell_type": "code",
   "execution_count": 162,
   "metadata": {},
   "outputs": [
    {
     "ename": "TypeError",
     "evalue": "int() argument must be a string, a bytes-like object or a number, not 'dict_values'",
     "output_type": "error",
     "traceback": [
      "\u001b[0;31m---------------------------------------------------------------------------\u001b[0m",
      "\u001b[0;31mTypeError\u001b[0m                                 Traceback (most recent call last)",
      "\u001b[0;32m<ipython-input-162-fd2b9f7e014a>\u001b[0m in \u001b[0;36m<module>\u001b[0;34m\u001b[0m\n\u001b[0;32m----> 1\u001b[0;31m \u001b[0mplt\u001b[0m\u001b[0;34m.\u001b[0m\u001b[0mbar\u001b[0m\u001b[0;34m(\u001b[0m\u001b[0mset\u001b[0m\u001b[0;34m(\u001b[0m\u001b[0mint\u001b[0m\u001b[0;34m(\u001b[0m\u001b[0mllr\u001b[0m\u001b[0;34m.\u001b[0m\u001b[0mvalues\u001b[0m\u001b[0;34m(\u001b[0m\u001b[0;34m)\u001b[0m\u001b[0;34m)\u001b[0m\u001b[0;34m)\u001b[0m\u001b[0;34m,\u001b[0m\u001b[0mCounter\u001b[0m\u001b[0;34m(\u001b[0m\u001b[0mint\u001b[0m\u001b[0;34m(\u001b[0m\u001b[0mllr\u001b[0m\u001b[0;34m.\u001b[0m\u001b[0mvalues\u001b[0m\u001b[0;34m(\u001b[0m\u001b[0;34m)\u001b[0m\u001b[0;34m)\u001b[0m\u001b[0;34m)\u001b[0m\u001b[0;34m)\u001b[0m\u001b[0;34m\u001b[0m\u001b[0;34m\u001b[0m\u001b[0m\n\u001b[0m",
      "\u001b[0;31mTypeError\u001b[0m: int() argument must be a string, a bytes-like object or a number, not 'dict_values'"
     ]
    }
   ],
   "source": [
    "plt.bar(set(int(llr.values())),Counter(int(llr.values())))"
   ]
  },
  {
   "cell_type": "code",
   "execution_count": 170,
   "metadata": {},
   "outputs": [
    {
     "data": {
      "text/plain": [
       "([<matplotlib.axis.XTick at 0x7f7d2f1d6710>,\n",
       "  <matplotlib.axis.XTick at 0x7f7d2f1d64d0>,\n",
       "  <matplotlib.axis.XTick at 0x7f7d2f503410>,\n",
       "  <matplotlib.axis.XTick at 0x7f7d2f1d29d0>,\n",
       "  <matplotlib.axis.XTick at 0x7f7d2f69e6d0>,\n",
       "  <matplotlib.axis.XTick at 0x7f7d2f69ec10>,\n",
       "  <matplotlib.axis.XTick at 0x7f7d2f69eb90>,\n",
       "  <matplotlib.axis.XTick at 0x7f7d2f6a6190>,\n",
       "  <matplotlib.axis.XTick at 0x7f7d2f6a67d0>,\n",
       "  <matplotlib.axis.XTick at 0x7f7d2f6a6d10>,\n",
       "  <matplotlib.axis.XTick at 0x7f7d2f6af2d0>,\n",
       "  <matplotlib.axis.XTick at 0x7f7d2f6af790>,\n",
       "  <matplotlib.axis.XTick at 0x7f7d2f6afcd0>,\n",
       "  <matplotlib.axis.XTick at 0x7f7d2f6b6250>,\n",
       "  <matplotlib.axis.XTick at 0x7f7d2f6b6790>,\n",
       "  <matplotlib.axis.XTick at 0x7f7d2f6b6cd0>,\n",
       "  <matplotlib.axis.XTick at 0x7f7d2f6b6b90>,\n",
       "  <matplotlib.axis.XTick at 0x7f7d2f6af710>,\n",
       "  <matplotlib.axis.XTick at 0x7f7d2f6a6090>,\n",
       "  <matplotlib.axis.XTick at 0x7f7d2f6be490>,\n",
       "  <matplotlib.axis.XTick at 0x7f7d2f6be9d0>,\n",
       "  <matplotlib.axis.XTick at 0x7f7d2f6bef10>,\n",
       "  <matplotlib.axis.XTick at 0x7f7d2f6c8490>,\n",
       "  <matplotlib.axis.XTick at 0x7f7d2f6c89d0>,\n",
       "  <matplotlib.axis.XTick at 0x7f7d2f6c8f10>,\n",
       "  <matplotlib.axis.XTick at 0x7f7d2f6d0490>,\n",
       "  <matplotlib.axis.XTick at 0x7f7d2f6c8950>,\n",
       "  <matplotlib.axis.XTick at 0x7f7d2f6a60d0>,\n",
       "  <matplotlib.axis.XTick at 0x7f7d2f6d0810>,\n",
       "  <matplotlib.axis.XTick at 0x7f7d2f6d0b90>,\n",
       "  <matplotlib.axis.XTick at 0x7f7d2f6da050>,\n",
       "  <matplotlib.axis.XTick at 0x7f7d2f6da650>,\n",
       "  <matplotlib.axis.XTick at 0x7f7d2f6dab90>,\n",
       "  <matplotlib.axis.XTick at 0x7f7d2f6e1050>,\n",
       "  <matplotlib.axis.XTick at 0x7f7d2f6e1650>,\n",
       "  <matplotlib.axis.XTick at 0x7f7d2f6e1b90>,\n",
       "  <matplotlib.axis.XTick at 0x7f7d2f6e12d0>,\n",
       "  <matplotlib.axis.XTick at 0x7f7d2f6da3d0>,\n",
       "  <matplotlib.axis.XTick at 0x7f7d2f6be150>,\n",
       "  <matplotlib.axis.XTick at 0x7f7d2f6eb3d0>,\n",
       "  <matplotlib.axis.XTick at 0x7f7d2f6eb910>,\n",
       "  <matplotlib.axis.XTick at 0x7f7d2f6ebe50>,\n",
       "  <matplotlib.axis.XTick at 0x7f7d2f6f43d0>,\n",
       "  <matplotlib.axis.XTick at 0x7f7d2f6f4910>,\n",
       "  <matplotlib.axis.XTick at 0x7f7d2f6f4e50>,\n",
       "  <matplotlib.axis.XTick at 0x7f7d2f6f4550>,\n",
       "  <matplotlib.axis.XTick at 0x7f7d2f6eb550>,\n",
       "  <matplotlib.axis.XTick at 0x7f7d2f6e1f90>,\n",
       "  <matplotlib.axis.XTick at 0x7f7d2f6fc150>,\n",
       "  <matplotlib.axis.XTick at 0x7f7d2f6fcb50>,\n",
       "  <matplotlib.axis.XTick at 0x7f7d2f6fc3d0>,\n",
       "  <matplotlib.axis.XTick at 0x7f7d2f705610>,\n",
       "  <matplotlib.axis.XTick at 0x7f7d2f705b50>,\n",
       "  <matplotlib.axis.XTick at 0x7f7d2f705090>,\n",
       "  <matplotlib.axis.XTick at 0x7f7d2f70b610>,\n",
       "  <matplotlib.axis.XTick at 0x7f7d2f705f50>,\n",
       "  <matplotlib.axis.XTick at 0x7f7d2f6e1090>,\n",
       "  <matplotlib.axis.XTick at 0x7f7d2f70b8d0>,\n",
       "  <matplotlib.axis.XTick at 0x7f7d2f70bd90>,\n",
       "  <matplotlib.axis.XTick at 0x7f7d2f715310>,\n",
       "  <matplotlib.axis.XTick at 0x7f7d2f715850>,\n",
       "  <matplotlib.axis.XTick at 0x7f7d2f715d90>,\n",
       "  <matplotlib.axis.XTick at 0x7f7d2f71d310>,\n",
       "  <matplotlib.axis.XTick at 0x7f7d2f71d850>,\n",
       "  <matplotlib.axis.XTick at 0x7f7d2f71dd90>,\n",
       "  <matplotlib.axis.XTick at 0x7f7d2f71d710>,\n",
       "  <matplotlib.axis.XTick at 0x7f7d2f7153d0>,\n",
       "  <matplotlib.axis.XTick at 0x7f7d2f70ba10>,\n",
       "  <matplotlib.axis.XTick at 0x7f7d2f6d06d0>,\n",
       "  <matplotlib.axis.XTick at 0x7f7d2f724310>,\n",
       "  <matplotlib.axis.XTick at 0x7f7d2f724850>,\n",
       "  <matplotlib.axis.XTick at 0x7f7d2f724d90>,\n",
       "  <matplotlib.axis.XTick at 0x7f7d2f72d310>,\n",
       "  <matplotlib.axis.XTick at 0x7f7d2f72d850>,\n",
       "  <matplotlib.axis.XTick at 0x7f7d2f72dd90>,\n",
       "  <matplotlib.axis.XTick at 0x7f7d2f72d710>,\n",
       "  <matplotlib.axis.XTick at 0x7f7d2f724490>,\n",
       "  <matplotlib.axis.XTick at 0x7f7d2f715f10>,\n",
       "  <matplotlib.axis.XTick at 0x7f7d2f739450>,\n",
       "  <matplotlib.axis.XTick at 0x7f7d2f739990>,\n",
       "  <matplotlib.axis.XTick at 0x7f7d2f739ed0>,\n",
       "  <matplotlib.axis.XTick at 0x7f7d2f742450>,\n",
       "  <matplotlib.axis.XTick at 0x7f7d2f742990>,\n",
       "  <matplotlib.axis.XTick at 0x7f7d2f742ed0>,\n",
       "  <matplotlib.axis.XTick at 0x7f7d2f7424d0>,\n",
       "  <matplotlib.axis.XTick at 0x7f7d2f739850>,\n",
       "  <matplotlib.axis.XTick at 0x7f7d2f72d550>,\n",
       "  <matplotlib.axis.XTick at 0x7f7d2f74b610>,\n",
       "  <matplotlib.axis.XTick at 0x7f7d2f74bc50>,\n",
       "  <matplotlib.axis.XTick at 0x7f7d2f753250>,\n",
       "  <matplotlib.axis.XTick at 0x7f7d2f753710>,\n",
       "  <matplotlib.axis.XTick at 0x7f7d2f753c50>,\n",
       "  <matplotlib.axis.XTick at 0x7f7d2f75b250>,\n",
       "  <matplotlib.axis.XTick at 0x7f7d2f75b710>,\n",
       "  <matplotlib.axis.XTick at 0x7f7d2f753290>,\n",
       "  <matplotlib.axis.XTick at 0x7f7d2f72d910>,\n",
       "  <matplotlib.axis.XTick at 0x7f7d2f75b450>,\n",
       "  <matplotlib.axis.XTick at 0x7f7d2f75b050>,\n",
       "  <matplotlib.axis.XTick at 0x7f7d2f765410>,\n",
       "  <matplotlib.axis.XTick at 0x7f7d2f765950>,\n",
       "  <matplotlib.axis.XTick at 0x7f7d2f765e90>,\n",
       "  <matplotlib.axis.XTick at 0x7f7d2f76c410>,\n",
       "  <matplotlib.axis.XTick at 0x7f7d2f76c950>,\n",
       "  <matplotlib.axis.XTick at 0x7f7d2f76ce90>,\n",
       "  <matplotlib.axis.XTick at 0x7f7d2f76c9d0>,\n",
       "  <matplotlib.axis.XTick at 0x7f7d2f765290>,\n",
       "  <matplotlib.axis.XTick at 0x7f7d2f74b6d0>,\n",
       "  <matplotlib.axis.XTick at 0x7f7d2f774650>,\n",
       "  <matplotlib.axis.XTick at 0x7f7d2f774b90>,\n",
       "  <matplotlib.axis.XTick at 0x7f7d2f77f050>,\n",
       "  <matplotlib.axis.XTick at 0x7f7d2f77f650>,\n",
       "  <matplotlib.axis.XTick at 0x7f7d2f77fb90>,\n",
       "  <matplotlib.axis.XTick at 0x7f7d2f785050>,\n",
       "  <matplotlib.axis.XTick at 0x7f7d2f785650>,\n",
       "  <matplotlib.axis.XTick at 0x7f7d2f77f710>,\n",
       "  <matplotlib.axis.XTick at 0x7f7d2f75bc50>,\n",
       "  <matplotlib.axis.XTick at 0x7f7d2f785750>,\n",
       "  <matplotlib.axis.XTick at 0x7f7d2f785d50>,\n",
       "  <matplotlib.axis.XTick at 0x7f7d2f78e2d0>,\n",
       "  <matplotlib.axis.XTick at 0x7f7d2f78e810>,\n",
       "  <matplotlib.axis.XTick at 0x7f7d2f78ed50>,\n",
       "  <matplotlib.axis.XTick at 0x7f7d2f7972d0>,\n",
       "  <matplotlib.axis.XTick at 0x7f7d2f797810>,\n",
       "  <matplotlib.axis.XTick at 0x7f7d2f797d50>,\n",
       "  <matplotlib.axis.XTick at 0x7f7d2f797e50>,\n",
       "  <matplotlib.axis.XTick at 0x7f7d2f78e350>,\n",
       "  <matplotlib.axis.XTick at 0x7f7d2f77fb10>,\n",
       "  <matplotlib.axis.XTick at 0x7f7d2f79d590>,\n",
       "  <matplotlib.axis.XTick at 0x7f7d2f79dad0>,\n",
       "  <matplotlib.axis.XTick at 0x7f7d2f79d310>,\n",
       "  <matplotlib.axis.XTick at 0x7f7d2f7a9590>,\n",
       "  <matplotlib.axis.XTick at 0x7f7d2f7a9ad0>,\n",
       "  <matplotlib.axis.XTick at 0x7f7d2f7a9310>,\n",
       "  <matplotlib.axis.XTick at 0x7f7d2f7a9510>,\n",
       "  <matplotlib.axis.XTick at 0x7f7d2f79d190>,\n",
       "  <matplotlib.axis.XTick at 0x7f7d2f79db50>,\n",
       "  <matplotlib.axis.XTick at 0x7f7d2f7b1810>,\n",
       "  <matplotlib.axis.XTick at 0x7f7d2f7b1d10>,\n",
       "  <matplotlib.axis.XTick at 0x7f7d2f7bc290>,\n",
       "  <matplotlib.axis.XTick at 0x7f7d2f7bc7d0>,\n",
       "  <matplotlib.axis.XTick at 0x7f7d2f7bcd10>,\n",
       "  <matplotlib.axis.XTick at 0x7f7d2f7c4290>,\n",
       "  <matplotlib.axis.XTick at 0x7f7d2f7c47d0>,\n",
       "  <matplotlib.axis.XTick at 0x7f7d2f7bc790>,\n",
       "  <matplotlib.axis.XTick at 0x7f7d2f7a9450>,\n",
       "  <matplotlib.axis.XTick at 0x7f7d2f7c4c50>],\n",
       " <a list of 146 Text major ticklabel objects>)"
      ]
     },
     "execution_count": 170,
     "metadata": {},
     "output_type": "execute_result"
    },
    {
     "data": {
      "image/png": "[encoded data removed]",
      "text/plain": [
       "<Figure size 432x288 with 1 Axes>"
      ]
     },
     "metadata": {
      "needs_background": "light"
     },
     "output_type": "display_data"
    }
   ],
   "source": [
    "bins= range(int(min(dw.values()))-1,int(max(dw.values()))+1, 5)\n",
    "plt.hist(dw.values(), bins=bins, edgecolor=\"k\")\n",
    "plt.xticks(bins)"
   ]
  },
  {
   "cell_type": "code",
   "execution_count": 184,
   "metadata": {},
   "outputs": [
    {
     "data": {
      "text/plain": [
       "7/96                            0.026366\n",
       "b4 2.0e limousine               0.026366\n",
       "„ ansatz                        0.026366\n",
       "90er raus                       0.026366\n",
       "6er                             0.026366\n",
       "heißester tipp                  0.026366\n",
       "eingebaute motorsportpumpe      0.026366\n",
       "ing                             0.026366\n",
       "audi a4                         0.026366\n",
       "ordentliche untersuchung        0.026366\n",
       "karbidlampe                     0.026366\n",
       "zahnriemens                     0.026366\n",
       "garkeine mechanischen kräfte    0.026366\n",
       "typenklassen                    0.026366\n",
       "panels                          0.026366\n",
       "dtype: float64"
      ]
     },
     "execution_count": 184,
     "metadata": {},
     "output_type": "execute_result"
    }
   ],
   "source": [
    "pd.Series(dw).sort_values(ascending = False).tail(15)"
   ]
  },
  {
   "cell_type": "markdown",
   "metadata": {},
   "source": [
    "## Select Concepts from Background Knowledge"
   ]
  },
  {
   "cell_type": "code",
   "execution_count": 8,
   "metadata": {},
   "outputs": [],
   "source": [
    "def get_concepts(candidates, car_terms, adac_terms, chefkoch_terms):\n",
    "    concepts = set()\n",
    "    counter1 = 0\n",
    "    counter2 = 0\n",
    "    \n",
    "    for candidate in candidates:\n",
    "        if not method:\n",
    "            try:\n",
    "                adac_terms[candidate]\n",
    "            except KeyError:\n",
    "                adac_terms[candidate] = 0\n",
    "\n",
    "            try:\n",
    "                chefkoch_terms[candidate]\n",
    "            except KeyError:\n",
    "                chefkoch_terms[candidate] = 0\n",
    "\n",
    "            if adac_terms[candidate] > chefkoch_terms[candidate]:\n",
    "                concepts.add(candidate)\n",
    "                counter1 += 1\n",
    "            elif car_terms[candidate] > chefkoch_terms[candidate]:\n",
    "                concepts.add(candidate)\n",
    "                counter2 += 1\n",
    "            \n",
    "    print(counter1, counter2)\n",
    "    return concepts"
   ]
  },
  {
   "cell_type": "code",
   "execution_count": 141,
   "metadata": {},
   "outputs": [],
   "source": [
    "def get_llr_concepts(candidates, llr):\n",
    "    concepts = set()\n",
    "    for candidate in candidates:\n",
    "        if llr[candidate] > -2:\n",
    "            concepts.add(candidate)\n",
    "    return concepts"
   ]
  },
  {
   "cell_type": "code",
   "execution_count": 84,
   "metadata": {},
   "outputs": [],
   "source": [
    "def get_dw_concepts(candidates, dw):\n",
    "    concepts = set()\n",
    "    for candidate in candidates:\n",
    "        if dw[candidate] > 0.03:\n",
    "            concepts.add(candidate)\n",
    "    return concepts"
   ]
  },
  {
   "cell_type": "code",
   "execution_count": 142,
   "metadata": {},
   "outputs": [],
   "source": [
    "candidates = set([item for sublist in car_domain for item in sublist])"
   ]
  },
  {
   "cell_type": "code",
   "execution_count": 143,
   "metadata": {},
   "outputs": [],
   "source": [
    "#concepts = get_concepts(candidates, car_relevance, adac_relevance, chefkoch_relevance)\n",
    "concepts = get_llr_concepts(candidates, llr)\n",
    "#concepts = get_dw_concepts(candidates, dw)"
   ]
  },
  {
   "cell_type": "code",
   "execution_count": 144,
   "metadata": {},
   "outputs": [
    {
     "name": "stdout",
     "output_type": "stream",
     "text": [
      "10377 VS. 9644\n"
     ]
    }
   ],
   "source": [
    "print(len(candidates), \"VS.\", len(concepts))"
   ]
  },
  {
   "cell_type": "markdown",
   "metadata": {},
   "source": [
    "## Test Concept Export and Import"
   ]
  },
  {
   "cell_type": "code",
   "execution_count": 254,
   "metadata": {},
   "outputs": [],
   "source": [
    "#concepts = list(set([item for sublist in adac_domain for item in sublist]))\n",
    "with open(\"concepts.txt\", \"w\") as fp:\n",
    "    fp.writelines('\\n'.join(concepts))"
   ]
  },
  {
   "cell_type": "code",
   "execution_count": 140,
   "metadata": {},
   "outputs": [],
   "source": [
    "with open(\"concepts.txt\", \"r\") as f:\n",
    "    content = f.readlines()\n",
    "# you may also want to remove whitespace characters like `\\n` at the end of each line\n",
    "content = [x.strip() for x in content] "
   ]
  },
  {
   "cell_type": "markdown",
   "metadata": {},
   "source": [
    "## Generate Random Testset and Test Concept generation"
   ]
  },
  {
   "cell_type": "code",
   "execution_count": 136,
   "metadata": {},
   "outputs": [],
   "source": [
    "from random import sample\n",
    "\n",
    "#testset = sample(candidates, 500)"
   ]
  },
  {
   "cell_type": "code",
   "execution_count": 20,
   "metadata": {},
   "outputs": [],
   "source": [
    "with open(\"testset.txt\", \"r\") as f:\n",
    "    testset = f.readlines()\n",
    "# you may also want to remove whitespace characters like `\\n` at the end of each line\n",
    "testset = [x.strip() for x in testset] "
   ]
  },
  {
   "cell_type": "code",
   "execution_count": 92,
   "metadata": {},
   "outputs": [],
   "source": [
    "import csv\n",
    "reader = csv.reader(open('testset_labeled.csv', 'r'),delimiter=';')\n",
    "labeled = {}\n",
    "for row in reader:\n",
    "    k, v = row\n",
    "    labeled[k] = v"
   ]
  },
  {
   "cell_type": "code",
   "execution_count": 93,
   "metadata": {},
   "outputs": [],
   "source": [
    "def label_concepts(candidates, car_terms, adac_terms, chefkoch_terms):\n",
    "    label = {}\n",
    "    for candidate in candidates:\n",
    "        label[candidate] = 0\n",
    "        try:\n",
    "            adac_terms[candidate]\n",
    "        except:\n",
    "            adac_terms[candidate] = 0\n",
    "        try:\n",
    "            chefkoch_terms[candidate]\n",
    "        except:\n",
    "            chefkoch_terms[candidate] = 0\n",
    "        if adac_terms[candidate] and not chefkoch_terms[candidate]:\n",
    "            label[candidate] = 1\n",
    "        if car_terms[candidate] and not chefkoch_terms[candidate]:\n",
    "            label[candidate] = 1\n",
    "    return label"
   ]
  },
  {
   "cell_type": "code",
   "execution_count": 145,
   "metadata": {},
   "outputs": [],
   "source": [
    "def label_llr_concepts(candidates, llr):\n",
    "    label = {}\n",
    "    for candidate in candidates:\n",
    "        label[candidate] = 0\n",
    "        if llr[candidate] > -2:\n",
    "            label[candidate] = 1\n",
    "    return label"
   ]
  },
  {
   "cell_type": "code",
   "execution_count": 127,
   "metadata": {},
   "outputs": [],
   "source": [
    "def label_dw_concepts(candidates, dw):\n",
    "    label = {}\n",
    "    for candidate in candidates:\n",
    "        label[candidate] = 0\n",
    "        if dw[candidate] > 0.03:\n",
    "            label[candidate] = 1\n",
    "    return label"
   ]
  },
  {
   "cell_type": "code",
   "execution_count": 146,
   "metadata": {},
   "outputs": [],
   "source": [
    "#predicted = label_concepts(testset, car_relevance, adac_relevance, chefkoch_relevance)\n",
    "#predicted = label_llr_concepts(testset, llr)\n",
    "predicted = label_dw_concepts(testset, dw)"
   ]
  },
  {
   "cell_type": "code",
   "execution_count": 147,
   "metadata": {},
   "outputs": [],
   "source": [
    "import pandas as pd\n",
    "\n",
    "df = pd.DataFrame.from_dict(labeled,orient='index', columns = [\"label\"])\n",
    "df[\"predicted\"] = predicted.values()"
   ]
  },
  {
   "cell_type": "code",
   "execution_count": 148,
   "metadata": {},
   "outputs": [],
   "source": [
    "from sklearn.metrics import confusion_matrix, classification_report"
   ]
  },
  {
   "cell_type": "code",
   "execution_count": 149,
   "metadata": {},
   "outputs": [
    {
     "data": {
      "text/plain": [
       "array([[ 68,  97],\n",
       "       [189, 146]])"
      ]
     },
     "execution_count": 149,
     "metadata": {},
     "output_type": "execute_result"
    }
   ],
   "source": [
    "confusion_matrix(pd.to_numeric(df[\"label\"]), pd.to_numeric(df[\"predicted\"]))"
   ]
  },
  {
   "cell_type": "code",
   "execution_count": 150,
   "metadata": {},
   "outputs": [
    {
     "name": "stdout",
     "output_type": "stream",
     "text": [
      "              precision    recall  f1-score   support\n",
      "\n",
      "           0       0.26      0.41      0.32       165\n",
      "           1       0.60      0.44      0.51       335\n",
      "\n",
      "    accuracy                           0.43       500\n",
      "   macro avg       0.43      0.42      0.41       500\n",
      "weighted avg       0.49      0.43      0.44       500\n",
      "\n"
     ]
    }
   ],
   "source": [
    "print(classification_report(pd.to_numeric(df[\"label\"]), pd.to_numeric(df[\"predicted\"])))"
   ]
  },
  {
   "cell_type": "code",
   "execution_count": null,
   "metadata": {},
   "outputs": [],
   "source": []
  },
  {
   "cell_type": "code",
   "execution_count": null,
   "metadata": {},
   "outputs": [],
   "source": []
  },
  {
   "cell_type": "code",
   "execution_count": null,
   "metadata": {},
   "outputs": [],
   "source": []
  },
  {
   "cell_type": "code",
   "execution_count": null,
   "metadata": {},
   "outputs": [],
   "source": []
  }
 ],
 "metadata": {
  "kernelspec": {
   "display_name": "spacy",
   "language": "python",
   "name": "spacy"
  },
  "language_info": {
   "codemirror_mode": {
    "name": "ipython",
    "version": 3
   },
   "file_extension": ".py",
   "mimetype": "text/x-python",
   "name": "python",
   "nbconvert_exporter": "python",
   "pygments_lexer": "ipython3",
   "version": "3.7.6"
  }
 },
 "nbformat": 4,
 "nbformat_minor": 4
}
