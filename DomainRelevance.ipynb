{
 "cells": [
  {
   "cell_type": "markdown",
   "metadata": {},
   "source": [
    "# Domain Relevance Evaluation\n",
    "\n",
    "Comparing different methods to get domain relevant terms "
   ]
  },
  {
   "cell_type": "code",
   "execution_count": 1,
   "metadata": {},
   "outputs": [],
   "source": [
    "from tqdm import tqdm\n",
    "from parts import collect, oie, domain_relevance, preprocessing"
   ]
  },
  {
   "cell_type": "markdown",
   "metadata": {},
   "source": [
    "## Initial Load of Background Domains"
   ]
  },
  {
   "cell_type": "code",
   "execution_count": null,
   "metadata": {},
   "outputs": [],
   "source": [
    "# adac domain\n",
    "\n",
    "def get_corpus(topic, domain, limit, export):\n",
    "    corpus = []\n",
    "    path = \"resources/txt/\"\n",
    "    counter = 0\n",
    "    links = collect.get_links(topic, domain, limit)\n",
    "    for link in tqdm(links):\n",
    "        if collect.get_text(link, domain):\n",
    "            text = \" ; \".join(collect.get_text(link, domain))\n",
    "            if len(text) < 100000 and text:\n",
    "                corpus.append(text)\n",
    "                if export:\n",
    "                    with open(path+domain+\"/\"+str(counter)+\".txt\", \"w\") as file:\n",
    "                        file.write(text)\n",
    "                    counter += 1\n",
    "    return corpus"
   ]
  },
  {
   "cell_type": "code",
   "execution_count": null,
   "metadata": {
    "scrolled": true
   },
   "outputs": [],
   "source": [
    "adac_corpus = get_corpus(0,\"adac\",0,1)"
   ]
  },
  {
   "cell_type": "code",
   "execution_count": null,
   "metadata": {},
   "outputs": [],
   "source": [
    "chefkoch_corpus = get_corpus(\"https://www.chefkoch.de/forum/1,27/Haus-Garten.html\",\"chefkoch\",5,1)"
   ]
  },
  {
   "cell_type": "code",
   "execution_count": null,
   "metadata": {},
   "outputs": [],
   "source": [
    "car_corpus = get_corpus(\"https://www.motor-talk.de/forum/audi-80-90-100-200-v8-b158.html\",\"car\",3,1)"
   ]
  },
  {
   "cell_type": "markdown",
   "metadata": {},
   "source": [
    "## Load Background Domains and Extract Terms"
   ]
  },
  {
   "cell_type": "code",
   "execution_count": 85,
   "metadata": {},
   "outputs": [],
   "source": [
    "from collections import Counter\n",
    "\n",
    "def clean_uniques(terms):\n",
    "    clean_terms = []\n",
    "    counter = 0\n",
    "    tf = Counter(terms)\n",
    "    for term in tf:\n",
    "        if tf[term] > 1:\n",
    "            clean_terms.append(term)\n",
    "        else:\n",
    "            counter += 1\n",
    "    print(counter,\"terms removed due to uniques\")\n",
    "    return clean_terms"
   ]
  },
  {
   "cell_type": "code",
   "execution_count": 86,
   "metadata": {},
   "outputs": [],
   "source": [
    "### import car_domain from files\n",
    "\n",
    "def load_domain_terms(domain, limit, clean = 0, del_unique = 0):\n",
    "    counter = 0\n",
    "    path = \"resources/txt/\"\n",
    "    corpus = []\n",
    "    terms = []\n",
    "    while counter < limit:\n",
    "        try:\n",
    "            with open(path+domain+\"/\"+str(counter)+\".txt\", \"r\") as file:\n",
    "                corpus.append(file.read())\n",
    "            counter += 1\n",
    "        except:\n",
    "            break\n",
    "    \n",
    "    for doc in tqdm(corpus):\n",
    "        if del_unique:\n",
    "            doc_terms = clean_uniques(oie.get_terms(doc))\n",
    "        else:\n",
    "            doc_terms = oie.get_terms(doc)\n",
    "        terms.append(doc_terms)\n",
    "    if clean:    \n",
    "        terms = preprocessing.post_term_cleaning(terms)\n",
    "        \n",
    "    return terms"
   ]
  },
  {
   "cell_type": "code",
   "execution_count": 62,
   "metadata": {},
   "outputs": [
    {
     "name": "stderr",
     "output_type": "stream",
     "text": [
      "100%|██████████| 2524/2524 [01:20<00:00, 31.19it/s]\n"
     ]
    },
    {
     "name": "stdout",
     "output_type": "stream",
     "text": [
      "deleted time references: 0\n",
      "deleted date references: 287\n",
      "deleted links: 77\n",
      "deleted quotes: 63\n",
      "deleted ireg expressions: 38\n",
      "deleted abbreviations: 206\n"
     ]
    }
   ],
   "source": [
    "adac_domain = load_domain_terms(\"adac\", 10000, 1, 0)"
   ]
  },
  {
   "cell_type": "code",
   "execution_count": 87,
   "metadata": {
    "scrolled": true
   },
   "outputs": [
    {
     "name": "stderr",
     "output_type": "stream",
     "text": [
      "  2%|▏         | 3/174 [00:00<00:08, 21.04it/s]"
     ]
    },
    {
     "name": "stdout",
     "output_type": "stream",
     "text": [
      "33 terms removed due to uniques\n",
      "8 terms removed due to uniques\n",
      "72 terms removed due to uniques\n",
      "9 terms removed due to uniques\n",
      "15 terms removed due to uniques\n"
     ]
    },
    {
     "name": "stderr",
     "output_type": "stream",
     "text": [
      "  5%|▍         | 8/174 [00:00<00:08, 19.47it/s]"
     ]
    },
    {
     "name": "stdout",
     "output_type": "stream",
     "text": [
      "98 terms removed due to uniques\n",
      "50 terms removed due to uniques\n",
      "67 terms removed due to uniques\n"
     ]
    },
    {
     "name": "stderr",
     "output_type": "stream",
     "text": [
      "\r",
      "  6%|▌         | 10/174 [00:00<00:13, 12.31it/s]"
     ]
    },
    {
     "name": "stdout",
     "output_type": "stream",
     "text": [
      "219 terms removed due to uniques\n",
      "43 terms removed due to uniques\n",
      "13 terms removed due to uniques\n"
     ]
    },
    {
     "name": "stderr",
     "output_type": "stream",
     "text": [
      "\r",
      "  7%|▋         | 12/174 [00:00<00:14, 11.17it/s]"
     ]
    },
    {
     "name": "stdout",
     "output_type": "stream",
     "text": [
      "130 terms removed due to uniques\n",
      "35 terms removed due to uniques\n"
     ]
    },
    {
     "name": "stderr",
     "output_type": "stream",
     "text": [
      " 10%|█         | 18/174 [00:01<00:14, 10.83it/s]"
     ]
    },
    {
     "name": "stdout",
     "output_type": "stream",
     "text": [
      "368 terms removed due to uniques\n",
      "54 terms removed due to uniques\n",
      "8 terms removed due to uniques\n",
      "6 terms removed due to uniques\n",
      "32 terms removed due to uniques\n"
     ]
    },
    {
     "name": "stderr",
     "output_type": "stream",
     "text": [
      " 13%|█▎        | 22/174 [00:01<00:16,  9.21it/s]"
     ]
    },
    {
     "name": "stdout",
     "output_type": "stream",
     "text": [
      "247 terms removed due to uniques\n",
      "57 terms removed due to uniques\n",
      "73 terms removed due to uniques\n",
      "44 terms removed due to uniques\n"
     ]
    },
    {
     "name": "stderr",
     "output_type": "stream",
     "text": [
      "\r",
      " 14%|█▍        | 24/174 [00:02<00:14, 10.36it/s]"
     ]
    },
    {
     "name": "stdout",
     "output_type": "stream",
     "text": [
      "35 terms removed due to uniques\n",
      "99 terms removed due to uniques\n",
      "76 terms removed due to uniques\n"
     ]
    },
    {
     "name": "stderr",
     "output_type": "stream",
     "text": [
      "\r",
      " 15%|█▍        | 26/174 [00:02<00:19,  7.43it/s]"
     ]
    },
    {
     "name": "stdout",
     "output_type": "stream",
     "text": [
      "316 terms removed due to uniques\n",
      "132 terms removed due to uniques\n"
     ]
    },
    {
     "name": "stderr",
     "output_type": "stream",
     "text": [
      "\r",
      " 16%|█▌        | 28/174 [00:02<00:18,  7.71it/s]"
     ]
    },
    {
     "name": "stdout",
     "output_type": "stream",
     "text": [
      "57 terms removed due to uniques\n",
      "155 terms removed due to uniques\n"
     ]
    },
    {
     "name": "stderr",
     "output_type": "stream",
     "text": [
      " 18%|█▊        | 32/174 [00:03<00:15,  9.27it/s]"
     ]
    },
    {
     "name": "stdout",
     "output_type": "stream",
     "text": [
      "50 terms removed due to uniques\n",
      "108 terms removed due to uniques\n",
      "28 terms removed due to uniques\n"
     ]
    },
    {
     "name": "stderr",
     "output_type": "stream",
     "text": [
      "\r",
      " 20%|██        | 35/174 [00:03<00:13, 10.43it/s]"
     ]
    },
    {
     "name": "stdout",
     "output_type": "stream",
     "text": [
      "84 terms removed due to uniques\n",
      "15 terms removed due to uniques\n",
      "67 terms removed due to uniques\n",
      "38 terms removed due to uniques\n"
     ]
    },
    {
     "name": "stderr",
     "output_type": "stream",
     "text": [
      "\r",
      " 22%|██▏       | 38/174 [00:03<00:12, 10.81it/s]"
     ]
    },
    {
     "name": "stdout",
     "output_type": "stream",
     "text": [
      "53 terms removed due to uniques\n",
      "172 terms removed due to uniques\n",
      "44 terms removed due to uniques\n"
     ]
    },
    {
     "name": "stderr",
     "output_type": "stream",
     "text": [
      "\r",
      " 23%|██▎       | 40/174 [00:03<00:14,  9.51it/s]"
     ]
    },
    {
     "name": "stdout",
     "output_type": "stream",
     "text": [
      "176 terms removed due to uniques\n",
      "125 terms removed due to uniques\n"
     ]
    },
    {
     "name": "stderr",
     "output_type": "stream",
     "text": [
      " 26%|██▌       | 45/174 [00:04<00:11, 10.75it/s]"
     ]
    },
    {
     "name": "stdout",
     "output_type": "stream",
     "text": [
      "112 terms removed due to uniques\n",
      "35 terms removed due to uniques\n",
      "41 terms removed due to uniques\n",
      "23 terms removed due to uniques\n",
      "22 terms removed due to uniques\n"
     ]
    },
    {
     "name": "stderr",
     "output_type": "stream",
     "text": [
      "\r",
      " 27%|██▋       | 47/174 [00:04<00:10, 12.20it/s]"
     ]
    },
    {
     "name": "stdout",
     "output_type": "stream",
     "text": [
      "65 terms removed due to uniques\n",
      "13 terms removed due to uniques\n"
     ]
    },
    {
     "name": "stderr",
     "output_type": "stream",
     "text": [
      "\r",
      " 28%|██▊       | 49/174 [00:04<00:11, 11.18it/s]"
     ]
    },
    {
     "name": "stdout",
     "output_type": "stream",
     "text": [
      "135 terms removed due to uniques\n"
     ]
    },
    {
     "name": "stderr",
     "output_type": "stream",
     "text": [
      "\r",
      " 29%|██▉       | 51/174 [00:04<00:13,  9.12it/s]"
     ]
    },
    {
     "name": "stdout",
     "output_type": "stream",
     "text": [
      "176 terms removed due to uniques\n",
      "29 terms removed due to uniques\n",
      "46 terms removed due to uniques\n",
      "34 terms removed due to uniques\n"
     ]
    },
    {
     "name": "stderr",
     "output_type": "stream",
     "text": [
      " 33%|███▎      | 57/174 [00:05<00:10, 11.57it/s]"
     ]
    },
    {
     "name": "stdout",
     "output_type": "stream",
     "text": [
      "54 terms removed due to uniques\n",
      "8 terms removed due to uniques\n",
      "57 terms removed due to uniques\n",
      "120 terms removed due to uniques\n"
     ]
    },
    {
     "name": "stderr",
     "output_type": "stream",
     "text": [
      "\r",
      " 34%|███▍      | 59/174 [00:05<00:11,  9.83it/s]"
     ]
    },
    {
     "name": "stdout",
     "output_type": "stream",
     "text": [
      "64 terms removed due to uniques\n",
      "175 terms removed due to uniques\n"
     ]
    },
    {
     "name": "stderr",
     "output_type": "stream",
     "text": [
      "\r",
      " 35%|███▌      | 61/174 [00:05<00:09, 11.42it/s]"
     ]
    },
    {
     "name": "stdout",
     "output_type": "stream",
     "text": [
      "61 terms removed due to uniques\n",
      "16 terms removed due to uniques\n"
     ]
    },
    {
     "name": "stderr",
     "output_type": "stream",
     "text": [
      "\r",
      " 36%|███▌      | 63/174 [00:06<00:14,  7.47it/s]"
     ]
    },
    {
     "name": "stdout",
     "output_type": "stream",
     "text": [
      "226 terms removed due to uniques\n",
      "92 terms removed due to uniques\n",
      "54 terms removed due to uniques\n"
     ]
    },
    {
     "name": "stderr",
     "output_type": "stream",
     "text": [
      "\r",
      " 37%|███▋      | 65/174 [00:06<00:13,  8.31it/s]"
     ]
    },
    {
     "name": "stdout",
     "output_type": "stream",
     "text": [
      "71 terms removed due to uniques\n",
      "16 terms removed due to uniques\n",
      "15 terms removed due to uniques\n"
     ]
    },
    {
     "name": "stderr",
     "output_type": "stream",
     "text": [
      "\r",
      " 39%|███▉      | 68/174 [00:06<00:11,  9.51it/s]"
     ]
    },
    {
     "name": "stdout",
     "output_type": "stream",
     "text": [
      "81 terms removed due to uniques\n",
      "61 terms removed due to uniques\n",
      "27 terms removed due to uniques\n"
     ]
    },
    {
     "name": "stderr",
     "output_type": "stream",
     "text": [
      "\r",
      " 41%|████      | 71/174 [00:06<00:11,  8.89it/s]"
     ]
    },
    {
     "name": "stdout",
     "output_type": "stream",
     "text": [
      "154 terms removed due to uniques\n"
     ]
    },
    {
     "name": "stderr",
     "output_type": "stream",
     "text": [
      "\r",
      " 42%|████▏     | 73/174 [00:07<00:13,  7.66it/s]"
     ]
    },
    {
     "name": "stdout",
     "output_type": "stream",
     "text": [
      "222 terms removed due to uniques\n",
      "87 terms removed due to uniques\n",
      "17 terms removed due to uniques\n",
      "55 terms removed due to uniques\n"
     ]
    },
    {
     "name": "stderr",
     "output_type": "stream",
     "text": [
      " 45%|████▍     | 78/174 [00:07<00:09, 10.58it/s]"
     ]
    },
    {
     "name": "stdout",
     "output_type": "stream",
     "text": [
      "26 terms removed due to uniques\n",
      "84 terms removed due to uniques\n",
      "18 terms removed due to uniques\n"
     ]
    },
    {
     "name": "stderr",
     "output_type": "stream",
     "text": [
      "\r",
      " 46%|████▌     | 80/174 [00:07<00:09,  9.61it/s]"
     ]
    },
    {
     "name": "stdout",
     "output_type": "stream",
     "text": [
      "31 terms removed due to uniques\n",
      "149 terms removed due to uniques\n"
     ]
    },
    {
     "name": "stderr",
     "output_type": "stream",
     "text": [
      " 49%|████▉     | 86/174 [00:08<00:10,  8.45it/s]"
     ]
    },
    {
     "name": "stdout",
     "output_type": "stream",
     "text": [
      "293 terms removed due to uniques\n",
      "35 terms removed due to uniques\n",
      "18 terms removed due to uniques\n",
      "21 terms removed due to uniques\n",
      "20 terms removed due to uniques\n",
      "25 terms removed due to uniques\n",
      "103 terms removed due to uniques\n"
     ]
    },
    {
     "name": "stderr",
     "output_type": "stream",
     "text": [
      "\r",
      " 51%|█████     | 88/174 [00:08<00:13,  6.29it/s]"
     ]
    },
    {
     "name": "stdout",
     "output_type": "stream",
     "text": [
      "126 terms removed due to uniques\n",
      "15 terms removed due to uniques\n",
      "41 terms removed due to uniques\n"
     ]
    },
    {
     "name": "stderr",
     "output_type": "stream",
     "text": [
      "\r",
      " 52%|█████▏    | 91/174 [00:09<00:11,  7.04it/s]"
     ]
    },
    {
     "name": "stdout",
     "output_type": "stream",
     "text": [
      "145 terms removed due to uniques\n"
     ]
    },
    {
     "name": "stderr",
     "output_type": "stream",
     "text": [
      "\r",
      " 53%|█████▎    | 93/174 [00:09<00:15,  5.34it/s]"
     ]
    },
    {
     "name": "stdout",
     "output_type": "stream",
     "text": [
      "154 terms removed due to uniques\n",
      "31 terms removed due to uniques\n",
      "45 terms removed due to uniques\n"
     ]
    },
    {
     "name": "stderr",
     "output_type": "stream",
     "text": [
      " 56%|█████▌    | 97/174 [00:10<00:10,  7.22it/s]"
     ]
    },
    {
     "name": "stdout",
     "output_type": "stream",
     "text": [
      "125 terms removed due to uniques\n",
      "57 terms removed due to uniques\n",
      "55 terms removed due to uniques\n",
      "42 terms removed due to uniques\n"
     ]
    },
    {
     "name": "stderr",
     "output_type": "stream",
     "text": [
      " 58%|█████▊    | 101/174 [00:10<00:08,  9.12it/s]"
     ]
    },
    {
     "name": "stdout",
     "output_type": "stream",
     "text": [
      "45 terms removed due to uniques\n",
      "114 terms removed due to uniques\n",
      "53 terms removed due to uniques\n"
     ]
    },
    {
     "name": "stderr",
     "output_type": "stream",
     "text": [
      "\r",
      " 60%|█████▉    | 104/174 [00:10<00:06, 10.13it/s]"
     ]
    },
    {
     "name": "stdout",
     "output_type": "stream",
     "text": [
      "22 terms removed due to uniques\n",
      "12 terms removed due to uniques\n",
      "126 terms removed due to uniques\n"
     ]
    },
    {
     "name": "stderr",
     "output_type": "stream",
     "text": [
      "\r",
      " 61%|██████    | 106/174 [00:11<00:07,  9.29it/s]"
     ]
    },
    {
     "name": "stdout",
     "output_type": "stream",
     "text": [
      "63 terms removed due to uniques\n",
      "137 terms removed due to uniques\n"
     ]
    },
    {
     "name": "stderr",
     "output_type": "stream",
     "text": [
      "\r",
      " 63%|██████▎   | 109/174 [00:11<00:05, 11.07it/s]"
     ]
    },
    {
     "name": "stdout",
     "output_type": "stream",
     "text": [
      "47 terms removed due to uniques\n",
      "37 terms removed due to uniques\n",
      "66 terms removed due to uniques\n",
      "18 terms removed due to uniques\n",
      "20 terms removed due to uniques\n"
     ]
    },
    {
     "name": "stderr",
     "output_type": "stream",
     "text": [
      " 67%|██████▋   | 116/174 [00:11<00:04, 13.11it/s]"
     ]
    },
    {
     "name": "stdout",
     "output_type": "stream",
     "text": [
      "216 terms removed due to uniques\n",
      "9 terms removed due to uniques\n",
      "22 terms removed due to uniques\n",
      "41 terms removed due to uniques\n",
      "102 terms removed due to uniques\n"
     ]
    },
    {
     "name": "stderr",
     "output_type": "stream",
     "text": [
      "\r",
      " 68%|██████▊   | 118/174 [00:11<00:03, 14.41it/s]"
     ]
    },
    {
     "name": "stdout",
     "output_type": "stream",
     "text": [
      "19 terms removed due to uniques\n",
      "78 terms removed due to uniques\n",
      "63 terms removed due to uniques\n"
     ]
    },
    {
     "name": "stderr",
     "output_type": "stream",
     "text": [
      " 71%|███████   | 123/174 [00:11<00:02, 17.22it/s]"
     ]
    },
    {
     "name": "stdout",
     "output_type": "stream",
     "text": [
      "63 terms removed due to uniques\n",
      "15 terms removed due to uniques\n",
      "44 terms removed due to uniques\n",
      "34 terms removed due to uniques\n"
     ]
    },
    {
     "name": "stderr",
     "output_type": "stream",
     "text": [
      "\r",
      " 72%|███████▏  | 125/174 [00:12<00:03, 12.98it/s]"
     ]
    },
    {
     "name": "stdout",
     "output_type": "stream",
     "text": [
      "215 terms removed due to uniques\n",
      "23 terms removed due to uniques\n",
      "38 terms removed due to uniques\n"
     ]
    },
    {
     "name": "stderr",
     "output_type": "stream",
     "text": [
      " 76%|███████▋  | 133/174 [00:12<00:02, 15.44it/s]"
     ]
    },
    {
     "name": "stdout",
     "output_type": "stream",
     "text": [
      "66 terms removed due to uniques\n",
      "20 terms removed due to uniques\n",
      "8 terms removed due to uniques\n",
      "19 terms removed due to uniques\n",
      "22 terms removed due to uniques\n",
      "18 terms removed due to uniques\n",
      "24 terms removed due to uniques\n",
      "26 terms removed due to uniques\n"
     ]
    },
    {
     "name": "stderr",
     "output_type": "stream",
     "text": [
      "\r",
      " 78%|███████▊  | 136/174 [00:12<00:02, 16.30it/s]"
     ]
    },
    {
     "name": "stdout",
     "output_type": "stream",
     "text": [
      "43 terms removed due to uniques\n",
      "83 terms removed due to uniques\n"
     ]
    },
    {
     "name": "stderr",
     "output_type": "stream",
     "text": [
      "\r",
      " 80%|███████▉  | 139/174 [00:13<00:03,  9.84it/s]"
     ]
    },
    {
     "name": "stdout",
     "output_type": "stream",
     "text": [
      "318 terms removed due to uniques\n",
      "73 terms removed due to uniques\n",
      "55 terms removed due to uniques\n",
      "38 terms removed due to uniques\n",
      "8 terms removed due to uniques\n",
      "16 terms removed due to uniques\n"
     ]
    },
    {
     "name": "stderr",
     "output_type": "stream",
     "text": [
      " 84%|████████▍ | 146/174 [00:13<00:02, 12.68it/s]"
     ]
    },
    {
     "name": "stdout",
     "output_type": "stream",
     "text": [
      "177 terms removed due to uniques\n",
      "42 terms removed due to uniques\n",
      "30 terms removed due to uniques\n",
      "5 terms removed due to uniques\n",
      "29 terms removed due to uniques\n"
     ]
    },
    {
     "name": "stderr",
     "output_type": "stream",
     "text": [
      " 86%|████████▌ | 150/174 [00:14<00:01, 12.22it/s]"
     ]
    },
    {
     "name": "stdout",
     "output_type": "stream",
     "text": [
      "189 terms removed due to uniques\n",
      "143 terms removed due to uniques\n",
      "27 terms removed due to uniques\n"
     ]
    },
    {
     "name": "stderr",
     "output_type": "stream",
     "text": [
      " 89%|████████▉ | 155/174 [00:14<00:01, 13.67it/s]"
     ]
    },
    {
     "name": "stdout",
     "output_type": "stream",
     "text": [
      "150 terms removed due to uniques\n",
      "54 terms removed due to uniques\n",
      "26 terms removed due to uniques\n",
      "17 terms removed due to uniques\n",
      "59 terms removed due to uniques\n"
     ]
    },
    {
     "name": "stderr",
     "output_type": "stream",
     "text": [
      "\r",
      " 90%|█████████ | 157/174 [00:14<00:01, 12.76it/s]"
     ]
    },
    {
     "name": "stdout",
     "output_type": "stream",
     "text": [
      "90 terms removed due to uniques\n",
      "42 terms removed due to uniques\n",
      "42 terms removed due to uniques\n"
     ]
    },
    {
     "name": "stderr",
     "output_type": "stream",
     "text": [
      "\r",
      " 91%|█████████▏| 159/174 [00:14<00:01,  8.88it/s]"
     ]
    },
    {
     "name": "stdout",
     "output_type": "stream",
     "text": [
      "212 terms removed due to uniques\n"
     ]
    },
    {
     "name": "stderr",
     "output_type": "stream",
     "text": [
      "\r",
      " 93%|█████████▎| 161/174 [00:15<00:01,  7.54it/s]"
     ]
    },
    {
     "name": "stdout",
     "output_type": "stream",
     "text": [
      "205 terms removed due to uniques\n",
      "81 terms removed due to uniques\n",
      "78 terms removed due to uniques\n"
     ]
    },
    {
     "name": "stderr",
     "output_type": "stream",
     "text": [
      " 95%|█████████▌| 166/174 [00:15<00:00,  9.37it/s]"
     ]
    },
    {
     "name": "stdout",
     "output_type": "stream",
     "text": [
      "183 terms removed due to uniques\n",
      "16 terms removed due to uniques\n",
      "59 terms removed due to uniques\n",
      "71 terms removed due to uniques\n",
      "39 terms removed due to uniques\n"
     ]
    },
    {
     "name": "stderr",
     "output_type": "stream",
     "text": [
      "\r",
      " 97%|█████████▋| 168/174 [00:15<00:00,  9.05it/s]"
     ]
    },
    {
     "name": "stdout",
     "output_type": "stream",
     "text": [
      "147 terms removed due to uniques\n",
      "87 terms removed due to uniques\n"
     ]
    },
    {
     "name": "stderr",
     "output_type": "stream",
     "text": [
      "\r",
      " 98%|█████████▊| 170/174 [00:16<00:00,  8.95it/s]"
     ]
    },
    {
     "name": "stdout",
     "output_type": "stream",
     "text": [
      "153 terms removed due to uniques\n",
      "211 terms removed due to uniques\n"
     ]
    },
    {
     "name": "stderr",
     "output_type": "stream",
     "text": [
      "\r",
      " 99%|█████████▉| 172/174 [00:16<00:00,  5.88it/s]"
     ]
    },
    {
     "name": "stdout",
     "output_type": "stream",
     "text": [
      "343 terms removed due to uniques\n"
     ]
    },
    {
     "name": "stderr",
     "output_type": "stream",
     "text": [
      "100%|██████████| 174/174 [00:17<00:00,  9.93it/s]"
     ]
    },
    {
     "name": "stdout",
     "output_type": "stream",
     "text": [
      "210 terms removed due to uniques\n",
      "166 terms removed due to uniques\n"
     ]
    },
    {
     "name": "stderr",
     "output_type": "stream",
     "text": [
      "\n"
     ]
    },
    {
     "name": "stdout",
     "output_type": "stream",
     "text": [
      "deleted time references: 2\n",
      "deleted date references: 4\n",
      "deleted links: 12\n",
      "deleted quotes: 70\n",
      "deleted ireg expressions: 13\n",
      "deleted abbreviations: 51\n"
     ]
    }
   ],
   "source": [
    "car_domain = load_domain_terms(\"car\", 10000, 1, 1)"
   ]
  },
  {
   "cell_type": "code",
   "execution_count": 88,
   "metadata": {
    "scrolled": true
   },
   "outputs": [
    {
     "name": "stderr",
     "output_type": "stream",
     "text": [
      "  1%|          | 2/279 [00:00<00:24, 11.48it/s]"
     ]
    },
    {
     "name": "stdout",
     "output_type": "stream",
     "text": [
      "55 terms removed due to uniques\n",
      "158 terms removed due to uniques\n"
     ]
    },
    {
     "name": "stderr",
     "output_type": "stream",
     "text": [
      "\r",
      "  1%|          | 3/279 [00:01<01:58,  2.34it/s]"
     ]
    },
    {
     "name": "stdout",
     "output_type": "stream",
     "text": [
      "0 terms removed due to uniques\n"
     ]
    },
    {
     "name": "stderr",
     "output_type": "stream",
     "text": [
      "  2%|▏         | 6/279 [00:01<01:28,  3.08it/s]"
     ]
    },
    {
     "name": "stdout",
     "output_type": "stream",
     "text": [
      "0 terms removed due to uniques\n",
      "64 terms removed due to uniques\n",
      "51 terms removed due to uniques\n"
     ]
    },
    {
     "name": "stderr",
     "output_type": "stream",
     "text": [
      "\r",
      "  3%|▎         | 8/279 [00:02<01:09,  3.87it/s]"
     ]
    },
    {
     "name": "stdout",
     "output_type": "stream",
     "text": [
      "56 terms removed due to uniques\n",
      "124 terms removed due to uniques\n",
      "90 terms removed due to uniques\n"
     ]
    },
    {
     "name": "stderr",
     "output_type": "stream",
     "text": [
      "\r",
      "  4%|▎         | 10/279 [00:03<01:31,  2.95it/s]"
     ]
    },
    {
     "name": "stdout",
     "output_type": "stream",
     "text": [
      "0 terms removed due to uniques\n",
      "32 terms removed due to uniques\n"
     ]
    },
    {
     "name": "stderr",
     "output_type": "stream",
     "text": [
      "\r",
      "  4%|▍         | 12/279 [00:03<01:12,  3.70it/s]"
     ]
    },
    {
     "name": "stdout",
     "output_type": "stream",
     "text": [
      "203 terms removed due to uniques\n"
     ]
    },
    {
     "name": "stderr",
     "output_type": "stream",
     "text": [
      "  5%|▌         | 14/279 [00:04<01:14,  3.54it/s]"
     ]
    },
    {
     "name": "stdout",
     "output_type": "stream",
     "text": [
      "0 terms removed due to uniques\n",
      "98 terms removed due to uniques\n",
      "66 terms removed due to uniques\n"
     ]
    },
    {
     "name": "stderr",
     "output_type": "stream",
     "text": [
      "  6%|▌         | 17/279 [00:04<00:55,  4.68it/s]"
     ]
    },
    {
     "name": "stdout",
     "output_type": "stream",
     "text": [
      "0 terms removed due to uniques\n",
      "98 terms removed due to uniques\n"
     ]
    },
    {
     "name": "stderr",
     "output_type": "stream",
     "text": [
      "  7%|▋         | 19/279 [00:05<01:13,  3.56it/s]"
     ]
    },
    {
     "name": "stdout",
     "output_type": "stream",
     "text": [
      "1 terms removed due to uniques\n",
      "130 terms removed due to uniques\n"
     ]
    },
    {
     "name": "stderr",
     "output_type": "stream",
     "text": [
      "\r",
      "  8%|▊         | 21/279 [00:05<01:00,  4.24it/s]"
     ]
    },
    {
     "name": "stdout",
     "output_type": "stream",
     "text": [
      "31 terms removed due to uniques\n",
      "151 terms removed due to uniques\n"
     ]
    },
    {
     "name": "stderr",
     "output_type": "stream",
     "text": [
      "\r",
      "  8%|▊         | 22/279 [00:06<01:15,  3.39it/s]"
     ]
    },
    {
     "name": "stdout",
     "output_type": "stream",
     "text": [
      "0 terms removed due to uniques\n"
     ]
    },
    {
     "name": "stderr",
     "output_type": "stream",
     "text": [
      "  9%|▉         | 25/279 [00:06<01:13,  3.47it/s]"
     ]
    },
    {
     "name": "stdout",
     "output_type": "stream",
     "text": [
      "0 terms removed due to uniques\n",
      "74 terms removed due to uniques\n",
      "28 terms removed due to uniques\n",
      "71 terms removed due to uniques\n"
     ]
    },
    {
     "name": "stderr",
     "output_type": "stream",
     "text": [
      " 10%|█         | 29/279 [00:07<00:43,  5.68it/s]"
     ]
    },
    {
     "name": "stdout",
     "output_type": "stream",
     "text": [
      "89 terms removed due to uniques\n",
      "54 terms removed due to uniques\n",
      "78 terms removed due to uniques\n",
      "45 terms removed due to uniques\n"
     ]
    },
    {
     "name": "stderr",
     "output_type": "stream",
     "text": [
      " 12%|█▏        | 34/279 [00:07<00:27,  8.82it/s]"
     ]
    },
    {
     "name": "stdout",
     "output_type": "stream",
     "text": [
      "48 terms removed due to uniques\n",
      "59 terms removed due to uniques\n",
      "62 terms removed due to uniques\n",
      "22 terms removed due to uniques\n"
     ]
    },
    {
     "name": "stderr",
     "output_type": "stream",
     "text": [
      "\r",
      " 13%|█▎        | 36/279 [00:08<01:13,  3.29it/s]"
     ]
    },
    {
     "name": "stdout",
     "output_type": "stream",
     "text": [
      "0 terms removed due to uniques\n",
      "104 terms removed due to uniques\n"
     ]
    },
    {
     "name": "stderr",
     "output_type": "stream",
     "text": [
      "\r",
      " 14%|█▎        | 38/279 [00:09<01:25,  2.81it/s]"
     ]
    },
    {
     "name": "stdout",
     "output_type": "stream",
     "text": [
      "0 terms removed due to uniques\n",
      "76 terms removed due to uniques\n"
     ]
    },
    {
     "name": "stderr",
     "output_type": "stream",
     "text": [
      " 15%|█▍        | 41/279 [00:10<00:58,  4.05it/s]"
     ]
    },
    {
     "name": "stdout",
     "output_type": "stream",
     "text": [
      "205 terms removed due to uniques\n",
      "31 terms removed due to uniques\n",
      "104 terms removed due to uniques\n"
     ]
    },
    {
     "name": "stderr",
     "output_type": "stream",
     "text": [
      "\r",
      " 15%|█▌        | 42/279 [00:10<00:49,  4.82it/s]"
     ]
    },
    {
     "name": "stdout",
     "output_type": "stream",
     "text": [
      "87 terms removed due to uniques\n",
      "19 terms removed due to uniques\n"
     ]
    },
    {
     "name": "stderr",
     "output_type": "stream",
     "text": [
      "\r",
      " 16%|█▌        | 44/279 [00:11<01:22,  2.85it/s]"
     ]
    },
    {
     "name": "stdout",
     "output_type": "stream",
     "text": [
      "1 terms removed due to uniques\n"
     ]
    },
    {
     "name": "stderr",
     "output_type": "stream",
     "text": [
      "\r",
      " 16%|█▌        | 45/279 [00:12<01:49,  2.14it/s]"
     ]
    },
    {
     "name": "stdout",
     "output_type": "stream",
     "text": [
      "1 terms removed due to uniques\n",
      "12 terms removed due to uniques\n"
     ]
    },
    {
     "name": "stderr",
     "output_type": "stream",
     "text": [
      "\r",
      " 17%|█▋        | 47/279 [00:12<01:33,  2.49it/s]"
     ]
    },
    {
     "name": "stdout",
     "output_type": "stream",
     "text": [
      "1 terms removed due to uniques\n",
      "87 terms removed due to uniques\n"
     ]
    },
    {
     "name": "stderr",
     "output_type": "stream",
     "text": [
      "\r",
      " 18%|█▊        | 49/279 [00:13<01:13,  3.13it/s]"
     ]
    },
    {
     "name": "stdout",
     "output_type": "stream",
     "text": [
      "162 terms removed due to uniques\n",
      "25 terms removed due to uniques\n"
     ]
    },
    {
     "name": "stderr",
     "output_type": "stream",
     "text": [
      " 19%|█▊        | 52/279 [00:14<01:21,  2.80it/s]"
     ]
    },
    {
     "name": "stdout",
     "output_type": "stream",
     "text": [
      "0 terms removed due to uniques\n",
      "154 terms removed due to uniques\n",
      "50 terms removed due to uniques\n",
      "11 terms removed due to uniques\n"
     ]
    },
    {
     "name": "stderr",
     "output_type": "stream",
     "text": [
      " 20%|██        | 56/279 [00:15<00:55,  4.00it/s]"
     ]
    },
    {
     "name": "stdout",
     "output_type": "stream",
     "text": [
      "0 terms removed due to uniques\n",
      "139 terms removed due to uniques\n",
      "80 terms removed due to uniques\n"
     ]
    },
    {
     "name": "stderr",
     "output_type": "stream",
     "text": [
      "\r",
      " 21%|██        | 58/279 [00:16<00:57,  3.85it/s]"
     ]
    },
    {
     "name": "stdout",
     "output_type": "stream",
     "text": [
      "0 terms removed due to uniques\n",
      "40 terms removed due to uniques\n"
     ]
    },
    {
     "name": "stderr",
     "output_type": "stream",
     "text": [
      " 22%|██▏       | 61/279 [00:16<00:47,  4.62it/s]"
     ]
    },
    {
     "name": "stdout",
     "output_type": "stream",
     "text": [
      "0 terms removed due to uniques\n",
      "154 terms removed due to uniques\n"
     ]
    },
    {
     "name": "stderr",
     "output_type": "stream",
     "text": [
      " 23%|██▎       | 65/279 [00:16<00:30,  7.11it/s]"
     ]
    },
    {
     "name": "stdout",
     "output_type": "stream",
     "text": [
      "50 terms removed due to uniques\n",
      "69 terms removed due to uniques\n",
      "71 terms removed due to uniques\n",
      "36 terms removed due to uniques\n",
      "0 terms removed due to uniques\n"
     ]
    },
    {
     "name": "stderr",
     "output_type": "stream",
     "text": [
      "\r",
      " 24%|██▍       | 67/279 [00:19<01:33,  2.26it/s]"
     ]
    },
    {
     "name": "stdout",
     "output_type": "stream",
     "text": [
      "0 terms removed due to uniques\n"
     ]
    },
    {
     "name": "stderr",
     "output_type": "stream",
     "text": [
      " 25%|██▌       | 70/279 [00:19<01:05,  3.19it/s]"
     ]
    },
    {
     "name": "stdout",
     "output_type": "stream",
     "text": [
      "0 terms removed due to uniques\n",
      "54 terms removed due to uniques\n",
      "112 terms removed due to uniques\n"
     ]
    },
    {
     "name": "stderr",
     "output_type": "stream",
     "text": [
      "\r",
      " 25%|██▌       | 71/279 [00:19<00:56,  3.69it/s]"
     ]
    },
    {
     "name": "stdout",
     "output_type": "stream",
     "text": [
      "156 terms removed due to uniques\n"
     ]
    },
    {
     "name": "stderr",
     "output_type": "stream",
     "text": [
      "\r",
      " 26%|██▌       | 72/279 [00:20<01:23,  2.48it/s]"
     ]
    },
    {
     "name": "stdout",
     "output_type": "stream",
     "text": [
      "0 terms removed due to uniques\n"
     ]
    },
    {
     "name": "stderr",
     "output_type": "stream",
     "text": [
      " 27%|██▋       | 74/279 [00:20<00:58,  3.53it/s]"
     ]
    },
    {
     "name": "stdout",
     "output_type": "stream",
     "text": [
      "0 terms removed due to uniques\n",
      "96 terms removed due to uniques\n"
     ]
    },
    {
     "name": "stderr",
     "output_type": "stream",
     "text": [
      "\r",
      " 27%|██▋       | 75/279 [00:21<00:48,  4.23it/s]"
     ]
    },
    {
     "name": "stdout",
     "output_type": "stream",
     "text": [
      "140 terms removed due to uniques\n",
      "33 terms removed due to uniques\n"
     ]
    },
    {
     "name": "stderr",
     "output_type": "stream",
     "text": [
      " 28%|██▊       | 79/279 [00:21<00:33,  5.95it/s]"
     ]
    },
    {
     "name": "stdout",
     "output_type": "stream",
     "text": [
      "1 terms removed due to uniques\n",
      "67 terms removed due to uniques\n",
      "32 terms removed due to uniques\n"
     ]
    },
    {
     "name": "stderr",
     "output_type": "stream",
     "text": [
      "\r",
      " 29%|██▉       | 81/279 [00:22<00:57,  3.44it/s]"
     ]
    },
    {
     "name": "stdout",
     "output_type": "stream",
     "text": [
      "0 terms removed due to uniques\n",
      "164 terms removed due to uniques\n"
     ]
    },
    {
     "name": "stderr",
     "output_type": "stream",
     "text": [
      " 30%|██▉       | 83/279 [00:22<00:43,  4.50it/s]"
     ]
    },
    {
     "name": "stdout",
     "output_type": "stream",
     "text": [
      "120 terms removed due to uniques\n",
      "106 terms removed due to uniques\n"
     ]
    },
    {
     "name": "stderr",
     "output_type": "stream",
     "text": [
      " 30%|███       | 85/279 [00:23<00:44,  4.37it/s]"
     ]
    },
    {
     "name": "stdout",
     "output_type": "stream",
     "text": [
      "2 terms removed due to uniques\n",
      "102 terms removed due to uniques\n",
      "72 terms removed due to uniques\n"
     ]
    },
    {
     "name": "stderr",
     "output_type": "stream",
     "text": [
      "\r",
      " 31%|███       | 87/279 [00:23<00:35,  5.47it/s]"
     ]
    },
    {
     "name": "stdout",
     "output_type": "stream",
     "text": [
      "71 terms removed due to uniques\n"
     ]
    },
    {
     "name": "stderr",
     "output_type": "stream",
     "text": [
      " 32%|███▏      | 90/279 [00:24<00:32,  5.84it/s]"
     ]
    },
    {
     "name": "stdout",
     "output_type": "stream",
     "text": [
      "0 terms removed due to uniques\n",
      "66 terms removed due to uniques\n",
      "86 terms removed due to uniques\n"
     ]
    },
    {
     "name": "stderr",
     "output_type": "stream",
     "text": [
      "\r",
      " 33%|███▎      | 91/279 [00:24<00:42,  4.43it/s]"
     ]
    },
    {
     "name": "stdout",
     "output_type": "stream",
     "text": [
      "0 terms removed due to uniques\n",
      "46 terms removed due to uniques\n"
     ]
    },
    {
     "name": "stderr",
     "output_type": "stream",
     "text": [
      "\r",
      " 33%|███▎      | 93/279 [00:24<00:40,  4.63it/s]"
     ]
    },
    {
     "name": "stdout",
     "output_type": "stream",
     "text": [
      "1 terms removed due to uniques\n",
      "81 terms removed due to uniques\n"
     ]
    },
    {
     "name": "stderr",
     "output_type": "stream",
     "text": [
      "\r",
      " 34%|███▍      | 95/279 [00:25<00:42,  4.30it/s]"
     ]
    },
    {
     "name": "stdout",
     "output_type": "stream",
     "text": [
      "0 terms removed due to uniques\n",
      "58 terms removed due to uniques\n"
     ]
    },
    {
     "name": "stderr",
     "output_type": "stream",
     "text": [
      "\r",
      " 35%|███▍      | 97/279 [00:25<00:35,  5.07it/s]"
     ]
    },
    {
     "name": "stdout",
     "output_type": "stream",
     "text": [
      "142 terms removed due to uniques\n"
     ]
    },
    {
     "name": "stderr",
     "output_type": "stream",
     "text": [
      "\r",
      " 35%|███▌      | 98/279 [00:26<01:25,  2.12it/s]"
     ]
    },
    {
     "name": "stdout",
     "output_type": "stream",
     "text": [
      "0 terms removed due to uniques\n"
     ]
    },
    {
     "name": "stderr",
     "output_type": "stream",
     "text": [
      "\r",
      " 35%|███▌      | 99/279 [00:26<01:12,  2.47it/s]"
     ]
    },
    {
     "name": "stdout",
     "output_type": "stream",
     "text": [
      "1 terms removed due to uniques\n"
     ]
    },
    {
     "name": "stderr",
     "output_type": "stream",
     "text": [
      "\r",
      " 36%|███▌      | 100/279 [00:27<01:16,  2.34it/s]"
     ]
    },
    {
     "name": "stdout",
     "output_type": "stream",
     "text": [
      "2 terms removed due to uniques\n"
     ]
    },
    {
     "name": "stderr",
     "output_type": "stream",
     "text": [
      "\r",
      " 36%|███▌      | 101/279 [00:27<01:08,  2.59it/s]"
     ]
    },
    {
     "name": "stdout",
     "output_type": "stream",
     "text": [
      "0 terms removed due to uniques\n"
     ]
    },
    {
     "name": "stderr",
     "output_type": "stream",
     "text": [
      " 37%|███▋      | 104/279 [00:28<00:54,  3.19it/s]"
     ]
    },
    {
     "name": "stdout",
     "output_type": "stream",
     "text": [
      "0 terms removed due to uniques\n",
      "67 terms removed due to uniques\n",
      "52 terms removed due to uniques\n"
     ]
    },
    {
     "name": "stderr",
     "output_type": "stream",
     "text": [
      "\r",
      " 38%|███▊      | 105/279 [00:29<01:15,  2.31it/s]"
     ]
    },
    {
     "name": "stdout",
     "output_type": "stream",
     "text": [
      "0 terms removed due to uniques\n"
     ]
    },
    {
     "name": "stderr",
     "output_type": "stream",
     "text": [
      "\r",
      " 38%|███▊      | 106/279 [00:29<01:05,  2.64it/s]"
     ]
    },
    {
     "name": "stdout",
     "output_type": "stream",
     "text": [
      "0 terms removed due to uniques\n"
     ]
    },
    {
     "name": "stderr",
     "output_type": "stream",
     "text": [
      " 39%|███▉      | 109/279 [00:30<01:15,  2.25it/s]"
     ]
    },
    {
     "name": "stdout",
     "output_type": "stream",
     "text": [
      "0 terms removed due to uniques\n",
      "7 terms removed due to uniques\n",
      "86 terms removed due to uniques\n",
      "82 terms removed due to uniques\n"
     ]
    },
    {
     "name": "stderr",
     "output_type": "stream",
     "text": [
      "\r",
      " 40%|███▉      | 111/279 [00:31<01:10,  2.40it/s]"
     ]
    },
    {
     "name": "stdout",
     "output_type": "stream",
     "text": [
      "0 terms removed due to uniques\n",
      "82 terms removed due to uniques\n"
     ]
    },
    {
     "name": "stderr",
     "output_type": "stream",
     "text": [
      "\r",
      " 41%|████      | 113/279 [00:31<00:59,  2.78it/s]"
     ]
    },
    {
     "name": "stdout",
     "output_type": "stream",
     "text": [
      "2 terms removed due to uniques\n",
      "29 terms removed due to uniques\n"
     ]
    },
    {
     "name": "stderr",
     "output_type": "stream",
     "text": [
      " 42%|████▏     | 117/279 [00:32<00:37,  4.34it/s]"
     ]
    },
    {
     "name": "stdout",
     "output_type": "stream",
     "text": [
      "0 terms removed due to uniques\n",
      "42 terms removed due to uniques\n",
      "54 terms removed due to uniques\n"
     ]
    },
    {
     "name": "stderr",
     "output_type": "stream",
     "text": [
      "\r",
      " 42%|████▏     | 118/279 [00:32<00:35,  4.50it/s]"
     ]
    },
    {
     "name": "stdout",
     "output_type": "stream",
     "text": [
      "0 terms removed due to uniques\n"
     ]
    },
    {
     "name": "stderr",
     "output_type": "stream",
     "text": [
      " 43%|████▎     | 121/279 [00:33<00:47,  3.36it/s]"
     ]
    },
    {
     "name": "stdout",
     "output_type": "stream",
     "text": [
      "1 terms removed due to uniques\n",
      "44 terms removed due to uniques\n",
      "60 terms removed due to uniques\n"
     ]
    },
    {
     "name": "stderr",
     "output_type": "stream",
     "text": [
      "\r",
      " 44%|████▎     | 122/279 [00:33<00:49,  3.18it/s]"
     ]
    },
    {
     "name": "stdout",
     "output_type": "stream",
     "text": [
      "1 terms removed due to uniques\n"
     ]
    },
    {
     "name": "stderr",
     "output_type": "stream",
     "text": [
      "\r",
      " 44%|████▍     | 123/279 [00:33<00:47,  3.27it/s]"
     ]
    },
    {
     "name": "stdout",
     "output_type": "stream",
     "text": [
      "2 terms removed due to uniques\n"
     ]
    },
    {
     "name": "stderr",
     "output_type": "stream",
     "text": [
      " 45%|████▌     | 126/279 [00:34<00:40,  3.81it/s]"
     ]
    },
    {
     "name": "stdout",
     "output_type": "stream",
     "text": [
      "1 terms removed due to uniques\n",
      "66 terms removed due to uniques\n",
      "73 terms removed due to uniques\n"
     ]
    },
    {
     "name": "stderr",
     "output_type": "stream",
     "text": [
      "\r",
      " 46%|████▌     | 127/279 [00:34<00:35,  4.30it/s]"
     ]
    },
    {
     "name": "stdout",
     "output_type": "stream",
     "text": [
      "0 terms removed due to uniques\n"
     ]
    },
    {
     "name": "stderr",
     "output_type": "stream",
     "text": [
      "\r",
      " 46%|████▌     | 128/279 [00:35<00:39,  3.82it/s]"
     ]
    },
    {
     "name": "stdout",
     "output_type": "stream",
     "text": [
      "1 terms removed due to uniques\n",
      "37 terms removed due to uniques\n",
      "56 terms removed due to uniques\n"
     ]
    },
    {
     "name": "stderr",
     "output_type": "stream",
     "text": [
      "\r",
      " 47%|████▋     | 131/279 [00:35<00:34,  4.33it/s]"
     ]
    },
    {
     "name": "stdout",
     "output_type": "stream",
     "text": [
      "1 terms removed due to uniques\n"
     ]
    },
    {
     "name": "stderr",
     "output_type": "stream",
     "text": [
      "\r",
      " 47%|████▋     | 132/279 [00:35<00:34,  4.26it/s]"
     ]
    },
    {
     "name": "stdout",
     "output_type": "stream",
     "text": [
      "0 terms removed due to uniques\n",
      "17 terms removed due to uniques\n",
      "22 terms removed due to uniques\n"
     ]
    },
    {
     "name": "stderr",
     "output_type": "stream",
     "text": [
      "\r",
      " 48%|████▊     | 135/279 [00:36<00:30,  4.78it/s]"
     ]
    },
    {
     "name": "stdout",
     "output_type": "stream",
     "text": [
      "0 terms removed due to uniques\n",
      "43 terms removed due to uniques\n",
      "28 terms removed due to uniques\n"
     ]
    },
    {
     "name": "stderr",
     "output_type": "stream",
     "text": [
      " 50%|█████     | 140/279 [00:36<00:19,  6.98it/s]"
     ]
    },
    {
     "name": "stdout",
     "output_type": "stream",
     "text": [
      "0 terms removed due to uniques\n",
      "28 terms removed due to uniques\n",
      "107 terms removed due to uniques\n"
     ]
    },
    {
     "name": "stderr",
     "output_type": "stream",
     "text": [
      " 51%|█████     | 142/279 [00:37<00:35,  3.87it/s]"
     ]
    },
    {
     "name": "stdout",
     "output_type": "stream",
     "text": [
      "0 terms removed due to uniques\n",
      "113 terms removed due to uniques\n"
     ]
    },
    {
     "name": "stderr",
     "output_type": "stream",
     "text": [
      " 52%|█████▏    | 144/279 [00:37<00:31,  4.32it/s]"
     ]
    },
    {
     "name": "stdout",
     "output_type": "stream",
     "text": [
      "220 terms removed due to uniques\n",
      "118 terms removed due to uniques\n"
     ]
    },
    {
     "name": "stderr",
     "output_type": "stream",
     "text": [
      " 52%|█████▏    | 146/279 [00:38<00:26,  4.99it/s]"
     ]
    },
    {
     "name": "stdout",
     "output_type": "stream",
     "text": [
      "3 terms removed due to uniques\n",
      "81 terms removed due to uniques\n"
     ]
    },
    {
     "name": "stderr",
     "output_type": "stream",
     "text": [
      "\r",
      " 53%|█████▎    | 147/279 [00:38<00:44,  2.95it/s]"
     ]
    },
    {
     "name": "stdout",
     "output_type": "stream",
     "text": [
      "0 terms removed due to uniques\n",
      "45 terms removed due to uniques\n"
     ]
    },
    {
     "name": "stderr",
     "output_type": "stream",
     "text": [
      "\r",
      " 53%|█████▎    | 149/279 [00:39<00:44,  2.89it/s]"
     ]
    },
    {
     "name": "stdout",
     "output_type": "stream",
     "text": [
      "1 terms removed due to uniques\n",
      "64 terms removed due to uniques\n"
     ]
    },
    {
     "name": "stderr",
     "output_type": "stream",
     "text": [
      "\r",
      " 54%|█████▍    | 151/279 [00:39<00:37,  3.45it/s]"
     ]
    },
    {
     "name": "stdout",
     "output_type": "stream",
     "text": [
      "0 terms removed due to uniques\n",
      "35 terms removed due to uniques\n",
      "68 terms removed due to uniques\n"
     ]
    },
    {
     "name": "stderr",
     "output_type": "stream",
     "text": [
      "\r",
      " 55%|█████▌    | 154/279 [00:41<00:49,  2.50it/s]"
     ]
    },
    {
     "name": "stdout",
     "output_type": "stream",
     "text": [
      "0 terms removed due to uniques\n"
     ]
    },
    {
     "name": "stderr",
     "output_type": "stream",
     "text": [
      " 56%|█████▌    | 156/279 [00:43<01:16,  1.60it/s]"
     ]
    },
    {
     "name": "stdout",
     "output_type": "stream",
     "text": [
      "1 terms removed due to uniques\n",
      "174 terms removed due to uniques\n"
     ]
    },
    {
     "name": "stderr",
     "output_type": "stream",
     "text": [
      "\r",
      " 56%|█████▋    | 157/279 [00:44<00:58,  2.07it/s]"
     ]
    },
    {
     "name": "stdout",
     "output_type": "stream",
     "text": [
      "168 terms removed due to uniques\n",
      "60 terms removed due to uniques\n"
     ]
    },
    {
     "name": "stderr",
     "output_type": "stream",
     "text": [
      "\r",
      " 57%|█████▋    | 159/279 [00:44<00:49,  2.44it/s]"
     ]
    },
    {
     "name": "stdout",
     "output_type": "stream",
     "text": [
      "1 terms removed due to uniques\n",
      "12 terms removed due to uniques\n"
     ]
    },
    {
     "name": "stderr",
     "output_type": "stream",
     "text": [
      "\r",
      " 58%|█████▊    | 161/279 [00:44<00:39,  3.02it/s]"
     ]
    },
    {
     "name": "stdout",
     "output_type": "stream",
     "text": [
      "0 terms removed due to uniques\n"
     ]
    },
    {
     "name": "stderr",
     "output_type": "stream",
     "text": [
      "\r",
      " 58%|█████▊    | 162/279 [00:45<00:35,  3.28it/s]"
     ]
    },
    {
     "name": "stdout",
     "output_type": "stream",
     "text": [
      "0 terms removed due to uniques\n"
     ]
    },
    {
     "name": "stderr",
     "output_type": "stream",
     "text": [
      " 59%|█████▉    | 165/279 [00:45<00:32,  3.50it/s]"
     ]
    },
    {
     "name": "stdout",
     "output_type": "stream",
     "text": [
      "0 terms removed due to uniques\n",
      "58 terms removed due to uniques\n",
      "46 terms removed due to uniques\n"
     ]
    },
    {
     "name": "stderr",
     "output_type": "stream",
     "text": [
      "\r",
      " 59%|█████▉    | 166/279 [00:45<00:27,  4.16it/s]"
     ]
    },
    {
     "name": "stdout",
     "output_type": "stream",
     "text": [
      "100 terms removed due to uniques\n"
     ]
    },
    {
     "name": "stderr",
     "output_type": "stream",
     "text": [
      "\r",
      " 60%|█████▉    | 167/279 [00:46<00:34,  3.29it/s]"
     ]
    },
    {
     "name": "stdout",
     "output_type": "stream",
     "text": [
      "0 terms removed due to uniques\n"
     ]
    },
    {
     "name": "stderr",
     "output_type": "stream",
     "text": [
      " 61%|██████    | 170/279 [00:48<00:55,  1.95it/s]"
     ]
    },
    {
     "name": "stdout",
     "output_type": "stream",
     "text": [
      "1 terms removed due to uniques\n",
      "78 terms removed due to uniques\n",
      "72 terms removed due to uniques\n"
     ]
    },
    {
     "name": "stderr",
     "output_type": "stream",
     "text": [
      "\r",
      " 61%|██████▏   | 171/279 [00:48<00:44,  2.43it/s]"
     ]
    },
    {
     "name": "stdout",
     "output_type": "stream",
     "text": [
      "147 terms removed due to uniques\n",
      "34 terms removed due to uniques\n"
     ]
    },
    {
     "name": "stderr",
     "output_type": "stream",
     "text": [
      "\r",
      " 62%|██████▏   | 173/279 [00:48<00:36,  2.91it/s]"
     ]
    },
    {
     "name": "stdout",
     "output_type": "stream",
     "text": [
      "3 terms removed due to uniques\n"
     ]
    },
    {
     "name": "stderr",
     "output_type": "stream",
     "text": [
      "\r",
      " 62%|██████▏   | 174/279 [00:49<00:40,  2.60it/s]"
     ]
    },
    {
     "name": "stdout",
     "output_type": "stream",
     "text": [
      "1 terms removed due to uniques\n",
      "108 terms removed due to uniques\n"
     ]
    },
    {
     "name": "stderr",
     "output_type": "stream",
     "text": [
      " 63%|██████▎   | 177/279 [00:51<00:43,  2.35it/s]"
     ]
    },
    {
     "name": "stdout",
     "output_type": "stream",
     "text": [
      "1 terms removed due to uniques\n",
      "137 terms removed due to uniques\n"
     ]
    },
    {
     "name": "stderr",
     "output_type": "stream",
     "text": [
      "\r",
      " 64%|██████▍   | 178/279 [00:51<00:37,  2.72it/s]"
     ]
    },
    {
     "name": "stdout",
     "output_type": "stream",
     "text": [
      "1 terms removed due to uniques\n",
      "69 terms removed due to uniques\n"
     ]
    },
    {
     "name": "stderr",
     "output_type": "stream",
     "text": [
      " 65%|██████▍   | 181/279 [00:52<00:28,  3.47it/s]"
     ]
    },
    {
     "name": "stdout",
     "output_type": "stream",
     "text": [
      "2 terms removed due to uniques\n",
      "112 terms removed due to uniques\n"
     ]
    },
    {
     "name": "stderr",
     "output_type": "stream",
     "text": [
      "\r",
      " 65%|██████▌   | 182/279 [00:52<00:24,  4.00it/s]"
     ]
    },
    {
     "name": "stdout",
     "output_type": "stream",
     "text": [
      "109 terms removed due to uniques\n"
     ]
    },
    {
     "name": "stderr",
     "output_type": "stream",
     "text": [
      " 66%|██████▌   | 184/279 [00:52<00:25,  3.73it/s]"
     ]
    },
    {
     "name": "stdout",
     "output_type": "stream",
     "text": [
      "0 terms removed due to uniques\n",
      "100 terms removed due to uniques\n"
     ]
    },
    {
     "name": "stderr",
     "output_type": "stream",
     "text": [
      "\r",
      " 66%|██████▋   | 185/279 [00:54<00:49,  1.89it/s]"
     ]
    },
    {
     "name": "stdout",
     "output_type": "stream",
     "text": [
      "0 terms removed due to uniques\n"
     ]
    },
    {
     "name": "stderr",
     "output_type": "stream",
     "text": [
      " 67%|██████▋   | 187/279 [00:54<00:32,  2.85it/s]"
     ]
    },
    {
     "name": "stdout",
     "output_type": "stream",
     "text": [
      "2 terms removed due to uniques\n",
      "95 terms removed due to uniques\n"
     ]
    },
    {
     "name": "stderr",
     "output_type": "stream",
     "text": [
      "\r",
      " 67%|██████▋   | 188/279 [00:54<00:25,  3.61it/s]"
     ]
    },
    {
     "name": "stdout",
     "output_type": "stream",
     "text": [
      "84 terms removed due to uniques\n"
     ]
    },
    {
     "name": "stderr",
     "output_type": "stream",
     "text": [
      " 68%|██████▊   | 190/279 [00:55<00:29,  2.97it/s]"
     ]
    },
    {
     "name": "stdout",
     "output_type": "stream",
     "text": [
      "0 terms removed due to uniques\n",
      "120 terms removed due to uniques\n"
     ]
    },
    {
     "name": "stderr",
     "output_type": "stream",
     "text": [
      " 69%|██████▉   | 192/279 [00:55<00:25,  3.48it/s]"
     ]
    },
    {
     "name": "stdout",
     "output_type": "stream",
     "text": [
      "0 terms removed due to uniques\n",
      "101 terms removed due to uniques\n"
     ]
    },
    {
     "name": "stderr",
     "output_type": "stream",
     "text": [
      "\r",
      " 69%|██████▉   | 193/279 [00:57<00:54,  1.57it/s]"
     ]
    },
    {
     "name": "stdout",
     "output_type": "stream",
     "text": [
      "0 terms removed due to uniques\n"
     ]
    },
    {
     "name": "stderr",
     "output_type": "stream",
     "text": [
      "\r",
      " 70%|██████▉   | 194/279 [00:57<00:44,  1.89it/s]"
     ]
    },
    {
     "name": "stdout",
     "output_type": "stream",
     "text": [
      "235 terms removed due to uniques\n",
      "74 terms removed due to uniques\n"
     ]
    },
    {
     "name": "stderr",
     "output_type": "stream",
     "text": [
      "\r",
      " 70%|███████   | 196/279 [00:58<00:40,  2.04it/s]"
     ]
    },
    {
     "name": "stdout",
     "output_type": "stream",
     "text": [
      "0 terms removed due to uniques\n"
     ]
    },
    {
     "name": "stderr",
     "output_type": "stream",
     "text": [
      " 71%|███████   | 198/279 [00:58<00:26,  3.03it/s]"
     ]
    },
    {
     "name": "stdout",
     "output_type": "stream",
     "text": [
      "0 terms removed due to uniques\n",
      "135 terms removed due to uniques\n"
     ]
    },
    {
     "name": "stderr",
     "output_type": "stream",
     "text": [
      " 72%|███████▏  | 201/279 [00:59<00:17,  4.55it/s]"
     ]
    },
    {
     "name": "stdout",
     "output_type": "stream",
     "text": [
      "96 terms removed due to uniques\n",
      "80 terms removed due to uniques\n",
      "61 terms removed due to uniques\n"
     ]
    },
    {
     "name": "stderr",
     "output_type": "stream",
     "text": [
      "\r",
      " 73%|███████▎  | 203/279 [00:59<00:13,  5.50it/s]"
     ]
    },
    {
     "name": "stdout",
     "output_type": "stream",
     "text": [
      "59 terms removed due to uniques\n",
      "128 terms removed due to uniques\n"
     ]
    },
    {
     "name": "stderr",
     "output_type": "stream",
     "text": [
      " 74%|███████▍  | 206/279 [01:00<00:23,  3.09it/s]"
     ]
    },
    {
     "name": "stdout",
     "output_type": "stream",
     "text": [
      "2 terms removed due to uniques\n",
      "52 terms removed due to uniques\n",
      "34 terms removed due to uniques\n"
     ]
    },
    {
     "name": "stderr",
     "output_type": "stream",
     "text": [
      "\r",
      " 75%|███████▍  | 208/279 [01:00<00:18,  3.87it/s]"
     ]
    },
    {
     "name": "stdout",
     "output_type": "stream",
     "text": [
      "65 terms removed due to uniques\n",
      "119 terms removed due to uniques\n"
     ]
    },
    {
     "name": "stderr",
     "output_type": "stream",
     "text": [
      "\r",
      " 75%|███████▍  | 209/279 [01:00<00:14,  4.70it/s]"
     ]
    },
    {
     "name": "stdout",
     "output_type": "stream",
     "text": [
      "83 terms removed due to uniques\n"
     ]
    },
    {
     "name": "stderr",
     "output_type": "stream",
     "text": [
      "\r",
      " 75%|███████▌  | 210/279 [01:01<00:22,  3.06it/s]"
     ]
    },
    {
     "name": "stdout",
     "output_type": "stream",
     "text": [
      "0 terms removed due to uniques\n"
     ]
    },
    {
     "name": "stderr",
     "output_type": "stream",
     "text": [
      "\r",
      " 76%|███████▌  | 211/279 [01:02<00:29,  2.33it/s]"
     ]
    },
    {
     "name": "stdout",
     "output_type": "stream",
     "text": [
      "2 terms removed due to uniques\n",
      "60 terms removed due to uniques\n"
     ]
    },
    {
     "name": "stderr",
     "output_type": "stream",
     "text": [
      "\r",
      " 76%|███████▋  | 213/279 [01:02<00:24,  2.73it/s]"
     ]
    },
    {
     "name": "stdout",
     "output_type": "stream",
     "text": [
      "0 terms removed due to uniques\n"
     ]
    },
    {
     "name": "stderr",
     "output_type": "stream",
     "text": [
      "\r",
      " 77%|███████▋  | 214/279 [01:03<00:36,  1.78it/s]"
     ]
    },
    {
     "name": "stdout",
     "output_type": "stream",
     "text": [
      "0 terms removed due to uniques\n"
     ]
    },
    {
     "name": "stderr",
     "output_type": "stream",
     "text": [
      "\r",
      " 77%|███████▋  | 215/279 [01:04<00:36,  1.76it/s]"
     ]
    },
    {
     "name": "stdout",
     "output_type": "stream",
     "text": [
      "0 terms removed due to uniques\n"
     ]
    },
    {
     "name": "stderr",
     "output_type": "stream",
     "text": [
      "\r",
      " 77%|███████▋  | 216/279 [01:04<00:30,  2.05it/s]"
     ]
    },
    {
     "name": "stdout",
     "output_type": "stream",
     "text": [
      "0 terms removed due to uniques\n"
     ]
    },
    {
     "name": "stderr",
     "output_type": "stream",
     "text": [
      "\r",
      " 78%|███████▊  | 217/279 [01:05<00:33,  1.88it/s]"
     ]
    },
    {
     "name": "stdout",
     "output_type": "stream",
     "text": [
      "0 terms removed due to uniques\n"
     ]
    },
    {
     "name": "stderr",
     "output_type": "stream",
     "text": [
      "\r",
      " 78%|███████▊  | 218/279 [01:05<00:26,  2.27it/s]"
     ]
    },
    {
     "name": "stdout",
     "output_type": "stream",
     "text": [
      "1 terms removed due to uniques\n",
      "42 terms removed due to uniques\n"
     ]
    },
    {
     "name": "stderr",
     "output_type": "stream",
     "text": [
      " 79%|███████▉  | 221/279 [01:05<00:17,  3.34it/s]"
     ]
    },
    {
     "name": "stdout",
     "output_type": "stream",
     "text": [
      "2 terms removed due to uniques\n",
      "89 terms removed due to uniques\n"
     ]
    },
    {
     "name": "stderr",
     "output_type": "stream",
     "text": [
      " 80%|███████▉  | 223/279 [01:06<00:13,  4.01it/s]"
     ]
    },
    {
     "name": "stdout",
     "output_type": "stream",
     "text": [
      "1 terms removed due to uniques\n",
      "165 terms removed due to uniques\n"
     ]
    },
    {
     "name": "stderr",
     "output_type": "stream",
     "text": [
      " 81%|████████  | 225/279 [01:06<00:10,  5.30it/s]"
     ]
    },
    {
     "name": "stdout",
     "output_type": "stream",
     "text": [
      "83 terms removed due to uniques\n",
      "124 terms removed due to uniques\n",
      "42 terms removed due to uniques\n"
     ]
    },
    {
     "name": "stderr",
     "output_type": "stream",
     "text": [
      " 82%|████████▏ | 229/279 [01:06<00:06,  7.86it/s]"
     ]
    },
    {
     "name": "stdout",
     "output_type": "stream",
     "text": [
      "89 terms removed due to uniques\n",
      "64 terms removed due to uniques\n",
      "66 terms removed due to uniques\n"
     ]
    },
    {
     "name": "stderr",
     "output_type": "stream",
     "text": [
      "\r",
      " 83%|████████▎ | 231/279 [01:07<00:08,  5.94it/s]"
     ]
    },
    {
     "name": "stdout",
     "output_type": "stream",
     "text": [
      "0 terms removed due to uniques\n",
      "36 terms removed due to uniques\n",
      "49 terms removed due to uniques\n"
     ]
    },
    {
     "name": "stderr",
     "output_type": "stream",
     "text": [
      " 84%|████████▍ | 235/279 [01:09<00:11,  3.68it/s]"
     ]
    },
    {
     "name": "stdout",
     "output_type": "stream",
     "text": [
      "0 terms removed due to uniques\n",
      "75 terms removed due to uniques\n",
      "64 terms removed due to uniques\n"
     ]
    },
    {
     "name": "stderr",
     "output_type": "stream",
     "text": [
      "\r",
      " 85%|████████▍ | 237/279 [01:09<00:08,  4.81it/s]"
     ]
    },
    {
     "name": "stdout",
     "output_type": "stream",
     "text": [
      "68 terms removed due to uniques\n",
      "46 terms removed due to uniques\n"
     ]
    },
    {
     "name": "stderr",
     "output_type": "stream",
     "text": [
      "\r",
      " 86%|████████▌ | 239/279 [01:09<00:08,  4.56it/s]"
     ]
    },
    {
     "name": "stdout",
     "output_type": "stream",
     "text": [
      "2 terms removed due to uniques\n",
      "129 terms removed due to uniques\n"
     ]
    },
    {
     "name": "stderr",
     "output_type": "stream",
     "text": [
      " 87%|████████▋ | 242/279 [01:10<00:09,  4.00it/s]"
     ]
    },
    {
     "name": "stdout",
     "output_type": "stream",
     "text": [
      "2 terms removed due to uniques\n",
      "58 terms removed due to uniques\n",
      "43 terms removed due to uniques\n"
     ]
    },
    {
     "name": "stderr",
     "output_type": "stream",
     "text": [
      "\r",
      " 87%|████████▋ | 244/279 [01:10<00:08,  4.12it/s]"
     ]
    },
    {
     "name": "stdout",
     "output_type": "stream",
     "text": [
      "0 terms removed due to uniques\n",
      "96 terms removed due to uniques\n",
      "57 terms removed due to uniques\n"
     ]
    },
    {
     "name": "stderr",
     "output_type": "stream",
     "text": [
      " 89%|████████▊ | 247/279 [01:11<00:07,  4.55it/s]"
     ]
    },
    {
     "name": "stdout",
     "output_type": "stream",
     "text": [
      "0 terms removed due to uniques\n",
      "59 terms removed due to uniques\n"
     ]
    },
    {
     "name": "stderr",
     "output_type": "stream",
     "text": [
      "\r",
      " 89%|████████▉ | 248/279 [01:12<00:09,  3.28it/s]"
     ]
    },
    {
     "name": "stdout",
     "output_type": "stream",
     "text": [
      "1 terms removed due to uniques\n"
     ]
    },
    {
     "name": "stderr",
     "output_type": "stream",
     "text": [
      " 90%|████████▉ | 250/279 [01:12<00:08,  3.47it/s]"
     ]
    },
    {
     "name": "stdout",
     "output_type": "stream",
     "text": [
      "0 terms removed due to uniques\n",
      "162 terms removed due to uniques\n"
     ]
    },
    {
     "name": "stderr",
     "output_type": "stream",
     "text": [
      "\r",
      " 90%|████████▉ | 251/279 [01:13<00:08,  3.30it/s]"
     ]
    },
    {
     "name": "stdout",
     "output_type": "stream",
     "text": [
      "0 terms removed due to uniques\n"
     ]
    },
    {
     "name": "stderr",
     "output_type": "stream",
     "text": [
      "\r",
      " 90%|█████████ | 252/279 [01:13<00:10,  2.54it/s]"
     ]
    },
    {
     "name": "stdout",
     "output_type": "stream",
     "text": [
      "0 terms removed due to uniques\n"
     ]
    },
    {
     "name": "stderr",
     "output_type": "stream",
     "text": [
      "\r",
      " 91%|█████████ | 253/279 [01:14<00:10,  2.51it/s]"
     ]
    },
    {
     "name": "stdout",
     "output_type": "stream",
     "text": [
      "1 terms removed due to uniques\n",
      "72 terms removed due to uniques\n"
     ]
    },
    {
     "name": "stderr",
     "output_type": "stream",
     "text": [
      "\r",
      " 91%|█████████▏| 255/279 [01:14<00:07,  3.05it/s]"
     ]
    },
    {
     "name": "stdout",
     "output_type": "stream",
     "text": [
      "0 terms removed due to uniques\n"
     ]
    },
    {
     "name": "stderr",
     "output_type": "stream",
     "text": [
      " 92%|█████████▏| 257/279 [01:15<00:06,  3.40it/s]"
     ]
    },
    {
     "name": "stdout",
     "output_type": "stream",
     "text": [
      "0 terms removed due to uniques\n",
      "109 terms removed due to uniques\n",
      "58 terms removed due to uniques\n"
     ]
    },
    {
     "name": "stderr",
     "output_type": "stream",
     "text": [
      " 93%|█████████▎| 260/279 [01:15<00:04,  4.23it/s]"
     ]
    },
    {
     "name": "stdout",
     "output_type": "stream",
     "text": [
      "0 terms removed due to uniques\n",
      "131 terms removed due to uniques\n"
     ]
    },
    {
     "name": "stderr",
     "output_type": "stream",
     "text": [
      "\r",
      " 94%|█████████▎| 261/279 [01:16<00:06,  2.98it/s]"
     ]
    },
    {
     "name": "stdout",
     "output_type": "stream",
     "text": [
      "1 terms removed due to uniques\n"
     ]
    },
    {
     "name": "stderr",
     "output_type": "stream",
     "text": [
      " 94%|█████████▍| 263/279 [01:16<00:04,  3.91it/s]"
     ]
    },
    {
     "name": "stdout",
     "output_type": "stream",
     "text": [
      "1 terms removed due to uniques\n",
      "125 terms removed due to uniques\n",
      "67 terms removed due to uniques\n"
     ]
    },
    {
     "name": "stderr",
     "output_type": "stream",
     "text": [
      " 96%|█████████▌| 268/279 [01:17<00:02,  4.73it/s]"
     ]
    },
    {
     "name": "stdout",
     "output_type": "stream",
     "text": [
      "0 terms removed due to uniques\n",
      "32 terms removed due to uniques\n",
      "52 terms removed due to uniques\n",
      "112 terms removed due to uniques\n",
      "50 terms removed due to uniques\n"
     ]
    },
    {
     "name": "stderr",
     "output_type": "stream",
     "text": [
      "\r",
      " 97%|█████████▋| 270/279 [01:18<00:02,  3.79it/s]"
     ]
    },
    {
     "name": "stdout",
     "output_type": "stream",
     "text": [
      "1 terms removed due to uniques\n",
      "69 terms removed due to uniques\n"
     ]
    },
    {
     "name": "stderr",
     "output_type": "stream",
     "text": [
      "\r",
      " 97%|█████████▋| 272/279 [01:18<00:01,  4.32it/s]"
     ]
    },
    {
     "name": "stdout",
     "output_type": "stream",
     "text": [
      "0 terms removed due to uniques\n"
     ]
    },
    {
     "name": "stderr",
     "output_type": "stream",
     "text": [
      "\r",
      " 98%|█████████▊| 273/279 [01:18<00:01,  4.38it/s]"
     ]
    },
    {
     "name": "stdout",
     "output_type": "stream",
     "text": [
      "130 terms removed due to uniques\n"
     ]
    },
    {
     "name": "stderr",
     "output_type": "stream",
     "text": [
      "\r",
      " 98%|█████████▊| 274/279 [01:18<00:01,  3.78it/s]"
     ]
    },
    {
     "name": "stdout",
     "output_type": "stream",
     "text": [
      "0 terms removed due to uniques\n"
     ]
    },
    {
     "name": "stderr",
     "output_type": "stream",
     "text": [
      "\r",
      " 99%|█████████▊| 275/279 [01:19<00:01,  3.52it/s]"
     ]
    },
    {
     "name": "stdout",
     "output_type": "stream",
     "text": [
      "1 terms removed due to uniques\n"
     ]
    },
    {
     "name": "stderr",
     "output_type": "stream",
     "text": [
      "\r",
      " 99%|█████████▉| 276/279 [01:19<00:00,  3.60it/s]"
     ]
    },
    {
     "name": "stdout",
     "output_type": "stream",
     "text": [
      "0 terms removed due to uniques\n"
     ]
    },
    {
     "name": "stderr",
     "output_type": "stream",
     "text": [
      "100%|██████████| 279/279 [01:20<00:00,  3.48it/s]"
     ]
    },
    {
     "name": "stdout",
     "output_type": "stream",
     "text": [
      "0 terms removed due to uniques\n",
      "63 terms removed due to uniques\n",
      "35 terms removed due to uniques\n"
     ]
    },
    {
     "name": "stderr",
     "output_type": "stream",
     "text": [
      "\n"
     ]
    },
    {
     "name": "stdout",
     "output_type": "stream",
     "text": [
      "deleted time references: 0\n",
      "deleted date references: 168\n",
      "deleted links: 38\n",
      "deleted quotes: 165\n",
      "deleted ireg expressions: 109\n",
      "deleted abbreviations: 94\n"
     ]
    }
   ],
   "source": [
    "chefkoch_domain = load_domain_terms(\"chefkoch\", 10000, 1, 1)"
   ]
  },
  {
   "cell_type": "markdown",
   "metadata": {},
   "source": [
    "## Calculate Metrics "
   ]
  },
  {
   "cell_type": "code",
   "execution_count": 89,
   "metadata": {},
   "outputs": [],
   "source": [
    "def get_relevancy(terms, metric):\n",
    "    tf = domain_relevance.get_tf(terms)\n",
    "    idf = domain_relevance.get_idf(terms)\n",
    "    tdf = domain_relevance.get_tdf(terms)\n",
    "    tf_tdf = {}\n",
    "    \n",
    "    if metric == \"tf\":\n",
    "        return tf\n",
    "    elif metric == \"tf_tdf\":\n",
    "        for term in set([item for sublist in terms for item in sublist]):\n",
    "            tf_tdf[term] = tf[term]*tdf[term]\n",
    "        return tf_tdf\n",
    "    elif metric == \"tf_idf\":\n",
    "        for term in set([item for sublist in terms for item in sublist]):\n",
    "            tf_idf[term] = tf[term]*idf[term]\n",
    "        return tf_idf\n",
    "\n",
    "    else:\n",
    "        return False\n",
    "    "
   ]
  },
  {
   "cell_type": "code",
   "execution_count": 90,
   "metadata": {},
   "outputs": [],
   "source": [
    "metric = \"tf_tdf\""
   ]
  },
  {
   "cell_type": "code",
   "execution_count": 91,
   "metadata": {},
   "outputs": [],
   "source": [
    "adac_relevance = get_relevancy(adac_domain, metric)"
   ]
  },
  {
   "cell_type": "code",
   "execution_count": 92,
   "metadata": {},
   "outputs": [],
   "source": [
    "car_relevance = get_relevancy(car_domain, metric)"
   ]
  },
  {
   "cell_type": "code",
   "execution_count": 93,
   "metadata": {},
   "outputs": [],
   "source": [
    "chefkoch_relevance = get_relevancy(chefkoch_domain, metric)"
   ]
  },
  {
   "cell_type": "markdown",
   "metadata": {},
   "source": [
    "## Select Concepts from Background Knowledge"
   ]
  },
  {
   "cell_type": "code",
   "execution_count": 123,
   "metadata": {},
   "outputs": [],
   "source": [
    "def get_concepts(candidates, car_terms, adac_terms, chefkoch_terms):\n",
    "    concepts = set()\n",
    "    counter1 = 0\n",
    "    counter2 = 0\n",
    "    \n",
    "    for candidate in candidates:\n",
    "        if adac_terms[candidate] and not chefkoch_terms[candidate]:\n",
    "            concepts.add(candidate)\n",
    "            counter1 += 1\n",
    "        if car_terms[candidate] and not chefkoch_terms[candidate]:\n",
    "            concepts.add(candidate)\n",
    "            counter2 += 1\n",
    "        #else:\n",
    "            #print(candidate)\n",
    "            \n",
    "    print(counter1, counter2)\n",
    "    return concepts"
   ]
  },
  {
   "cell_type": "code",
   "execution_count": 124,
   "metadata": {},
   "outputs": [],
   "source": [
    "candidates = set([item for sublist in car_domain for item in sublist])"
   ]
  },
  {
   "cell_type": "code",
   "execution_count": 125,
   "metadata": {},
   "outputs": [
    {
     "name": "stdout",
     "output_type": "stream",
     "text": [
      "322 2005\n"
     ]
    }
   ],
   "source": [
    "concepts = get_concepts(candidates, car_relevance, adac_relevance, chefkoch_relevance)"
   ]
  },
  {
   "cell_type": "code",
   "execution_count": 126,
   "metadata": {},
   "outputs": [
    {
     "name": "stdout",
     "output_type": "stream",
     "text": [
      "2737 VS. 2005\n"
     ]
    }
   ],
   "source": [
    "print(len(candidates), \"VS.\", len(concepts))"
   ]
  },
  {
   "cell_type": "code",
   "execution_count": 129,
   "metadata": {},
   "outputs": [
    {
     "data": {
      "text/plain": [
       "{'3000 €',\n",
       " 'kraftstoffdruckregler',\n",
       " 'durchführungen',\n",
       " 'wasserkastenabdeckung',\n",
       " 'aob',\n",
       " 'scheuerstelle',\n",
       " 'zulassungsstelle',\n",
       " '19 zöller',\n",
       " 'bosch classic',\n",
       " 'jp',\n",
       " 'zahnstange',\n",
       " 'audi_90_quattro_20v',\n",
       " 'inus',\n",
       " 'dichtringe',\n",
       " 'classic',\n",
       " 'weg ziel',\n",
       " 'kühlmittelanschlüsse',\n",
       " 'quarantäne',\n",
       " 'kreislauf',\n",
       " '0,5 mm^2',\n",
       " 'sportlenkrad',\n",
       " 'moly',\n",
       " 'regerge',\n",
       " 'kompression',\n",
       " 'anfängerauto',\n",
       " 'ausführlichen anleitung',\n",
       " 'flitzer',\n",
       " 'audi90',\n",
       " 'abschliessen',\n",
       " 'simple vorderachse',\n",
       " 'letzten 6 wochen',\n",
       " 'stellelement',\n",
       " 'ot markierung',\n",
       " 'leuchtmittel',\n",
       " 'mitm',\n",
       " '13d lenkrad',\n",
       " 'ng',\n",
       " 'kunststoffspachtelmasse',\n",
       " 'schaumstoffblock',\n",
       " 'kombieinstrument',\n",
       " 'warmem motor',\n",
       " 'ablaufschlauch',\n",
       " 'pumpenrelais',\n",
       " 'klimatronik',\n",
       " '4 komplette heber',\n",
       " 'übrigen leitungen',\n",
       " 'schaufelrad',\n",
       " 'neueren modellen',\n",
       " '2 austauschlenkgetriebe',\n",
       " 'simmerring',\n",
       " 'ensetzten',\n",
       " 'knarren',\n",
       " 'o-ringe',\n",
       " '5er',\n",
       " 'windschutzscheibenblende',\n",
       " 'ölfilter adapter',\n",
       " 'wärmetauscher',\n",
       " 'zv-pumpe',\n",
       " 'dranhängen',\n",
       " 'ot',\n",
       " 'zusammenbauen',\n",
       " 'sicherungsringe',\n",
       " 'mono',\n",
       " 'duplikat',\n",
       " 'automaten',\n",
       " 'reifengröße',\n",
       " 'genehmigung',\n",
       " 'instrumente',\n",
       " 'ot lineal',\n",
       " 'ventilation',\n",
       " 'modellen',\n",
       " 'stauscheibe',\n",
       " 'fahrzeughorn',\n",
       " 'and',\n",
       " 'vdd',\n",
       " 'desweiteren',\n",
       " 'spezielle strukturfarbe',\n",
       " 'luftmengenmesser',\n",
       " 'kabelstrang hintere zv',\n",
       " 'schlachten\"-',\n",
       " 'öldruckgeber',\n",
       " 'ffm',\n",
       " 'öltemp',\n",
       " 'tauschen',\n",
       " 'zündschlüssel',\n",
       " 'spannung',\n",
       " 'transistor',\n",
       " 'metallklammern',\n",
       " 'kreuzschlitzschraube',\n",
       " 'blinkerrelais',\n",
       " 'übersetzten getriebe',\n",
       " 'kalten zustand',\n",
       " 'forum.group44',\n",
       " 'kjet',\n",
       " 'autos',\n",
       " 'tastverhältnis',\n",
       " 'scheibenwischerarme',\n",
       " 'einfach kindisches verhalten',\n",
       " 'ferrariknoe',\n",
       " 'katlosen',\n",
       " 'nichr',\n",
       " 'zündanlassschalter',\n",
       " 'sektkorken',\n",
       " 'ze',\n",
       " 'verbindungsschlauch',\n",
       " 'fahrertür',\n",
       " 'differentialgetriebe',\n",
       " 'nachrüstfunkfernbedienung',\n",
       " 'thermostats',\n",
       " 'nm',\n",
       " 'ursprüngliche position',\n",
       " 'prüfstellen',\n",
       " 'linke radlager',\n",
       " 'temperatur sensor',\n",
       " 'kba70212',\n",
       " 'drucksteller',\n",
       " 'riemenscheibe',\n",
       " 'quasi plus',\n",
       " 'arx 6gang getriebe',\n",
       " 'linken bank',\n",
       " 'riemen',\n",
       " 'kontakte',\n",
       " 'sub',\n",
       " 'aad',\n",
       " 'namenhaften herstellern',\n",
       " 'j192',\n",
       " '90ps',\n",
       " 'markierung',\n",
       " 'hylomar',\n",
       " 'singuläre dinge',\n",
       " 'saisonen',\n",
       " 'magnetventil',\n",
       " 'benzindruckmessung',\n",
       " 'ölpumpe',\n",
       " 'original audi',\n",
       " '1,6er',\n",
       " 'benzindruckregler',\n",
       " 'drehzahlmessers',\n",
       " 'lamdaregelung',\n",
       " 'hp2',\n",
       " '10,5v',\n",
       " 'vergaser-motor',\n",
       " 'altes dichtband',\n",
       " 'zündverteiler',\n",
       " 'behr-hella',\n",
       " 'einbeziehen',\n",
       " 'klaren defekt',\n",
       " 'schönes we',\n",
       " 'traggelenk',\n",
       " 'mercedes',\n",
       " 'https://rover.ebay.com/.../0',\n",
       " 'gravierenden schwachstellen',\n",
       " 'sollwert',\n",
       " 'silikondichtmasse',\n",
       " 'kraftstoff',\n",
       " 'aufwändigere hinterachse',\n",
       " 'usb',\n",
       " 'servotronic',\n",
       " 'mercedes benz',\n",
       " 'alu kopf',\n",
       " 'fronttriebler',\n",
       " 'gruß frank',\n",
       " 'grün/blaue kabel',\n",
       " 'mkb',\n",
       " 'referenzmessung',\n",
       " \"zi 's\",\n",
       " 'steuer',\n",
       " 'audi satz',\n",
       " 'j257',\n",
       " 'kurbelwellensensor',\n",
       " 'ca. 100/200 mv',\n",
       " 'brauch',\n",
       " 'mapp-code',\n",
       " 'tatsächlich 6 stunden zugange',\n",
       " 'alte mittelkonsole',\n",
       " 'kopf bzw',\n",
       " 'unterdruckpumpe',\n",
       " 'achse',\n",
       " 'fotografie',\n",
       " 'kacke',\n",
       " 'staubschutzhüllen',\n",
       " 'austauschteile',\n",
       " 'cinch',\n",
       " 'linken kotflügel',\n",
       " '15 nm',\n",
       " 'einfluss',\n",
       " 'zoll',\n",
       " 'motorkennbuchstaben',\n",
       " 'oldi versicherung',\n",
       " 'audis',\n",
       " 'kupplung',\n",
       " 'pinst',\n",
       " 'minuspol',\n",
       " 'kabelbindern',\n",
       " 'coco',\n",
       " 'mfg mike',\n",
       " 'umschaltung',\n",
       " 'elektrohydraulische stellglied',\n",
       " '5 nm',\n",
       " 'braun/graue kabel',\n",
       " 'heißviskosität',\n",
       " 'gelbe stauscheibe',\n",
       " 'zusatsinstrumente',\n",
       " 'lamdasonde',\n",
       " 'reperatur',\n",
       " 'ausschlussverfahren',\n",
       " 'warmen zustand',\n",
       " 'linken getriebeseite',\n",
       " 'garry',\n",
       " 'zut',\n",
       " 'öltemperaturgeber',\n",
       " '1/16 umdrehung',\n",
       " 'entlüftungsschraube',\n",
       " 'braun-grüne kabel',\n",
       " 'autocheck',\n",
       " 'instandsetzer',\n",
       " 'wire',\n",
       " 'jetronic',\n",
       " 'hey leute',\n",
       " 'aufstecken',\n",
       " 'bruttozeit',\n",
       " 'mini-kat',\n",
       " 'freundlich',\n",
       " 'zusammenrechnen',\n",
       " 'unterdruckschlauch',\n",
       " 'kba',\n",
       " '200 400 umdrehungen',\n",
       " 'vorderrad',\n",
       " 'hallgeber',\n",
       " 'weder motorkran',\n",
       " 'beifahrertür',\n",
       " 'zollstock',\n",
       " '80 b4',\n",
       " 'verdeckung',\n",
       " 'sitzbezüge',\n",
       " 'originalverpackung',\n",
       " 'u/min',\n",
       " 'systemreiniger',\n",
       " 'infach',\n",
       " 'tobi',\n",
       " 'domlager',\n",
       " 'temperaturfühler',\n",
       " 'ufo-bremse',\n",
       " 'gebläsekastens',\n",
       " 'zündung',\n",
       " '2 rentnern',\n",
       " 'beifahrerseite',\n",
       " '28 mm',\n",
       " 'notentriegelungen',\n",
       " 'zündanlage',\n",
       " '4 gelenke',\n",
       " 'aufschließen',\n",
       " 'volt',\n",
       " 'ironie',\n",
       " 'riemenwechsel',\n",
       " 'falsche werte',\n",
       " 'kotflügel',\n",
       " 'lufthutze',\n",
       " 'kühl',\n",
       " 'art.-nr',\n",
       " 'antriebswellen',\n",
       " 'c3',\n",
       " 'logo',\n",
       " 'osram',\n",
       " 'vorgehen',\n",
       " '121.000 km',\n",
       " '750i',\n",
       " '5w40',\n",
       " 'abdichtungen',\n",
       " 'sprich schlechte warmlaufphase',\n",
       " 'fehlersuchprogramm',\n",
       " 'sattler',\n",
       " 'regenrinne',\n",
       " 'oldtimern',\n",
       " 'grüße sami',\n",
       " 'frontantrieb',\n",
       " 'tradition',\n",
       " '4,2er',\n",
       " '99,99 %',\n",
       " 'liebe community',\n",
       " '43-d-000001',\n",
       " '11 €',\n",
       " 'zigarre',\n",
       " 'besiks',\n",
       " 'pumpenräder',\n",
       " 'audi werkzeug',\n",
       " 'dui',\n",
       " 'b4',\n",
       " 'schieberkasten',\n",
       " 'zündspule',\n",
       " 'vw tl',\n",
       " 'langi',\n",
       " 'hallo mt-gemeinde',\n",
       " 'klemme',\n",
       " 'kontakten',\n",
       " 'braun-grün',\n",
       " 'generator',\n",
       " 'england',\n",
       " 'motortyp',\n",
       " 'bilstein',\n",
       " 'anheben',\n",
       " '5w-40',\n",
       " 'n-wellen',\n",
       " 'türkontakt',\n",
       " 'bremsanlage',\n",
       " 'thomas',\n",
       " 'voraus',\n",
       " 'voraussetzungen',\n",
       " 'aschenbecher',\n",
       " 'materialeinsatz',\n",
       " 'california-import',\n",
       " 'euro1',\n",
       " 'saugrohr',\n",
       " 'alleine oberflächenschutz',\n",
       " 'ke-motronic',\n",
       " 'vag teilenummer',\n",
       " 'ausfahrten',\n",
       " '30 nm',\n",
       " 'brücke',\n",
       " 'metalldichtungen',\n",
       " 'rückleuchten',\n",
       " 'mal frage',\n",
       " 'elektronik',\n",
       " 'wurstfinger',\n",
       " 'emotions-ohr',\n",
       " 'eindigen',\n",
       " 'vorderrädern',\n",
       " 'mittelschalldämpfer',\n",
       " '80er',\n",
       " 'steuerung',\n",
       " 'ausgeschalteter zündung',\n",
       " 'ersatzrad',\n",
       " 'modul',\n",
       " 'knecht',\n",
       " 'riemenscheube',\n",
       " '5te',\n",
       " 'cabrio forum',\n",
       " 'ganghebel',\n",
       " 'teilenummer',\n",
       " 'ostern',\n",
       " 'gelenke',\n",
       " 'krümmer',\n",
       " 'geschaltete masse',\n",
       " '5ender',\n",
       " 'moped',\n",
       " 'kühlergrill',\n",
       " 'https://audi.7zap.com/.../',\n",
       " 'seidla',\n",
       " 'hallo frank',\n",
       " 'typenschein',\n",
       " 'blaues licht',\n",
       " 'http://firma-24.de/...%c3%a4chtersbacher-stra%c3%9fe-frankfurt-am-main',\n",
       " 'basf',\n",
       " 'macfet',\n",
       " '9,12,13',\n",
       " 'never',\n",
       " 'gasdämpfer',\n",
       " 'ng-motor',\n",
       " 'mfg harald',\n",
       " 'ke jetronic',\n",
       " 'zündkerzen rausdrehen',\n",
       " 'pos.1',\n",
       " 'benzindruck',\n",
       " 'motorkran',\n",
       " 'verbindungsgummischlauch',\n",
       " 'achsantrieb',\n",
       " 'nettoarbeitzeit',\n",
       " 'fh-motor',\n",
       " 'golf',\n",
       " 'impulsgebers',\n",
       " 'dichtbänder',\n",
       " 'anhängerbetrieb',\n",
       " 'k-anlage',\n",
       " '1000 anleitung',\n",
       " 'werksangabe',\n",
       " 'plakete',\n",
       " 'zeitwertgerechte reparatur',\n",
       " 'amaturenzange',\n",
       " 'schally',\n",
       " 'gummirohrbogen',\n",
       " 'karte',\n",
       " 'stoßdämpfer',\n",
       " 'aeros',\n",
       " '25 €',\n",
       " 'loecher',\n",
       " 'folgefehler',\n",
       " 'motor masse',\n",
       " 's6',\n",
       " 's2',\n",
       " 'n 10w40 drauf,,,das 5er',\n",
       " 'cabriolet',\n",
       " 'jn-motor',\n",
       " 'krümmerriss',\n",
       " 'sensoren',\n",
       " 'norbert',\n",
       " 'windschutzscheibenblende befestigungsleiste abschrauben',\n",
       " 'ruckeln',\n",
       " 'zugange',\n",
       " 'ki',\n",
       " 'bj .',\n",
       " 'hallo fabian',\n",
       " 'euro2',\n",
       " 'scheibenheber',\n",
       " 'wagenfarbe',\n",
       " 'frontkratzer',\n",
       " 'kippbewegung',\n",
       " 'honk',\n",
       " 'drehmomentschlüssel',\n",
       " 'hwt',\n",
       " 'prov',\n",
       " 'htc',\n",
       " '30 mm',\n",
       " 'rote',\n",
       " 'vorraus',\n",
       " 'simon',\n",
       " 'verzeih',\n",
       " 'ein/ausgänge',\n",
       " 'keilen',\n",
       " 'setup',\n",
       " '2/3 materialkosten',\n",
       " 'stossdämpfer',\n",
       " 'gwinnerstr',\n",
       " 'reflektoren',\n",
       " 'dirin',\n",
       " 'typ89-bereich',\n",
       " 'zylinder',\n",
       " 'brauche',\n",
       " 'verlinkungen',\n",
       " '2,3er 2,6er',\n",
       " 'ähnliche anleitung',\n",
       " 'rückenwind',\n",
       " 'atf-stand',\n",
       " 's2 coupé',\n",
       " 'wegbrechen',\n",
       " 'dämpfer',\n",
       " 'langen dünnen schlitzschraubendreher',\n",
       " 'zusatzinstrumenten',\n",
       " 'tankuhr',\n",
       " 'e-mail',\n",
       " 'h kennzeichen',\n",
       " 'steuergeräten',\n",
       " 'scheis',\n",
       " 'adr',\n",
       " 'a3',\n",
       " 'rabattgruppen',\n",
       " 'kaltstartventil',\n",
       " 'gebers',\n",
       " 'orgeln',\n",
       " 'hella/behr',\n",
       " 'hülsen',\n",
       " '2 kabel',\n",
       " 'ciwa',\n",
       " 'tüv',\n",
       " 'unterdruckleitungen',\n",
       " 'falsche verkabelung',\n",
       " 'motoren',\n",
       " 'einspritzdüsen',\n",
       " 'polo',\n",
       " 'originalen zv',\n",
       " 'sami',\n",
       " 'fehlerquellen',\n",
       " 'adac',\n",
       " 'bass',\n",
       " 'delrin',\n",
       " 'leerlaufstellschraube',\n",
       " '1,9 e',\n",
       " 'zündspulen',\n",
       " 'gruß oliver',\n",
       " 'universelle funkfernbedienung',\n",
       " 'verkabelung',\n",
       " 'fahrt',\n",
       " 'alte fett',\n",
       " 'erstellen',\n",
       " 'übernächsten punkt',\n",
       " '7 euro',\n",
       " 'schwarzen stecker',\n",
       " 'stahlfelgen',\n",
       " 'lars',\n",
       " 'blinkcodeausgabe',\n",
       " 'ffb',\n",
       " 'viskositätsverbesserer',\n",
       " 'ffb-box',\n",
       " 'sack nüsse',\n",
       " 'aufdrehen',\n",
       " 'gun-gum',\n",
       " 'funksteuerung',\n",
       " 'co-wert',\n",
       " 'gruss schally',\n",
       " 'fahrprofil',\n",
       " 'bmw-brille',\n",
       " 'frage kommenden teile',\n",
       " 'pos.2',\n",
       " 'venturi',\n",
       " 'leerlaufsteller',\n",
       " 'elektrische stellmotoren',\n",
       " 'hjs',\n",
       " 'zündung bzw klimabedienteil',\n",
       " 'manuelles verdeck',\n",
       " 'vorgehabt',\n",
       " 'defekte mengenteiler',\n",
       " 'restlichen auto',\n",
       " 'öltemperatursensor',\n",
       " 'mfg leon',\n",
       " 'the',\n",
       " 'ausgenullt',\n",
       " 'unterteil',\n",
       " 'neues dichtband',\n",
       " 'schubabschaltung',\n",
       " 'manschetten',\n",
       " 'abt',\n",
       " 'sitze',\n",
       " 'ca. 5 grad',\n",
       " 'neues auto mehr.gründe',\n",
       " 'lüfter',\n",
       " 'garagenwagen',\n",
       " 'normeln aad',\n",
       " 'ladeleitung',\n",
       " 'wozu achsvermessung',\n",
       " 'sicherungsblech',\n",
       " 'alufelgen',\n",
       " 'benz',\n",
       " 'spoiler',\n",
       " 'gegnerische versicherung',\n",
       " 'wunder,,hallo',\n",
       " 'ahh',\n",
       " 'reimport',\n",
       " 'skf',\n",
       " 'ohm',\n",
       " 'fehlzündung',\n",
       " 'rohrbogen',\n",
       " 'radlager',\n",
       " 'diversen stellen',\n",
       " 'stromlaufplan',\n",
       " 'x-kontakt',\n",
       " '86c',\n",
       " 'ats',\n",
       " 'schöne 3-gang-automatik',\n",
       " 'kolleg',\n",
       " 'lenkgetriebe',\n",
       " 'reif',\n",
       " 'gutachten',\n",
       " 'schätze wars',\n",
       " 'zündkerzenbild',\n",
       " 'tageskilometerzähler',\n",
       " 'gehäuse',\n",
       " 'fh',\n",
       " 'angreifen',\n",
       " 'hallo nightticker',\n",
       " 'defekt,,,zündspule',\n",
       " '91 ausführung',\n",
       " 'schranke',\n",
       " 'b3-',\n",
       " 'relais brücken',\n",
       " 'reihenfolge',\n",
       " 'professionelle instandsetzung',\n",
       " 'schaltgetriebe',\n",
       " 'hella bevorzugt 8fh351311',\n",
       " 'grüne hölle',\n",
       " 'nockenwellenräder',\n",
       " 'modell,,,u',\n",
       " 'b-säulenverkleidung',\n",
       " 'zahnriemenabdeckung',\n",
       " 'brauchbar',\n",
       " 'mengenteilerkopf',\n",
       " 'typklasse',\n",
       " 'orginal audi',\n",
       " 'erfindung',\n",
       " 'rückbank',\n",
       " 'ichkanndas',\n",
       " 'aftermarket',\n",
       " 'schweißnaht',\n",
       " 'mittnehmer',\n",
       " 'h-zulassung',\n",
       " '10 minuten',\n",
       " 'synchronring',\n",
       " 'vorratsbehälter',\n",
       " 'entscheident',\n",
       " 'zuleitungskabel',\n",
       " 'relais',\n",
       " 'moin webster',\n",
       " '10w40',\n",
       " '2,3l',\n",
       " 'gebern',\n",
       " 'vorraussetzungen',\n",
       " 'innereien',\n",
       " 'mittelkonsole',\n",
       " 'altes golf-cabrio',\n",
       " 'ausgleichsgetriebe',\n",
       " 'ausem',\n",
       " 'öllampe',\n",
       " 'elsa',\n",
       " 'cab',\n",
       " 'gewissensentscheidung',\n",
       " 'bänder',\n",
       " '100 grad',\n",
       " 'kontr',\n",
       " 'esd',\n",
       " '9 ltr',\n",
       " 'zentralschraube',\n",
       " 'einsetzen',\n",
       " '10 monaten',\n",
       " 'dichte pumpe',\n",
       " 'konservierung',\n",
       " 'erforderliches öl',\n",
       " 'cards',\n",
       " 'öldruckwerte',\n",
       " 'repairstick',\n",
       " 'kofferaumschloss',\n",
       " 'bordspannung',\n",
       " 'verstärker',\n",
       " 'aufschrift',\n",
       " 'orginalen geber',\n",
       " 'mahle',\n",
       " 'originalität',\n",
       " '20v turbo',\n",
       " 'strukturlack',\n",
       " 'wfs',\n",
       " 'schwachstellen',\n",
       " 'ms-650',\n",
       " 'originalen bosch-teilenummer',\n",
       " 'alter,,es',\n",
       " 'windschutzscheibe',\n",
       " 'laufendem motor',\n",
       " '1000 km',\n",
       " 'offroad-auto',\n",
       " 'passende thema',\n",
       " 'funtionierenden motor',\n",
       " 'votex',\n",
       " 'dichtschnur',\n",
       " 'coupé',\n",
       " 'richtige kaufberatung',\n",
       " 'austauschlenkgetriebe',\n",
       " '5000 km',\n",
       " 'bekannten 10',\n",
       " '80 cabriolet',\n",
       " 'steuerblock',\n",
       " 'rest-tüv',\n",
       " 'schönen gruss',\n",
       " 'oe-teil',\n",
       " 'hella wärmetauscher',\n",
       " 'untere lenkradverkleidung',\n",
       " 'drehzahlmesser',\n",
       " 'colonia',\n",
       " 'flansch',\n",
       " 'hella öldruckschalter',\n",
       " 'instrumenten',\n",
       " 'luftdurchsatz',\n",
       " 'wees',\n",
       " 'instandsetzung',\n",
       " 'rl',\n",
       " 'winterbetrieb',\n",
       " 'aufrund',\n",
       " 'reserverad',\n",
       " 'standartwerkzeug',\n",
       " 'menzerna',\n",
       " 'probefahrt',\n",
       " 'elring',\n",
       " 'brenner',\n",
       " 'getriebeöl',\n",
       " 'gasstoß',\n",
       " 'vorgrspannt',\n",
       " 'akte',\n",
       " 'leitfaden',\n",
       " 'breite leiste',\n",
       " 'zeilen',\n",
       " 'zündanlasschalter',\n",
       " 'mal iwo',\n",
       " 'scheinwerfern',\n",
       " 'genaue anweisungen',\n",
       " 'türverkleidung',\n",
       " '2 stecker',\n",
       " 'kurven/einschlagen',\n",
       " 'hydros',\n",
       " 'liter/100',\n",
       " 'hallo dagmar,,,um audi model',\n",
       " 'vollkastko',\n",
       " 'funk',\n",
       " 'qualifikation',\n",
       " 'eventuellen reparaturen',\n",
       " 'splint',\n",
       " 'warmlaufregler',\n",
       " 'km langstrecke',\n",
       " 'schoeppenstedt',\n",
       " 'nochimmer',\n",
       " 'tarif',\n",
       " 'sonnenschein',\n",
       " 'messgerät',\n",
       " 'ziehen',\n",
       " 'mindestwert',\n",
       " 'passat',\n",
       " 'herrn',\n",
       " 'abgasuntersuchung',\n",
       " 'g12',\n",
       " '2,8er',\n",
       " 'b4 modell,,,u',\n",
       " 'mengenteiler',\n",
       " 'spannrolle',\n",
       " '1/16',\n",
       " 'kurven/einschlagen räder',\n",
       " 'robert',\n",
       " 'ke-jet',\n",
       " 'lecwec',\n",
       " 'kühlmittel',\n",
       " 'msg',\n",
       " 'kreis',\n",
       " 'geschrieben.die klimaautomatik',\n",
       " 'bremsflüssigkeit',\n",
       " 'bolzen',\n",
       " 'hi crtp',\n",
       " 'kat',\n",
       " 'tdi',\n",
       " 'prüfung',\n",
       " 'herausfiltern',\n",
       " 'ventildeckeldichtung',\n",
       " 'seilfett',\n",
       " 'relaisplatz',\n",
       " 'monomotronik',\n",
       " 'entlastungsrelais',\n",
       " 'benötigtes material',\n",
       " 'verschiedene anleitungen',\n",
       " 'abkürzung',\n",
       " 'offenen grün/blauen kabels',\n",
       " 'leichten kühlwasser verlust',\n",
       " 'werkzeug/lineal',\n",
       " 'peilstab',\n",
       " 'dichtmasse',\n",
       " 'contitech',\n",
       " 'audi 200 5e typ',\n",
       " '97.000 km',\n",
       " 'lima',\n",
       " '4 gummilagern',\n",
       " 'ausgleichsventil',\n",
       " 'rentner',\n",
       " 'http://download.autobild.de/.../oldtimerrichtlinie_h-kennzeichen.pdf',\n",
       " 'rennpm',\n",
       " 'endschalldämpfer',\n",
       " 'spannungswandler',\n",
       " 'gruß stefan',\n",
       " 'themenstarter',\n",
       " 'dne',\n",
       " 'laufleistung',\n",
       " '2,5 umdrehungen rausdrehen',\n",
       " 'einheit',\n",
       " 'funkferbedienung',\n",
       " 'motorhaube',\n",
       " 'titanium',\n",
       " 'gut-glück',\n",
       " 'minikat',\n",
       " 'sensor',\n",
       " 'einspritzanlage',\n",
       " 'verkokungen',\n",
       " 'bzw.tipp',\n",
       " 'po',\n",
       " 'scho',\n",
       " '90er',\n",
       " 'xenon',\n",
       " '66kw',\n",
       " 'zi',\n",
       " 'endstufe',\n",
       " 'wartungsstau',\n",
       " 'metern',\n",
       " 'benzin system reiniger',\n",
       " 'hanno',\n",
       " '0.5 liter',\n",
       " 'offenem draht',\n",
       " 'drahtseilspray',\n",
       " 'jumper',\n",
       " 'fettes gemisch',\n",
       " 'auflage',\n",
       " 'temperatursensor',\n",
       " 'komische zeichnung',\n",
       " 'ölverbrauch',\n",
       " 'schaltvorgang',\n",
       " 'sound is wahnsinn',\n",
       " 'zusatzluftschieber',\n",
       " 'modus',\n",
       " 'zv',\n",
       " 'durchtrennten kabel',\n",
       " 'cent-artikel',\n",
       " 'generalüberholung',\n",
       " 'notprogramm',\n",
       " 'co2',\n",
       " 'pluspol',\n",
       " 'kraftstoffpumpe',\n",
       " 'antriebswellengelenk',\n",
       " '1,8bar',\n",
       " '1ky',\n",
       " 'g50',\n",
       " 'laternenparker',\n",
       " 'traktor',\n",
       " 'herkunft nichr',\n",
       " 'überschüssigen runden',\n",
       " 'g4',\n",
       " 'falschluft',\n",
       " 'undichtigkeit',\n",
       " 'schrottplatz',\n",
       " 'übersetzung 0.56 6ten gang',\n",
       " 'längsten stelle',\n",
       " 'pampe',\n",
       " 'zünkerzen',\n",
       " 'bermuda-dreieck',\n",
       " '+12v',\n",
       " 'aschlüsse',\n",
       " 'unterdruckversorgung',\n",
       " 'eingebauter gasanlage',\n",
       " 'anlasser??ist',\n",
       " 'eintragung',\n",
       " 'fußausströmer',\n",
       " 'grüßle andy',\n",
       " 'diff.undicht',\n",
       " 'trägereinheit',\n",
       " '6 stunden',\n",
       " 'benzinführenden',\n",
       " 'mehrlenkerachse',\n",
       " 'schwarzen schaumstoffblock',\n",
       " 'serviceheft',\n",
       " 'guß',\n",
       " 'sockel hoffentlich kompletten kabelstrang einklipsen',\n",
       " 'klr',\n",
       " 'luftmengeneiler',\n",
       " 'galvanisierbetrieb',\n",
       " '90 ps',\n",
       " 'steuermodule',\n",
       " 'funkfernbedienung',\n",
       " 'ansaugung',\n",
       " 'multimeter',\n",
       " 'gelbe kabel',\n",
       " 'engländer',\n",
       " 'masseschluss',\n",
       " 'andy',\n",
       " 'kunststoffe',\n",
       " 'allianz',\n",
       " 'tbc',\n",
       " 'fußraum',\n",
       " '15 ltr./100 km',\n",
       " 'antriebswelle',\n",
       " 'blinkern',\n",
       " 'ke',\n",
       " 'stecker/anschluss',\n",
       " '5bar',\n",
       " 'steuereinheit',\n",
       " 'zuordnung',\n",
       " 'systemdruckregler',\n",
       " 'motivation',\n",
       " 'obere hälfte',\n",
       " 'poti',\n",
       " 'kolben',\n",
       " 'bestimmten alter',\n",
       " '7x15',\n",
       " 'ölwchselmenge',\n",
       " 'folgend',\n",
       " 'oxtorn',\n",
       " 'bessere wahl',\n",
       " 'spritsparen',\n",
       " 'ausstentemperatur',\n",
       " 'foto leiste',\n",
       " 'zigarette',\n",
       " 'hallo crtp',\n",
       " 'leiste/dichtung',\n",
       " 'beschriebene art',\n",
       " 'strukturfarbe',\n",
       " 'ölwechsel',\n",
       " '1,6er ada ausgenullt',\n",
       " 'fatschen',\n",
       " '100er quattro',\n",
       " '6 monate',\n",
       " 'abschaltventil',\n",
       " 'gasannahme',\n",
       " 'umrüsten möchstest',\n",
       " 'mal bild',\n",
       " 'europa standard',\n",
       " 'audifreak1919',\n",
       " 'gusseisen',\n",
       " 'cep',\n",
       " 'startverhalten',\n",
       " 'wars',\n",
       " 'mal durch,,,,zündkabel',\n",
       " 'diagnose',\n",
       " '200er',\n",
       " 'sätzen',\n",
       " 'kerzengewinde',\n",
       " 'relaisträger',\n",
       " 'durchmessen',\n",
       " 'materialstärke',\n",
       " 'ne ms-650',\n",
       " 'mechaniker,,,möchtegern',\n",
       " 'b2',\n",
       " 'steuergerät',\n",
       " 'laufenden motor',\n",
       " '44er',\n",
       " 'axton',\n",
       " 'ölfiltergehäuse',\n",
       " 'ltr./100',\n",
       " '133 ps',\n",
       " 'konus',\n",
       " 'hauptbremszylinder',\n",
       " 'ke-jet mengenteiler',\n",
       " 'charge3',\n",
       " 'vortreiben',\n",
       " 'atf',\n",
       " 'boschteil',\n",
       " '29 %',\n",
       " 'toleranz',\n",
       " 'austria',\n",
       " 'zündreihenfolge',\n",
       " 'leer .... masseschluss',\n",
       " 'zündkerzen',\n",
       " 'sachs',\n",
       " 'temperaturgeber',\n",
       " 'oldtimer',\n",
       " 'g48',\n",
       " 'getriebeseite',\n",
       " 'braun/graue',\n",
       " 'koax',\n",
       " 'ausblinken',\n",
       " 'ablaßschraube',\n",
       " '2.2 t',\n",
       " 'pip',\n",
       " 'blau grün',\n",
       " 'öldruckschalters',\n",
       " 'hallgebers',\n",
       " 'diff.undicht usw',\n",
       " 'anzugsdrehmoment',\n",
       " 'steckers',\n",
       " 'mt-gemeinde',\n",
       " 'nichtmal auspuff',\n",
       " 'schmierung',\n",
       " 'bessere starrachse',\n",
       " 'verbrauchswerten',\n",
       " 'o-ring',\n",
       " 'typ89',\n",
       " 'diagnose stecker',\n",
       " 'leds',\n",
       " 'thermoschalter',\n",
       " 'uhrzeigersinn',\n",
       " 'tacho',\n",
       " 'leitungssystem',\n",
       " 'äußere gelenke',\n",
       " 'lenkradverkleidung',\n",
       " 'gepflegtes fahrzeug',\n",
       " 'ölfilterflansch',\n",
       " 'spezialfirmen',\n",
       " 'weissen blauen kabel',\n",
       " 'votexspoiler',\n",
       " 'motornummer',\n",
       " 'origiginalteile',\n",
       " 'auspuff',\n",
       " 'bsp',\n",
       " 'etwaigen problemen',\n",
       " '20 grad ausstentemperatur',\n",
       " 'audi fans',\n",
       " 'abmachen',\n",
       " 'farbunterschiede',\n",
       " 'nehmen',\n",
       " 'liter sprit',\n",
       " 'leerlaufregler',\n",
       " 'lastbereiche',\n",
       " 'katalysator',\n",
       " 'benziner',\n",
       " '6ter',\n",
       " 'ca. 1 1/2 stunden',\n",
       " 'untere einstellschraube',\n",
       " 'kühlmittelschläuche',\n",
       " 'solide basis',\n",
       " 'schaltteil',\n",
       " 'negative ansteuerung',\n",
       " 'kaufberatung',\n",
       " 'mengenverteiler',\n",
       " 'fg-nr',\n",
       " 'tachowelle',\n",
       " 'kabels',\n",
       " 'signale',\n",
       " 'verkabeln',\n",
       " 'fb',\n",
       " 'relaissockel',\n",
       " 'pa',\n",
       " '4f',\n",
       " 'antenne',\n",
       " 'h zulassung',\n",
       " 'füllstandkontrolle',\n",
       " 'ly1v gobi metallic',\n",
       " 'sprit',\n",
       " 'au',\n",
       " '5gang',\n",
       " 'getriebekennbuchstaben',\n",
       " 'p2047675.l2563',\n",
       " '431819211a',\n",
       " '2k',\n",
       " 'ngk',\n",
       " 'stockcar',\n",
       " 'patrick',\n",
       " 'spezielle dichtung',\n",
       " 'spannungsversorgung',\n",
       " 'normteile',\n",
       " 'halten krümmer',\n",
       " 'webster',\n",
       " 'radio/klimabedienteil',\n",
       " 'freundlichen grüßen',\n",
       " 'china-clone',\n",
       " 'kaltstartklappe',\n",
       " ...}"
      ]
     },
     "execution_count": 129,
     "metadata": {},
     "output_type": "execute_result"
    }
   ],
   "source": [
    "concepts"
   ]
  },
  {
   "cell_type": "code",
   "execution_count": 128,
   "metadata": {},
   "outputs": [],
   "source": [
    "#concepts = list(set([item for sublist in adac_domain for item in sublist]))\n",
    "with open(\"concepts.txt\", \"w\") as fp:\n",
    "    fp.writelines('\\n'.join(concepts))"
   ]
  },
  {
   "cell_type": "code",
   "execution_count": 115,
   "metadata": {},
   "outputs": [
    {
     "data": {
      "text/plain": [
       "['3000 €',\n",
       " 'kraftstoffdruckregler',\n",
       " 'durchführungen',\n",
       " 'wasserkastenabdeckung',\n",
       " 'aob',\n",
       " 'scheuerstelle',\n",
       " 'zulassungsstelle',\n",
       " '19 zöller',\n",
       " 'bosch classic',\n",
       " 'jp',\n",
       " 'zahnstange',\n",
       " 'audi_90_quattro_20v',\n",
       " 'inus',\n",
       " 'dichtringe',\n",
       " 'drinne',\n",
       " 'classic',\n",
       " 'weg ziel',\n",
       " 'kühlmittelanschlüsse',\n",
       " 'quarantäne',\n",
       " 'kreislauf',\n",
       " 'italien',\n",
       " '0,5 mm^2',\n",
       " 'sportlenkrad',\n",
       " 'moly',\n",
       " 'regerge',\n",
       " 'laufzeit',\n",
       " 'kompression',\n",
       " 'anfängerauto',\n",
       " 'ausführlichen anleitung',\n",
       " 'flitzer',\n",
       " 'modelle',\n",
       " 'audi90',\n",
       " 'abschliessen',\n",
       " 'gruss',\n",
       " 'simple vorderachse',\n",
       " 'letzten 6 wochen',\n",
       " 'stellelement',\n",
       " 'quelle',\n",
       " 'ot markierung',\n",
       " 'leuchtmittel',\n",
       " 'fehler',\n",
       " 'mitm',\n",
       " '13d lenkrad',\n",
       " 'ng',\n",
       " 'kunststoffspachtelmasse',\n",
       " 'schaumstoffblock',\n",
       " 'mühen',\n",
       " 'kombieinstrument',\n",
       " 'warmem motor',\n",
       " 'ablaufschlauch',\n",
       " 'pumpenrelais',\n",
       " 'klimatronik',\n",
       " '4 komplette heber',\n",
       " 'übrigen leitungen',\n",
       " 'schaufelrad',\n",
       " 'neueren modellen',\n",
       " '2 austauschlenkgetriebe',\n",
       " 'simmerring',\n",
       " 'manschette',\n",
       " 'ensetzten',\n",
       " 'knarren',\n",
       " 'o-ringe',\n",
       " '5er',\n",
       " 'windschutzscheibenblende',\n",
       " 'ölfilter adapter',\n",
       " 'wärmetauscher',\n",
       " 'zv-pumpe',\n",
       " 'dranhängen',\n",
       " 'verlust',\n",
       " 'ot',\n",
       " 'zusammenbauen',\n",
       " 'automatik',\n",
       " 'sicherungsringe',\n",
       " 'mono',\n",
       " 'duplikat',\n",
       " 'automaten',\n",
       " 'instrumente',\n",
       " 'reifengröße',\n",
       " 'genehmigung',\n",
       " 'ot lineal',\n",
       " 'ventilation',\n",
       " 'modellen',\n",
       " 'stauscheibe',\n",
       " 'fahrzeughorn',\n",
       " 'forum',\n",
       " 'and',\n",
       " 'leisten',\n",
       " 'vdd',\n",
       " 'desweiteren',\n",
       " 'spezielle strukturfarbe',\n",
       " 'et',\n",
       " 'luftmengenmesser',\n",
       " 'kabelstrang hintere zv',\n",
       " 'schlachten\"-',\n",
       " 'anzeigen',\n",
       " 'öldruckgeber',\n",
       " 'ffm',\n",
       " 'leitungen',\n",
       " 'öltemp',\n",
       " 'abdeckung',\n",
       " 'tauschen',\n",
       " 'zündschlüssel',\n",
       " 'spannung',\n",
       " 'transistor',\n",
       " 'metallklammern',\n",
       " 'kreuzschlitzschraube',\n",
       " 'blinkerrelais',\n",
       " 'übersetzten getriebe',\n",
       " 'jedenfall',\n",
       " 'qualm',\n",
       " 'kalten zustand',\n",
       " 'forum.group44',\n",
       " 'kjet',\n",
       " 'autos',\n",
       " 'tastverhältnis',\n",
       " 'scheibenwischerarme',\n",
       " 'einfach kindisches verhalten',\n",
       " 'ferrariknoe',\n",
       " 'katlosen',\n",
       " 'nichr',\n",
       " 'zündanlassschalter',\n",
       " 'innern',\n",
       " 'sektkorken',\n",
       " 'ze',\n",
       " 'verbindungsschlauch',\n",
       " 'fahrertür',\n",
       " 'differentialgetriebe',\n",
       " 'nachrüstfunkfernbedienung',\n",
       " 'for',\n",
       " 'thermostats',\n",
       " 'nm',\n",
       " 'ursprüngliche position',\n",
       " 'prüfstellen',\n",
       " 'warnung',\n",
       " 'linke radlager',\n",
       " 'summen',\n",
       " 'temperatur sensor',\n",
       " 'kba70212',\n",
       " 'drucksteller',\n",
       " 'riemenscheibe',\n",
       " 'quasi plus',\n",
       " 'arx 6gang getriebe',\n",
       " 'linken bank',\n",
       " 'riemen',\n",
       " 'kontakte',\n",
       " 'sub',\n",
       " 'aad',\n",
       " 'namenhaften herstellern',\n",
       " 'j192',\n",
       " '90ps',\n",
       " 'markierung',\n",
       " 'hylomar',\n",
       " 'singuläre dinge',\n",
       " 'saisonen',\n",
       " 'magnetventil',\n",
       " 'benzindruckmessung',\n",
       " 'ölpumpe',\n",
       " 'usa',\n",
       " 'original audi',\n",
       " '1,6er',\n",
       " 'benzindruckregler',\n",
       " 'drehzahlmessers',\n",
       " 'lamdaregelung',\n",
       " 'hp2',\n",
       " '10,5v',\n",
       " 'anschlag',\n",
       " 'vergaser-motor',\n",
       " '2 stück',\n",
       " 'altes dichtband',\n",
       " 'zündverteiler',\n",
       " 'oberteil',\n",
       " 'behr-hella',\n",
       " 'einbeziehen',\n",
       " 'klaren defekt',\n",
       " 'schönes we',\n",
       " 'traggelenk',\n",
       " 'mercedes',\n",
       " 'https://rover.ebay.com/.../0',\n",
       " 'gravierenden schwachstellen',\n",
       " 'sollwert',\n",
       " 'silikondichtmasse',\n",
       " 'kraftstoff',\n",
       " 'aufwändigere hinterachse',\n",
       " 'usb',\n",
       " 'servotronic',\n",
       " 'europa',\n",
       " 'kennzeichen',\n",
       " 'mercedes benz',\n",
       " 'ltr',\n",
       " 'alu kopf',\n",
       " 'fronttriebler',\n",
       " 'gruß frank',\n",
       " 'herkunft',\n",
       " 'grün/blaue kabel',\n",
       " 'mkb',\n",
       " 'referenzmessung',\n",
       " \"zi 's\",\n",
       " 'leistung',\n",
       " 'steuer',\n",
       " 'audi satz',\n",
       " 'j257',\n",
       " 'kurbelwellensensor',\n",
       " 'einbau',\n",
       " 'ca. 100/200 mv',\n",
       " 'brauch',\n",
       " 'mapp-code',\n",
       " 'tatsächlich 6 stunden zugange',\n",
       " 'alte mittelkonsole',\n",
       " 'kopf bzw',\n",
       " 'unterdruckpumpe',\n",
       " 'achse',\n",
       " 'fotografie',\n",
       " 'kacke',\n",
       " 'staubschutzhüllen',\n",
       " 'service',\n",
       " 'austauschteile',\n",
       " 'cinch',\n",
       " 'linken kotflügel',\n",
       " '15 nm',\n",
       " 'einfluss',\n",
       " 'zoll',\n",
       " 'motorkennbuchstaben',\n",
       " 'oldi versicherung',\n",
       " 'lampen',\n",
       " 'audis',\n",
       " 'kupplung',\n",
       " 'schauen',\n",
       " 'pinst',\n",
       " 'minuspol',\n",
       " 'kabelbindern',\n",
       " 'hersteller',\n",
       " 'coco',\n",
       " 'mfg mike',\n",
       " 'umschaltung',\n",
       " 'elektrohydraulische stellglied',\n",
       " '5 nm',\n",
       " 'braun/graue kabel',\n",
       " 'heißviskosität',\n",
       " 'gelbe stauscheibe',\n",
       " 'zusatsinstrumente',\n",
       " 'lamdasonde',\n",
       " 'süd',\n",
       " 'ring',\n",
       " 'reperatur',\n",
       " 'ausschlussverfahren',\n",
       " 'warmen zustand',\n",
       " 'linken getriebeseite',\n",
       " 'innenraum',\n",
       " 'position',\n",
       " 'zut',\n",
       " 'garry',\n",
       " 'öltemperaturgeber',\n",
       " '1/16 umdrehung',\n",
       " 'entlüftungsschraube',\n",
       " 'braun-grüne kabel',\n",
       " 'autocheck',\n",
       " 'schrott',\n",
       " 'instandsetzer',\n",
       " 'wire',\n",
       " 'jetronic',\n",
       " 'hey leute',\n",
       " 'aufstecken',\n",
       " 'halterung',\n",
       " 'bruttozeit',\n",
       " 'mini-kat',\n",
       " 'freundlich',\n",
       " 'zusammenrechnen',\n",
       " 'kleister',\n",
       " 'unterdruckschlauch',\n",
       " 'kba',\n",
       " '200 400 umdrehungen',\n",
       " 'vorderrad',\n",
       " 'hallgeber',\n",
       " '1x',\n",
       " 'weder motorkran',\n",
       " 'beifahrertür',\n",
       " 'zollstock',\n",
       " 'garage',\n",
       " '80 b4',\n",
       " 'verdeckung',\n",
       " 'sitzbezüge',\n",
       " 'originalverpackung',\n",
       " 'u/min',\n",
       " 'systemreiniger',\n",
       " 'infach',\n",
       " 'tobi',\n",
       " 'domlager',\n",
       " 'temperaturfühler',\n",
       " 'ufo-bremse',\n",
       " 'gebläsekastens',\n",
       " 'zündung',\n",
       " '2 rentnern',\n",
       " 'beifahrerseite',\n",
       " '28 mm',\n",
       " 'notentriegelungen',\n",
       " 'zündanlage',\n",
       " '4 gelenke',\n",
       " 'aufschließen',\n",
       " 'mitlerweile',\n",
       " 'volt',\n",
       " 'ironie',\n",
       " 'riemenwechsel',\n",
       " 'demontage',\n",
       " 'ausführung',\n",
       " 'erwin',\n",
       " 'falsche werte',\n",
       " 'kotflügel',\n",
       " 'lufthutze',\n",
       " 'kühl',\n",
       " 'update',\n",
       " 'usw',\n",
       " 'c3',\n",
       " 'art.-nr',\n",
       " 'antriebswellen',\n",
       " 'logo',\n",
       " 'osram',\n",
       " 'vorgehen',\n",
       " '121.000 km',\n",
       " 'fällen',\n",
       " 'substanz',\n",
       " '750i',\n",
       " '5w40',\n",
       " 'abdichtungen',\n",
       " 'sprich schlechte warmlaufphase',\n",
       " 'fehlersuchprogramm',\n",
       " 'sattler',\n",
       " 'regenrinne',\n",
       " 'oldtimern',\n",
       " 'grüße sami',\n",
       " 'frontantrieb',\n",
       " 'tradition',\n",
       " 'sicherungen',\n",
       " 'kirche',\n",
       " '4,2er',\n",
       " '99,99 %',\n",
       " 'liebe community',\n",
       " '43-d-000001',\n",
       " '11 €',\n",
       " 'zigarre',\n",
       " 'besiks',\n",
       " 'pumpenräder',\n",
       " 'audi werkzeug',\n",
       " 'dui',\n",
       " 'b4',\n",
       " 'schieberkasten',\n",
       " 'zündspule',\n",
       " 'bank',\n",
       " 'vw tl',\n",
       " 'langi',\n",
       " 'hallo mt-gemeinde',\n",
       " 'klemme',\n",
       " 'kontakten',\n",
       " 'braun-grün',\n",
       " 'generator',\n",
       " 'sender',\n",
       " 'motortyp',\n",
       " 'england',\n",
       " 'bilstein',\n",
       " 'anheben',\n",
       " '5w-40',\n",
       " 'n-wellen',\n",
       " '100 kg',\n",
       " 'türkontakt',\n",
       " 'bremsanlage',\n",
       " 'thomas',\n",
       " 'sek',\n",
       " 'voraus',\n",
       " 'voraussetzungen',\n",
       " 'aschenbecher',\n",
       " 'materialeinsatz',\n",
       " 'california-import',\n",
       " 'euro1',\n",
       " 'saugrohr',\n",
       " 'alleine oberflächenschutz',\n",
       " 'ke-motronic',\n",
       " 'vag teilenummer',\n",
       " 'ausfahrten',\n",
       " '30 nm',\n",
       " 'brücke',\n",
       " 'metalldichtungen',\n",
       " 'tausch',\n",
       " 'rückleuchten',\n",
       " 'riss',\n",
       " 'mal frage',\n",
       " 'elektronik',\n",
       " 'wurstfinger',\n",
       " 'emotions-ohr',\n",
       " 'eindigen',\n",
       " 's4',\n",
       " 'vorderrädern',\n",
       " 'mittelschalldämpfer',\n",
       " '80er',\n",
       " 'steuerung',\n",
       " 'ausgeschalteter zündung',\n",
       " 'netz',\n",
       " 'ersatzrad',\n",
       " 'modul',\n",
       " 'knecht',\n",
       " 'getriebe',\n",
       " 'riemenscheube',\n",
       " '5te',\n",
       " 'cabrio forum',\n",
       " 'ganghebel',\n",
       " 'teilenummer',\n",
       " 'is',\n",
       " 'ostern',\n",
       " 'gelenke',\n",
       " 'krümmer',\n",
       " 'geschaltete masse',\n",
       " '5ender',\n",
       " 'moped',\n",
       " 'kühlergrill',\n",
       " 'https://audi.7zap.com/.../',\n",
       " 'seidla',\n",
       " 'hallo frank',\n",
       " 'typenschein',\n",
       " 'blaues licht',\n",
       " 'http://firma-24.de/...%c3%a4chtersbacher-stra%c3%9fe-frankfurt-am-main',\n",
       " 'basf',\n",
       " 'macfet',\n",
       " '9,12,13',\n",
       " 'spur',\n",
       " 'never',\n",
       " 'gasdämpfer',\n",
       " 'ng-motor',\n",
       " 'stehen',\n",
       " 'mfg harald',\n",
       " 'unterdruck',\n",
       " 'ke jetronic',\n",
       " 'zündkerzen rausdrehen',\n",
       " 'komponenten',\n",
       " 'pos.1',\n",
       " 'benzindruck',\n",
       " 'model',\n",
       " 'schlägen',\n",
       " 'motorkran',\n",
       " 'verbindungsgummischlauch',\n",
       " 'achsantrieb',\n",
       " 'nettoarbeitzeit',\n",
       " 'fh-motor',\n",
       " 'österreich',\n",
       " 'golf',\n",
       " '3 stück',\n",
       " 'impulsgebers',\n",
       " 'dichtbänder',\n",
       " 'anhängerbetrieb',\n",
       " 'k-anlage',\n",
       " 'werkstatt',\n",
       " '1000 anleitung',\n",
       " 'werksangabe',\n",
       " 'plakete',\n",
       " 'zeitwertgerechte reparatur',\n",
       " 'amaturenzange',\n",
       " 'schally',\n",
       " 'umbauten',\n",
       " 'gemisch',\n",
       " 'gummirohrbogen',\n",
       " 'karte',\n",
       " 'stoßdämpfer',\n",
       " 'gestänge',\n",
       " 'aeros',\n",
       " '25 €',\n",
       " 'loecher',\n",
       " 'folgefehler',\n",
       " 'motor masse',\n",
       " 's6',\n",
       " 's2',\n",
       " 'n 10w40 drauf,,,das 5er',\n",
       " 'cabriolet',\n",
       " 'jn-motor',\n",
       " 'krümmerriss',\n",
       " 'system',\n",
       " 'sensoren',\n",
       " 'norbert',\n",
       " 'prinzip',\n",
       " 'windschutzscheibenblende befestigungsleiste abschrauben',\n",
       " 'anschluss',\n",
       " 'ruckeln',\n",
       " 'zugange',\n",
       " 'ki',\n",
       " 'bj .',\n",
       " 'hallo fabian',\n",
       " 'euro2',\n",
       " 'scheibenheber',\n",
       " 'wagenfarbe',\n",
       " 'frontkratzer',\n",
       " 'kippbewegung',\n",
       " 'honk',\n",
       " 'drehmomentschlüssel',\n",
       " 'hwt',\n",
       " 'prov',\n",
       " 'eventuell',\n",
       " 'tank',\n",
       " 'htc',\n",
       " 'murks',\n",
       " '30 mm',\n",
       " 'rote',\n",
       " 'vorraus',\n",
       " 'simon',\n",
       " 'verzeih',\n",
       " 'ein/ausgänge',\n",
       " 'keilen',\n",
       " '800 €',\n",
       " 'setup',\n",
       " '2/3 materialkosten',\n",
       " 'stossdämpfer',\n",
       " 'gwinnerstr',\n",
       " 'reflektoren',\n",
       " 'dirin',\n",
       " 'typ89-bereich',\n",
       " 'zylinder',\n",
       " 'nummer',\n",
       " 'eindruck',\n",
       " 'brauche',\n",
       " 'verlinkungen',\n",
       " '2,3er 2,6er',\n",
       " 'ähnliche anleitung',\n",
       " 'rückenwind',\n",
       " 'atf-stand',\n",
       " 's2 coupé',\n",
       " 'entlüften',\n",
       " 'wegbrechen',\n",
       " 'dämpfer',\n",
       " 'strecken',\n",
       " 'funktion',\n",
       " 'testen',\n",
       " 'langen dünnen schlitzschraubendreher',\n",
       " 'dauer',\n",
       " 'zusatzinstrumenten',\n",
       " 'tankuhr',\n",
       " 'kerze',\n",
       " 'e-mail',\n",
       " 'h kennzeichen',\n",
       " 'ziel',\n",
       " 'steuergeräten',\n",
       " 'scheis',\n",
       " 'adr',\n",
       " 'a3',\n",
       " 'rabattgruppen',\n",
       " 'kaltstartventil',\n",
       " 'gebers',\n",
       " 'orgeln',\n",
       " 'hella/behr',\n",
       " 'hülsen',\n",
       " '2 kabel',\n",
       " 'ciwa',\n",
       " 'tüv',\n",
       " 'hannes',\n",
       " 'februar',\n",
       " 'unterdruckleitungen',\n",
       " 'falsche verkabelung',\n",
       " 'motoren',\n",
       " 'einspritzdüsen',\n",
       " 'polo',\n",
       " 'rahmen',\n",
       " 'sami',\n",
       " 'fehlerquellen',\n",
       " 'originalen zv',\n",
       " 'adac',\n",
       " 'bass',\n",
       " 'delrin',\n",
       " 'leerlaufstellschraube',\n",
       " '1,9 e',\n",
       " 'zündspulen',\n",
       " 'verlegung',\n",
       " 'gruß oliver',\n",
       " 'universelle funkfernbedienung',\n",
       " 'verkabelung',\n",
       " 'fahrt',\n",
       " 'alte fett',\n",
       " 'erstellen',\n",
       " 'übernächsten punkt',\n",
       " '7 euro',\n",
       " 'schwarzen stecker',\n",
       " 'stahlfelgen',\n",
       " 'lars',\n",
       " 'blinkcodeausgabe',\n",
       " 'ha',\n",
       " 'ffb',\n",
       " 'viskositätsverbesserer',\n",
       " 'ffb-box',\n",
       " 'sack nüsse',\n",
       " 'aufdrehen',\n",
       " 'bereich',\n",
       " 'gun-gum',\n",
       " 'bmw',\n",
       " 'funksteuerung',\n",
       " 'co-wert',\n",
       " 'gruss schally',\n",
       " 'fahrprofil',\n",
       " 'bmw-brille',\n",
       " 'frage kommenden teile',\n",
       " 'pos.2',\n",
       " 'venturi',\n",
       " 'leerlaufsteller',\n",
       " 'elektrische stellmotoren',\n",
       " 'wissens',\n",
       " 'hjs',\n",
       " 'zündung bzw klimabedienteil',\n",
       " 'manuelles verdeck',\n",
       " 'vorgehabt',\n",
       " 'defekte mengenteiler',\n",
       " 'restlichen auto',\n",
       " 'öltemperatursensor',\n",
       " 'verzweifeln',\n",
       " 'defekt',\n",
       " 'mfg leon',\n",
       " 'the',\n",
       " 'ausgenullt',\n",
       " 'i.d.r',\n",
       " 'unterteil',\n",
       " 'neues dichtband',\n",
       " 'schubabschaltung',\n",
       " 'manschetten',\n",
       " 'abt',\n",
       " 'sitze',\n",
       " 'schlimmsten fall',\n",
       " 'ca. 5 grad',\n",
       " 'neues auto mehr.gründe',\n",
       " 'lüfter',\n",
       " 'garagenwagen',\n",
       " 'normeln aad',\n",
       " 'ladeleitung',\n",
       " 'wozu achsvermessung',\n",
       " 'sicherungsblech',\n",
       " 'alufelgen',\n",
       " 'benz',\n",
       " 'funzt',\n",
       " 'straße',\n",
       " 'spoiler',\n",
       " 'gegnerische versicherung',\n",
       " 'wunder,,hallo',\n",
       " 'ahh',\n",
       " 'reimport',\n",
       " 'grund',\n",
       " 'skf',\n",
       " 'ohm',\n",
       " 'fehlzündung',\n",
       " 'rohrbogen',\n",
       " 'radlager',\n",
       " 'diversen stellen',\n",
       " 'stromlaufplan',\n",
       " 'x-kontakt',\n",
       " '86c',\n",
       " 'ats',\n",
       " 'schöne 3-gang-automatik',\n",
       " 'kolleg',\n",
       " 'braun',\n",
       " 'papiere',\n",
       " 'lenkgetriebe',\n",
       " 'reif',\n",
       " 'gutachten',\n",
       " 'grill',\n",
       " 'siedlung',\n",
       " 'schätze wars',\n",
       " 'zündkerzenbild',\n",
       " 'tageskilometerzähler',\n",
       " 'gehäuse',\n",
       " 'fh',\n",
       " 'angreifen',\n",
       " 'hallo nightticker',\n",
       " 'defekt,,,zündspule',\n",
       " '91 ausführung',\n",
       " 'schranke',\n",
       " 'b3-',\n",
       " 'benzin',\n",
       " 'relais brücken',\n",
       " 'reihenfolge',\n",
       " 'professionelle instandsetzung',\n",
       " 'bilder',\n",
       " 'schaltgetriebe',\n",
       " 'hella bevorzugt 8fh351311',\n",
       " 'grüne hölle',\n",
       " 'nockenwellenräder',\n",
       " 'modell,,,u',\n",
       " 'b-säulenverkleidung',\n",
       " 'zahnriemenabdeckung',\n",
       " 'brauchbar',\n",
       " 'mengenteilerkopf',\n",
       " 'typklasse',\n",
       " 'orginal audi',\n",
       " 'erfindung',\n",
       " 'rückbank',\n",
       " 'son',\n",
       " 'ichkanndas',\n",
       " 'aftermarket',\n",
       " 'schweißnaht',\n",
       " 'mittnehmer',\n",
       " 'h-zulassung',\n",
       " '10 minuten',\n",
       " 'synchronring',\n",
       " 'vorratsbehälter',\n",
       " 'entscheident',\n",
       " 'zuleitungskabel',\n",
       " 'relais',\n",
       " 'moin webster',\n",
       " 'verhalten',\n",
       " '10w40',\n",
       " '2,3l',\n",
       " 'backen',\n",
       " 'gebern',\n",
       " 'vorraussetzungen',\n",
       " 'innereien',\n",
       " 'mittelkonsole',\n",
       " 'altes golf-cabrio',\n",
       " 'ausgleichsgetriebe',\n",
       " 'ausem',\n",
       " 'öllampe',\n",
       " 'elsa',\n",
       " 'cab',\n",
       " 'gewissensentscheidung',\n",
       " 'bänder',\n",
       " '100 grad',\n",
       " 'spiegel',\n",
       " 'kontr',\n",
       " 'esd',\n",
       " 'herstellern',\n",
       " 'sockel',\n",
       " '9 ltr',\n",
       " 'zentralschraube',\n",
       " 'einsetzen',\n",
       " '10 monaten',\n",
       " 'dichte pumpe',\n",
       " 'konservierung',\n",
       " 'erforderliches öl',\n",
       " 'cards',\n",
       " 'öldruckwerte',\n",
       " 'november',\n",
       " 'repairstick',\n",
       " 'kofferaumschloss',\n",
       " 'bordspannung',\n",
       " 'verstärker',\n",
       " 'aufschrift',\n",
       " 'orginalen geber',\n",
       " 'mahle',\n",
       " 'originalität',\n",
       " '20v turbo',\n",
       " 'hella',\n",
       " 'strukturlack',\n",
       " 'wfs',\n",
       " 'schwachstellen',\n",
       " 'anbietern',\n",
       " 'ms-650',\n",
       " 'originalen bosch-teilenummer',\n",
       " 'alter,,es',\n",
       " 'masse',\n",
       " '200 euro',\n",
       " 'udn',\n",
       " 'windschutzscheibe',\n",
       " 'laufendem motor',\n",
       " '1000 km',\n",
       " 'maßnahmen',\n",
       " 'offroad-auto',\n",
       " 'fett',\n",
       " 'passende thema',\n",
       " 'theorie',\n",
       " 'aktion',\n",
       " 'funtionierenden motor',\n",
       " 'votex',\n",
       " 'anfang',\n",
       " 'dichtschnur',\n",
       " 'coupé',\n",
       " 'juni',\n",
       " 'austauschlenkgetriebe',\n",
       " 'richtige kaufberatung',\n",
       " 'verbrauch',\n",
       " '5000 km',\n",
       " 'bekannten 10',\n",
       " '80 cabriolet',\n",
       " 'komfort',\n",
       " 'steuerblock',\n",
       " 'rest-tüv',\n",
       " 'schönen gruss',\n",
       " 'oe-teil',\n",
       " 'hella wärmetauscher',\n",
       " 'untere lenkradverkleidung',\n",
       " 'drehzahlmesser',\n",
       " 'christian',\n",
       " 'colonia',\n",
       " 'flansch',\n",
       " 'hella öldruckschalter',\n",
       " 'instrumenten',\n",
       " 'luftdurchsatz',\n",
       " 'wees',\n",
       " 'instandsetzung',\n",
       " 'kumpel',\n",
       " 'rl',\n",
       " 'winterbetrieb',\n",
       " 'aufrund',\n",
       " 'abziehen',\n",
       " 'reserverad',\n",
       " 'bild',\n",
       " 'hammer',\n",
       " 'standartwerkzeug',\n",
       " 'ding',\n",
       " 'menzerna',\n",
       " 'probefahrt',\n",
       " 'elring',\n",
       " 'brenner',\n",
       " 'getriebeöl',\n",
       " 'gasstoß',\n",
       " 'vorgrspannt',\n",
       " 'akte',\n",
       " 'leitfaden',\n",
       " 'breite leiste',\n",
       " 'zeilen',\n",
       " 'zündanlasschalter',\n",
       " 'mal iwo',\n",
       " 'scheinwerfern',\n",
       " 'genaue anweisungen',\n",
       " 'türverkleidung',\n",
       " '2 stecker',\n",
       " 'kurven/einschlagen',\n",
       " 'federn',\n",
       " 'hydros',\n",
       " 'lager',\n",
       " 'liter/100',\n",
       " 'hallo dagmar,,,um audi model',\n",
       " 'vollkastko',\n",
       " 'funk',\n",
       " 'qualifikation',\n",
       " 'eventuellen reparaturen',\n",
       " 'splint',\n",
       " 'lärm',\n",
       " 'warmlaufregler',\n",
       " 'ausgang',\n",
       " 'km langstrecke',\n",
       " 'schoeppenstedt',\n",
       " 'nochimmer',\n",
       " 'tarif',\n",
       " 'sonnenschein',\n",
       " 'gummi',\n",
       " 'messgerät',\n",
       " 'dichtungen',\n",
       " 'ziehen',\n",
       " 'sätze',\n",
       " 'mindestwert',\n",
       " 'ausstattung',\n",
       " 'passat',\n",
       " 'herrn',\n",
       " 'abgasuntersuchung',\n",
       " 'g12',\n",
       " 'frank',\n",
       " '2,8er',\n",
       " 'b4 modell,,,u',\n",
       " 'mengenteiler',\n",
       " 'spannrolle',\n",
       " '1/16',\n",
       " 'kurven/einschlagen räder',\n",
       " 'desshalb',\n",
       " 'robert',\n",
       " 'ke-jet',\n",
       " 'abe',\n",
       " 'runden',\n",
       " 'lecwec',\n",
       " 'kühlmittel',\n",
       " 'msg',\n",
       " 'kreis',\n",
       " 'geschrieben.die klimaautomatik',\n",
       " 'ursache',\n",
       " 'bremsflüssigkeit',\n",
       " 'bolzen',\n",
       " 'hi crtp',\n",
       " 'kat',\n",
       " 'ablage',\n",
       " 'tdi',\n",
       " 'prüfung',\n",
       " 'herausfiltern',\n",
       " 'ventildeckeldichtung',\n",
       " 'seilfett',\n",
       " 'relaisplatz',\n",
       " 'monomotronik',\n",
       " 'eingang',\n",
       " 'entlastungsrelais',\n",
       " 'benötigtes material',\n",
       " 'verschiedene anleitungen',\n",
       " 'abkürzung',\n",
       " 'offenen grün/blauen kabels',\n",
       " 'leichten kühlwasser verlust',\n",
       " 'werkzeug/lineal',\n",
       " 'f1',\n",
       " 'peilstab',\n",
       " 'dichtmasse',\n",
       " 'contitech',\n",
       " 'audi 200 5e typ',\n",
       " '97.000 km',\n",
       " 'lima',\n",
       " '4 gummilagern',\n",
       " 'ausgleichsventil',\n",
       " 'rentner',\n",
       " 'http://download.autobild.de/.../oldtimerrichtlinie_h-kennzeichen.pdf',\n",
       " 'rennpm',\n",
       " 'endschalldämpfer',\n",
       " 'spannungswandler',\n",
       " 'gruß stefan',\n",
       " 'themenstarter',\n",
       " 'dne',\n",
       " 'leitung',\n",
       " 'laufleistung',\n",
       " '2,5 umdrehungen rausdrehen',\n",
       " 'einheit',\n",
       " 'funkferbedienung',\n",
       " 'motorhaube',\n",
       " 'titanium',\n",
       " 'gut-glück',\n",
       " 'minikat',\n",
       " 'sensor',\n",
       " 'einspritzanlage',\n",
       " 'verkokungen',\n",
       " 'bzw.tipp',\n",
       " 'po',\n",
       " 'scho',\n",
       " '90er',\n",
       " 'xenon',\n",
       " '66kw',\n",
       " 'zi',\n",
       " 'wert',\n",
       " 'endstufe',\n",
       " 'auskunft',\n",
       " 'juli',\n",
       " 'wartungsstau',\n",
       " 'metern',\n",
       " 'benzin system reiniger',\n",
       " 'hanno',\n",
       " 'anlage',\n",
       " '0.5 liter',\n",
       " 'offenem draht',\n",
       " 'datenblatt',\n",
       " 'drahtseilspray',\n",
       " 'jumper',\n",
       " 'fettes gemisch',\n",
       " 'auflage',\n",
       " 'temperatursensor',\n",
       " 'komische zeichnung',\n",
       " 'ölverbrauch',\n",
       " 'einstellen',\n",
       " 'schaltvorgang',\n",
       " 'zulauf',\n",
       " 'sound is wahnsinn',\n",
       " 'zusatzluftschieber',\n",
       " 'verhandlungsbasis',\n",
       " 'modus',\n",
       " 'zv',\n",
       " 'durchtrennten kabel',\n",
       " 'cent-artikel',\n",
       " 'generalüberholung',\n",
       " 'notprogramm',\n",
       " 'co2',\n",
       " 'pluspol',\n",
       " 'kraftstoffpumpe',\n",
       " 'antriebswellengelenk',\n",
       " '1,8bar',\n",
       " '1ky',\n",
       " 'g50',\n",
       " 'laternenparker',\n",
       " 'traktor',\n",
       " 'unterlagen',\n",
       " 'herkunft nichr',\n",
       " 'überschüssigen runden',\n",
       " 'g4',\n",
       " '30min',\n",
       " 'falschluft',\n",
       " 'vorlauf',\n",
       " 'undichtigkeit',\n",
       " 'schrottplatz',\n",
       " 'feinde',\n",
       " 'übersetzung 0.56 6ten gang',\n",
       " 'längsten stelle',\n",
       " 'pampe',\n",
       " 'fs',\n",
       " 'zünkerzen',\n",
       " 'bermuda-dreieck',\n",
       " '+12v',\n",
       " 'aschlüsse',\n",
       " 'drücken',\n",
       " 'hexenwerk',\n",
       " 'unterdruckversorgung',\n",
       " 'watt',\n",
       " 'eingebauter gasanlage',\n",
       " 'anlasser??ist',\n",
       " 'eintragung',\n",
       " 'fußausströmer',\n",
       " 'grüßle andy',\n",
       " 'diff.undicht',\n",
       " 'leerlauf',\n",
       " 'trägereinheit',\n",
       " '6 stunden',\n",
       " 'stichwort',\n",
       " 'benzinführenden',\n",
       " 'mehrlenkerachse',\n",
       " 'schwarzen schaumstoffblock',\n",
       " 'serviceheft',\n",
       " 'guß',\n",
       " 'sockel hoffentlich kompletten kabelstrang einklipsen',\n",
       " 'guten abend',\n",
       " 'klr',\n",
       " 'luftmengeneiler',\n",
       " 'hebel',\n",
       " 'galvanisierbetrieb',\n",
       " 'schaumstoff',\n",
       " ...]"
      ]
     },
     "execution_count": 115,
     "metadata": {},
     "output_type": "execute_result"
    }
   ],
   "source": [
    "with open(\"concepts.txt\", \"r\") as f:\n",
    "    content = f.readlines()\n",
    "# you may also want to remove whitespace characters like `\\n` at the end of each line\n",
    "content = [x.strip() for x in content] \n",
    "\n",
    "content"
   ]
  },
  {
   "cell_type": "code",
   "execution_count": 136,
   "metadata": {},
   "outputs": [],
   "source": [
    "from random import sample\n",
    "\n",
    "testset = sample(candidates, 500)"
   ]
  },
  {
   "cell_type": "code",
   "execution_count": 139,
   "metadata": {},
   "outputs": [],
   "source": [
    "with open(\"testset.txt\", \"w\") as fp:\n",
    "    fp.writelines('\\n'.join(testset))"
   ]
  },
  {
   "cell_type": "code",
   "execution_count": null,
   "metadata": {},
   "outputs": [],
   "source": []
  }
 ],
 "metadata": {
  "kernelspec": {
   "display_name": "spacy",
   "language": "python",
   "name": "spacy"
  },
  "language_info": {
   "codemirror_mode": {
    "name": "ipython",
    "version": 3
   },
   "file_extension": ".py",
   "mimetype": "text/x-python",
   "name": "python",
   "nbconvert_exporter": "python",
   "pygments_lexer": "ipython3",
   "version": "3.7.6"
  }
 },
 "nbformat": 4,
 "nbformat_minor": 4
}
