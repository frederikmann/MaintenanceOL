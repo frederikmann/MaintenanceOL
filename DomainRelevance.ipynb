{
 "cells": [
  {
   "cell_type": "markdown",
   "metadata": {},
   "source": [
    "# Domain Relevance Evaluation\n",
    "\n",
    "Comparing different methods to get domain relevant terms "
   ]
  },
  {
   "cell_type": "code",
   "execution_count": 1,
   "metadata": {},
   "outputs": [],
   "source": [
    "import pandas as pd\n",
    "from tqdm import tqdm\n",
    "from parts import collect, oie, domain_relevance, cleaning"
   ]
  },
  {
   "cell_type": "markdown",
   "metadata": {},
   "source": [
    "## Initial Load of Background Domains\n",
    "\n",
    "!!! only needed first time -> choose to export data to resource folder for faster performance in the future !!!"
   ]
  },
  {
   "cell_type": "code",
   "execution_count": null,
   "metadata": {
    "scrolled": true
   },
   "outputs": [],
   "source": [
    "adac_corpus = collect.get_corpus(0,\"adac\",0,0)"
   ]
  },
  {
   "cell_type": "code",
   "execution_count": null,
   "metadata": {},
   "outputs": [],
   "source": [
    "chefkoch_corpus = collect.get_corpus(\"https://www.chefkoch.de/forum/1,27/Haus-Garten.html\",\"chefkoch\",5,0)"
   ]
  },
  {
   "cell_type": "code",
   "execution_count": null,
   "metadata": {},
   "outputs": [],
   "source": [
    "car_corpus = collect.get_corpus(\"https://www.motor-talk.de/forum/audi-80-90-100-200-v8-b158.html\",\"car\",3,0)"
   ]
  },
  {
   "cell_type": "markdown",
   "metadata": {},
   "source": [
    "## Load Background Domains and Extract Terms"
   ]
  },
  {
   "cell_type": "code",
   "execution_count": 38,
   "metadata": {},
   "outputs": [
    {
     "name": "stderr",
     "output_type": "stream",
     "text": [
      "100%|██████████| 2524/2524 [01:36<00:00, 26.11it/s]\n"
     ]
    },
    {
     "name": "stdout",
     "output_type": "stream",
     "text": [
      "deleted time references: 0\n",
      "deleted date references: 287\n",
      "deleted links: 77\n",
      "deleted quotes: 63\n",
      "deleted ireg expressions: 38\n",
      "deleted abbreviations: 206\n"
     ]
    }
   ],
   "source": [
    "adac_domain = collect.load_domain_terms(\"adac\", 10000, 1)"
   ]
  },
  {
   "cell_type": "code",
   "execution_count": 39,
   "metadata": {
    "scrolled": true
   },
   "outputs": [
    {
     "name": "stderr",
     "output_type": "stream",
     "text": [
      "100%|██████████| 174/174 [00:18<00:00,  9.39it/s]\n"
     ]
    },
    {
     "name": "stdout",
     "output_type": "stream",
     "text": [
      "deleted time references: 19\n",
      "deleted date references: 29\n",
      "deleted links: 89\n",
      "deleted quotes: 367\n",
      "deleted ireg expressions: 122\n",
      "deleted abbreviations: 241\n"
     ]
    }
   ],
   "source": [
    "car_domain = collect.load_domain_terms(\"car\", 10000, 1)"
   ]
  },
  {
   "cell_type": "code",
   "execution_count": 40,
   "metadata": {
    "scrolled": true
   },
   "outputs": [
    {
     "name": "stderr",
     "output_type": "stream",
     "text": [
      "100%|██████████| 279/279 [01:23<00:00,  3.35it/s]\n"
     ]
    },
    {
     "name": "stdout",
     "output_type": "stream",
     "text": [
      "deleted time references: 0\n",
      "deleted date references: 692\n",
      "deleted links: 156\n",
      "deleted quotes: 419\n",
      "deleted ireg expressions: 321\n",
      "deleted abbreviations: 491\n"
     ]
    }
   ],
   "source": [
    "chefkoch_domain = collect.load_domain_terms(\"chefkoch\", 10000, 1)"
   ]
  },
  {
   "cell_type": "markdown",
   "metadata": {},
   "source": [
    "## Calculate Metrics "
   ]
  },
  {
   "cell_type": "code",
   "execution_count": null,
   "metadata": {},
   "outputs": [],
   "source": [
    "metric = \"tf\""
   ]
  },
  {
   "cell_type": "code",
   "execution_count": null,
   "metadata": {},
   "outputs": [],
   "source": [
    "adac_relevance = domain_relevance.get_relevancy(adac_domain, metric)"
   ]
  },
  {
   "cell_type": "code",
   "execution_count": null,
   "metadata": {},
   "outputs": [],
   "source": [
    "car_relevance = domain_relevance.get_relevancy(car_domain, metric)"
   ]
  },
  {
   "cell_type": "code",
   "execution_count": null,
   "metadata": {},
   "outputs": [],
   "source": [
    "chefkoch_relevance = domain_relevance.get_relevancy(chefkoch_domain, metric)"
   ]
  },
  {
   "cell_type": "code",
   "execution_count": null,
   "metadata": {},
   "outputs": [],
   "source": [
    "alpha = 0.5\n",
    "candidates = set([item for sublist in car_domain for item in sublist])\n",
    "dw = domain_relevance.get_dw(car_domain, chefkoch_domain, candidates, alpha)"
   ]
  },
  {
   "cell_type": "code",
   "execution_count": null,
   "metadata": {},
   "outputs": [],
   "source": [
    "llr = domain_relevance.get_llr(car_domain, chefkoch_domain, candidates)"
   ]
  },
  {
   "cell_type": "code",
   "execution_count": null,
   "metadata": {},
   "outputs": [],
   "source": [
    "lor_bg = domain_relevance.get_lor_bg(car_domain, chefkoch_domain, candidates)"
   ]
  },
  {
   "cell_type": "markdown",
   "metadata": {},
   "source": [
    "## Evaluation of Metrics and Domains"
   ]
  },
  {
   "cell_type": "code",
   "execution_count": 90,
   "metadata": {},
   "outputs": [],
   "source": [
    "import matplotlib.pyplot as plt"
   ]
  },
  {
   "cell_type": "markdown",
   "metadata": {},
   "source": [
    "### Distribution of metrics"
   ]
  },
  {
   "cell_type": "code",
   "execution_count": null,
   "metadata": {},
   "outputs": [],
   "source": [
    "### Term frequency distribution in car_domain\n",
    "from collections import Counter\n",
    "flat_terms = [item for sublist in chefkoch_domain for item in sublist]\n",
    "tf = Counter(flat_terms)\n",
    "bins= range(0,15,1)\n",
    "plt.hist(tf.values(), bins=bins, edgecolor=\"k\")\n",
    "plt.xticks(bins)\n",
    "print(min(tf.values()),max(tf.values()))"
   ]
  },
  {
   "cell_type": "code",
   "execution_count": null,
   "metadata": {
    "scrolled": false
   },
   "outputs": [],
   "source": [
    "# distribution of llr, dw, lor, lor_bg values (just exchange for fitting metric)\n",
    "bins= range(int(min(llr.values()))-1,int(min(llr.values()))+10,1)\n",
    "plt.hist(llr.values(), bins=bins, edgecolor=\"k\")\n",
    "plt.xticks(bins)\n",
    "print(min(llr.values()),max(llr.values()))"
   ]
  },
  {
   "cell_type": "code",
   "execution_count": null,
   "metadata": {
    "scrolled": true
   },
   "outputs": [],
   "source": [
    "# overview of highest and lowest performing terms in metric\n",
    "pd.Series(tf).sort_values(ascending = False).head(15)"
   ]
  },
  {
   "cell_type": "code",
   "execution_count": null,
   "metadata": {},
   "outputs": [],
   "source": [
    "len(candidates)\n",
    "counter = 0\n",
    "chefkoch_terms = set([item for sublist in chefkoch_domain for item in sublist])\n",
    "for term in candidates:\n",
    "    if term in chefkoch_terms and tf[term] > 1:\n",
    "        counter += 1\n",
    "        \n",
    "counter"
   ]
  },
  {
   "cell_type": "markdown",
   "metadata": {},
   "source": [
    "## Test Concept Export and Import"
   ]
  },
  {
   "cell_type": "code",
   "execution_count": null,
   "metadata": {},
   "outputs": [],
   "source": [
    "#concepts = list(set([item for sublist in adac_domain for item in sublist]))\n",
    "with open(\"concepts.txt\", \"w\") as fp:\n",
    "    fp.writelines('\\n'.join(concepts))"
   ]
  },
  {
   "cell_type": "code",
   "execution_count": null,
   "metadata": {},
   "outputs": [],
   "source": [
    "with open(\"concepts.txt\", \"r\") as f:\n",
    "    content = f.readlines()\n",
    "# you may also want to remove whitespace characters like `\\n` at the end of each line\n",
    "content = [x.strip() for x in content] "
   ]
  },
  {
   "cell_type": "markdown",
   "metadata": {},
   "source": [
    "## Generate Random Testset and Test Concept generation"
   ]
  },
  {
   "cell_type": "code",
   "execution_count": null,
   "metadata": {},
   "outputs": [],
   "source": [
    "#from random import sample\n",
    "#\n",
    "#testset = sample(candidates, 1000)"
   ]
  },
  {
   "cell_type": "code",
   "execution_count": 5,
   "metadata": {},
   "outputs": [],
   "source": [
    "with open(\"testset.txt\", \"r\") as f:\n",
    "    testset = f.readlines()\n",
    "# you may also want to remove whitespace characters like `\\n` at the end of each line\n",
    "testset = [x.strip() for x in testset] "
   ]
  },
  {
   "cell_type": "code",
   "execution_count": 6,
   "metadata": {},
   "outputs": [],
   "source": [
    "import csv\n",
    "reader = csv.reader(open('testset_labeled.csv', 'r'),delimiter=';')\n",
    "labeled = {}\n",
    "for row in reader:\n",
    "    k,v = row\n",
    "    labeled[k] = v"
   ]
  },
  {
   "cell_type": "code",
   "execution_count": 187,
   "metadata": {
    "scrolled": true
   },
   "outputs": [
    {
     "name": "stderr",
     "output_type": "stream",
     "text": [
      "100%|██████████| 174/174 [00:00<00:00, 39466.20it/s]\n",
      "100%|██████████| 279/279 [00:00<00:00, 17468.18it/s]"
     ]
    },
    {
     "name": "stdout",
     "output_type": "stream",
     "text": [
      "Chosen via background domain: 974\n",
      "Chosen via metric: 1486\n",
      "Chosen via tf > 1 limit: 1927\n"
     ]
    },
    {
     "name": "stderr",
     "output_type": "stream",
     "text": [
      "\n"
     ]
    }
   ],
   "source": [
    "labels = domain_relevance.label_concepts(car_domain, adac_domain, chefkoch_domain, \"dw\")"
   ]
  },
  {
   "cell_type": "code",
   "execution_count": 126,
   "metadata": {},
   "outputs": [],
   "source": [
    "predicted = {}\n",
    "for candidate in testset:\n",
    "    predicted[candidate] = labels[candidate]"
   ]
  },
  {
   "cell_type": "code",
   "execution_count": 127,
   "metadata": {},
   "outputs": [],
   "source": [
    "import pandas as pd\n",
    "\n",
    "df = pd.DataFrame.from_dict(labeled,orient='index', columns = [\"label\"])\n",
    "df[\"predicted\"] = predicted.values()"
   ]
  },
  {
   "cell_type": "code",
   "execution_count": 128,
   "metadata": {},
   "outputs": [],
   "source": [
    "from sklearn.metrics import confusion_matrix, classification_report"
   ]
  },
  {
   "cell_type": "code",
   "execution_count": 129,
   "metadata": {},
   "outputs": [
    {
     "data": {
      "text/plain": [
       "array([[  0, 165],\n",
       "       [  0, 335]])"
      ]
     },
     "execution_count": 129,
     "metadata": {},
     "output_type": "execute_result"
    }
   ],
   "source": [
    "confusion_matrix(pd.to_numeric(df[\"label\"]), pd.to_numeric(df[\"predicted\"]))"
   ]
  },
  {
   "cell_type": "code",
   "execution_count": 119,
   "metadata": {},
   "outputs": [
    {
     "name": "stdout",
     "output_type": "stream",
     "text": [
      "              precision    recall  f1-score   support\n",
      "\n",
      "           0       0.66      0.41      0.51       165\n",
      "           1       0.76      0.90      0.82       335\n",
      "\n",
      "    accuracy                           0.74       500\n",
      "   macro avg       0.71      0.65      0.66       500\n",
      "weighted avg       0.72      0.74      0.72       500\n",
      "\n"
     ]
    }
   ],
   "source": [
    "print(classification_report(pd.to_numeric(df[\"label\"]), pd.to_numeric(df[\"predicted\"])))"
   ]
  },
  {
   "cell_type": "markdown",
   "metadata": {},
   "source": [
    "## Advanced Domain Selection \n",
    "First choose ADAC terms based on frequency -> choose Autoforum/Chefkoch terms based on newly defined shared domain -> sort remaining Autoforum terms by frequency or other metric "
   ]
  },
  {
   "cell_type": "code",
   "execution_count": 84,
   "metadata": {},
   "outputs": [],
   "source": [
    "tf_target, tf_contrast, dw, llr, lor_bg = domain_relevance.get_metrics(shared_target_domain, shared_contrastive_domain, \"tf\")"
   ]
  },
  {
   "cell_type": "code",
   "execution_count": 134,
   "metadata": {},
   "outputs": [
    {
     "name": "stdout",
     "output_type": "stream",
     "text": [
      "-3.828641396489095 1.6094379124341005\n"
     ]
    },
    {
     "data": {
      "image/png": "[encoded data removed]",
      "text/plain": [
       "<Figure size 432x288 with 1 Axes>"
      ]
     },
     "metadata": {
      "needs_background": "light"
     },
     "output_type": "display_data"
    }
   ],
   "source": [
    "# distribution of llr, dw, lor, lor_bg values (just exchange for fitting metric)\n",
    "bins= range(int(min(llr.values()))-1,int(min(llr.values()))+10,1)\n",
    "plt.hist(llr.values(), bins=bins, edgecolor=\"k\")\n",
    "plt.xticks(bins)\n",
    "print(min(llr.values()),max(llr.values()))"
   ]
  },
  {
   "cell_type": "code",
   "execution_count": 188,
   "metadata": {},
   "outputs": [
    {
     "data": {
      "text/plain": [
       "geld       -2.302585\n",
       "tipp       -2.351375\n",
       "hallo      -2.458238\n",
       "zitat      -2.730029\n",
       "maschine   -3.828641\n",
       "dtype: float64"
      ]
     },
     "execution_count": 188,
     "metadata": {},
     "output_type": "execute_result"
    }
   ],
   "source": [
    "# overview of highest and lowest performing terms in metric\n",
    "pd.Series(llr).sort_values(ascending = False).tail(5)"
   ]
  },
  {
   "cell_type": "code",
   "execution_count": 195,
   "metadata": {},
   "outputs": [],
   "source": [
    "\n",
    "def label_shared_concepts(target_domain, contrastive_domain, method, metric):\n",
    "    label = {}\n",
    "    shared_target_domain, shared_contrastive_domain = domain_relevance.get_shared_domain(target_domain, contrastive_domain)\n",
    "    tf_target, tf_contrast, dw, llr, lor_bg = domain_relevance.get_metrics(shared_target_domain, shared_contrastive_domain, metric)\n",
    "\n",
    "    candidates = set([item for sublist in shared_target_domain for item in sublist])\n",
    "\n",
    "    for candidate in candidates:\n",
    "        label[candidate] = 0\n",
    "        if tf_target[candidate] > tf_contrast[candidate] and not method:\n",
    "            label[candidate] = 1\n",
    "        elif llr[candidate] > 0 and method == \"llr\":\n",
    "            label[candidate] = 1\n",
    "        elif lor_bg[candidate] > 0 and method == \"lor_bg\":\n",
    "            label[candidate] = 1\n",
    "        elif dw[candidate] > 200 and method == \"dw\":\n",
    "            label[candidate] = 0\n",
    "        elif method == \"del\":\n",
    "            pass\n",
    "\n",
    "    return label"
   ]
  },
  {
   "cell_type": "code",
   "execution_count": 197,
   "metadata": {},
   "outputs": [
    {
     "name": "stderr",
     "output_type": "stream",
     "text": [
      "100%|██████████| 174/174 [00:00<00:00, 44049.31it/s]\n",
      "100%|██████████| 279/279 [00:00<00:00, 23203.28it/s]\n"
     ]
    },
    {
     "data": {
      "text/plain": [
       "1771"
      ]
     },
     "execution_count": 197,
     "metadata": {},
     "output_type": "execute_result"
    }
   ],
   "source": [
    "test_dudu = domain_relevance.label_shared_concepts(car_domain, chefkoch_domain, \"dw\", \"tf\")\n",
    "counter = 0\n",
    "for bla in test_dudu:\n",
    "    if test_dudu[bla]:\n",
    "        counter += 1\n",
    "counter"
   ]
  },
  {
   "cell_type": "code",
   "execution_count": null,
   "metadata": {},
   "outputs": [],
   "source": []
  },
  {
   "cell_type": "code",
   "execution_count": null,
   "metadata": {},
   "outputs": [],
   "source": []
  }
 ],
 "metadata": {
  "kernelspec": {
   "display_name": "spacy",
   "language": "python",
   "name": "spacy"
  },
  "language_info": {
   "codemirror_mode": {
    "name": "ipython",
    "version": 3
   },
   "file_extension": ".py",
   "mimetype": "text/x-python",
   "name": "python",
   "nbconvert_exporter": "python",
   "pygments_lexer": "ipython3",
   "version": "3.7.6"
  }
 },
 "nbformat": 4,
 "nbformat_minor": 4
}
