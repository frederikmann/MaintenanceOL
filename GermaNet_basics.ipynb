{
 "cells": [
  {
   "cell_type": "markdown",
   "metadata": {},
   "source": [
    "# GermaNet Basics"
   ]
  },
  {
   "cell_type": "code",
   "execution_count": 1,
   "metadata": {},
   "outputs": [
    {
     "name": "stderr",
     "output_type": "stream",
     "text": [
      "Load GermaNet data...: 100%|██████████████████████████████████████████▉| 99.99999999999996/100 [00:19<00:00,  5.16it/s]\n",
      "Load Wictionary data...: 100%|████████████████████████████████████████████████████| 100.0/100 [00:00<00:00, 408.25it/s]\n",
      "Load Ili records...: 100%|███████████████████████████████████████████████████████| 100.0/100 [00:00<00:00, 8331.62it/s]\n"
     ]
    }
   ],
   "source": [
    "from germanetpy.germanet import Germanet\n",
    "\n",
    "path = \"D:/Users/STUD_Mann.AIS/GermaNet\" \n",
    "\n",
    "data_path = path + \"/GN_V150/GN_V150_XML\"\n",
    "frequencylist_nouns = path + \"/GN_V150/FreqLists/noun_freqs_decow14_16.txt\"\n",
    "germanet = Germanet(data_path)"
   ]
  },
  {
   "cell_type": "code",
   "execution_count": 404,
   "metadata": {},
   "outputs": [
    {
     "name": "stdout",
     "output_type": "stream",
     "text": [
      "3\n"
     ]
    }
   ],
   "source": [
    "# Term in Orthform (Xxxxx)\n",
    "\n",
    "orthform = \"Prozess\"\n",
    "\n",
    "testsynset = germanet.get_synsets_by_orthform(orthform)\n",
    "\n",
    "print(len(testsynset))"
   ]
  },
  {
   "cell_type": "code",
   "execution_count": 405,
   "metadata": {},
   "outputs": [
    {
     "data": {
      "text/plain": [
       "[Synset(id=s19348, lexunits=Prozess, Verhandlung, Gerichtsverhandlung, Gerichtsprozess),\n",
       " Synset(id=s12932, lexunits=Prozess),\n",
       " Synset(id=s16472, lexunits=Prozess)]"
      ]
     },
     "execution_count": 405,
     "metadata": {},
     "output_type": "execute_result"
    }
   ],
   "source": [
    "testsynset"
   ]
  },
  {
   "cell_type": "code",
   "execution_count": 406,
   "metadata": {
    "scrolled": false
   },
   "outputs": [
    {
     "name": "stdout",
     "output_type": "stream",
     "text": [
      "[[Synset(id=s19348, lexunits=Prozess, Verhandlung, Gerichtsverhandlung, Gerichtsprozess), Synset(id=s19321, lexunits=Justizverfahren, Verfahren, Gerichtsverfahren, Rechtsverfahren), Synset(id=s76122, lexunits=Verfahren), Synset(id=s17894, lexunits=Durchführung, Realisierung, Verwirklichung, Realisation), Synset(id=s17870, lexunits=Handlungssequenz), Synset(id=s18413, lexunits=Handlung, Tat, Aktivität, Tätigkeit), Synset(id=s16557, lexunits=Geschehen, Geschehnis), Synset(id=s16438, lexunits=Ereignis), Synset(id=s16437, lexunits=Situation), Synset(id=s13222, lexunits=Zustand), Synset(id=s51001, lexunits=GNROOT)]] \n",
      "\n",
      "[[Synset(id=s12932, lexunits=Prozess), Synset(id=s12377, lexunits=Computerterm), Synset(id=s32320, lexunits=Fachbegriff, Fachwort, Terminus, Term, Fachausdruck, Fachterm, Fachterminus), Synset(id=s32308, lexunits=Wort), Synset(id=s32257, lexunits=syntaktische Einheit), Synset(id=s32032, lexunits=sprachliche Einheit), Synset(id=s27001, lexunits=Einheit), Synset(id=s26979, lexunits=kognitives Objekt), Synset(id=s50980, lexunits=Entität), Synset(id=s51001, lexunits=GNROOT)]] \n",
      "\n",
      "[[Synset(id=s16472, lexunits=Prozess), Synset(id=s16438, lexunits=Ereignis), Synset(id=s16437, lexunits=Situation), Synset(id=s13222, lexunits=Zustand), Synset(id=s51001, lexunits=GNROOT)]] \n",
      "\n"
     ]
    }
   ],
   "source": [
    "# Get shortest Path to root (Entität)\n",
    "for e in testsynset:\n",
    "    print(e.shortest_path(germanet.get_synset_by_id(\"s51001\")), \"\\n\")"
   ]
  },
  {
   "cell_type": "code",
   "execution_count": 285,
   "metadata": {},
   "outputs": [
    {
     "ename": "IndexError",
     "evalue": "list index out of range",
     "output_type": "error",
     "traceback": [
      "\u001b[1;31m---------------------------------------------------------------------------\u001b[0m",
      "\u001b[1;31mIndexError\u001b[0m                                Traceback (most recent call last)",
      "\u001b[1;32m<ipython-input-285-71e7b1a83532>\u001b[0m in \u001b[0;36m<module>\u001b[1;34m\u001b[0m\n\u001b[1;32m----> 1\u001b[1;33m \u001b[0mtestsynset\u001b[0m\u001b[1;33m[\u001b[0m\u001b[1;36m1\u001b[0m\u001b[1;33m]\u001b[0m\u001b[1;33m.\u001b[0m\u001b[0mshortest_path\u001b[0m\u001b[1;33m(\u001b[0m\u001b[0mgermanet\u001b[0m\u001b[1;33m.\u001b[0m\u001b[0mget_synset_by_id\u001b[0m\u001b[1;33m(\u001b[0m\u001b[1;34m\"s10259\"\u001b[0m\u001b[1;33m)\u001b[0m\u001b[1;33m)\u001b[0m\u001b[1;33m\u001b[0m\u001b[1;33m\u001b[0m\u001b[0m\n\u001b[0m",
      "\u001b[1;31mIndexError\u001b[0m: list index out of range"
     ]
    }
   ],
   "source": [
    "testsynset[1].shortest_path(germanet.get_synset_by_id(\"s10259\"))"
   ]
  },
  {
   "cell_type": "code",
   "execution_count": 403,
   "metadata": {},
   "outputs": [
    {
     "data": {
      "text/plain": [
       "{Synset(id=s26979, lexunits=kognitives Objekt),\n",
       " Synset(id=s50981, lexunits=Objekt)}"
      ]
     },
     "execution_count": 403,
     "metadata": {},
     "output_type": "execute_result"
    }
   ],
   "source": [
    "#analyse path to root more\n",
    "germanet.get_synset_by_id(\"s50980\").direct_hyponyms"
   ]
  },
  {
   "cell_type": "code",
   "execution_count": 326,
   "metadata": {},
   "outputs": [
    {
     "data": {
      "text/plain": [
       "[[Synset(id=s8702, lexunits=Fahrzeug, Gefährt, Vehikel),\n",
       "  Synset(id=s5675, lexunits=Beförderungsmittel, Fortbewegungsmittel, Verkehrsmittel),\n",
       "  Synset(id=s5550, lexunits=Artefakt, Werk),\n",
       "  Synset(id=s50999, lexunits=Ding, Sache, Gegenstand, Gebilde),\n",
       "  Synset(id=s50981, lexunits=Objekt),\n",
       "  Synset(id=s50980, lexunits=Entität),\n",
       "  Synset(id=s51001, lexunits=GNROOT)]]"
      ]
     },
     "execution_count": 326,
     "metadata": {},
     "output_type": "execute_result"
    }
   ],
   "source": [
    "germanet.get_synset_by_id(\"s8702\").shortest_path(germanet.get_synset_by_id(\"s51001\"))"
   ]
  },
  {
   "cell_type": "code",
   "execution_count": null,
   "metadata": {},
   "outputs": [],
   "source": []
  }
 ],
 "metadata": {
  "kernelspec": {
   "display_name": "Python 3",
   "language": "python",
   "name": "python3"
  },
  "language_info": {
   "codemirror_mode": {
    "name": "ipython",
    "version": 3
   },
   "file_extension": ".py",
   "mimetype": "text/x-python",
   "name": "python",
   "nbconvert_exporter": "python",
   "pygments_lexer": "ipython3",
   "version": "3.7.4"
  }
 },
 "nbformat": 4,
 "nbformat_minor": 4
}
