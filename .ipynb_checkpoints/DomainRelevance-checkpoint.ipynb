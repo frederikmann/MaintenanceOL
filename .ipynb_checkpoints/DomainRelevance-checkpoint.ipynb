{
 "cells": [
  {
   "cell_type": "markdown",
   "metadata": {},
   "source": [
    "# Domain Relevance Evaluation\n",
    "\n",
    "Comparing different methods to get domain relevant terms "
   ]
  },
  {
   "cell_type": "code",
   "execution_count": 1,
   "metadata": {},
   "outputs": [],
   "source": [
    "from tqdm import tqdm\n",
    "from parts import collect, oie, domain_relevance"
   ]
  },
  {
   "cell_type": "markdown",
   "metadata": {},
   "source": [
    "## Initial Load of Background Domains"
   ]
  },
  {
   "cell_type": "code",
   "execution_count": null,
   "metadata": {},
   "outputs": [],
   "source": [
    "# adac domain\n",
    "\n",
    "def get_corpus(topic, domain, limit, export):\n",
    "    corpus = []\n",
    "    path = \"resources/txt/\"\n",
    "    counter = 0\n",
    "    links = collect.get_links(topic, domain, limit)\n",
    "    for link in tqdm(links):\n",
    "        if collect.get_text(link, domain):\n",
    "            text = \" ; \".join(collect.get_text(link, domain))\n",
    "            if len(text) < 100000 and text:\n",
    "                corpus.append(text)\n",
    "                if export:\n",
    "                    with open(path+domain+\"/\"+str(counter)+\".txt\", \"w\") as file:\n",
    "                        file.write(text)\n",
    "                    counter += 1\n",
    "    return corpus"
   ]
  },
  {
   "cell_type": "code",
   "execution_count": null,
   "metadata": {
    "scrolled": true
   },
   "outputs": [],
   "source": [
    "adac_corpus = get_corpus(0,\"adac\",0,1)"
   ]
  },
  {
   "cell_type": "code",
   "execution_count": null,
   "metadata": {},
   "outputs": [],
   "source": [
    "chefkoch_corpus = get_corpus(\"https://www.chefkoch.de/forum/1,27/Haus-Garten.html\",\"chefkoch\",5,1)"
   ]
  },
  {
   "cell_type": "code",
   "execution_count": null,
   "metadata": {},
   "outputs": [],
   "source": [
    "car_corpus = get_corpus(\"https://www.motor-talk.de/forum/audi-80-90-100-200-v8-b158.html\",\"car\",3,1)"
   ]
  },
  {
   "cell_type": "markdown",
   "metadata": {},
   "source": [
    "## Load Background Domains and Extract Terms"
   ]
  },
  {
   "cell_type": "code",
   "execution_count": 2,
   "metadata": {},
   "outputs": [],
   "source": [
    "### import car_domain from files\n",
    "\n",
    "def load_domain_terms(domain, limit, clean = 0):\n",
    "    counter = 0\n",
    "    path = \"resources/txt/\"\n",
    "    corpus = []\n",
    "    terms = []\n",
    "    while counter < limit:\n",
    "        try:\n",
    "            with open(path+domain+\"/\"+str(counter)+\".txt\", \"r\") as file:\n",
    "                corpus.append(file.read())\n",
    "            counter += 1\n",
    "        except:\n",
    "            break\n",
    "    \n",
    "    for doc in corpus:\n",
    "        terms.append(oie.get_terms(doc))\n",
    "    \n",
    "    if clean:\n",
    "        terms = preprocessing.post_term_cleaning(terms)\n",
    "        \n",
    "    return terms"
   ]
  },
  {
   "cell_type": "code",
   "execution_count": null,
   "metadata": {},
   "outputs": [],
   "source": [
    "adac_domain = load_domain(\"adac\", 10000)"
   ]
  },
  {
   "cell_type": "code",
   "execution_count": null,
   "metadata": {},
   "outputs": [],
   "source": [
    "car_domain = load_domain(\"car\", 10000)"
   ]
  },
  {
   "cell_type": "code",
   "execution_count": null,
   "metadata": {},
   "outputs": [],
   "source": [
    "chefkoch_domain = load_domain(\"chefkoch\", 10000)"
   ]
  },
  {
   "cell_type": "markdown",
   "metadata": {},
   "source": [
    "## Calculate Metrics "
   ]
  },
  {
   "cell_type": "code",
   "execution_count": null,
   "metadata": {},
   "outputs": [],
   "source": [
    "def get_relevancy(terms, metric):\n",
    "    tf = domain_relevance.get_tf(terms)\n",
    "    idf = domain_relevance.get_idf(terms)\n",
    "    tdf = domain_relevance.get_tdf(terms)\n",
    "    \n",
    "    if metric = \"tf\":\n",
    "        return tf\n",
    "    elif metric = \"tf_tdf\":\n",
    "        for term in set([item for sublist in terms for item in sublist]):\n",
    "            tf_tdf[term] = tf[term]*tdf[term]\n",
    "        return tf_tdf\n",
    "    elif metric = \"tf_idf\":\n",
    "        for term in set([item for sublist in terms for item in sublist]):\n",
    "            tf_idf[term] = tf[term]*idf[term]\n",
    "        return tf_idf\n",
    "        \n",
    "    else:\n",
    "        return False"
   ]
  },
  {
   "cell_type": "code",
   "execution_count": null,
   "metadata": {},
   "outputs": [],
   "source": [
    "def get_concepts(candidates, car_terms, adac_terms, chefkoch_terms):\n",
    "    concepts = set()\n",
    "    counter1 = 0\n",
    "    counter2 = 0\n",
    "    \n",
    "    for candidate in candidates:\n",
    "        try:\n",
    "            adac_terms[candidate]\n",
    "        except KeyError:\n",
    "            adac_terms[candidate] = 0\n",
    "        \n",
    "        try:\n",
    "            chefkoch_terms[candidate]\n",
    "        except KeyError:\n",
    "            chefkoch_terms[candidate] = 0\n",
    "            \n",
    "        if adac_terms[candidate] > car_terms[candidate]:\n",
    "            concepts.add(candidate)\n",
    "            counter1 += 1\n",
    "        elif car_terms[candidate] > (car_terms[candidate]+chefkoch_terms[candidate])/2:\n",
    "            concepts.add(candidate)\n",
    "            counter2 += 1\n",
    "        else:\n",
    "            print(candidate)\n",
    "            \n",
    "    print(counter1, counter2)\n",
    "    return concepts\n",
    "\n",
    "concepts = get_concepts(candidates, car_terms, adac_terms, chefkoch_terms)"
   ]
  },
  {
   "cell_type": "code",
   "execution_count": null,
   "metadata": {},
   "outputs": [],
   "source": [
    "len(concepts)"
   ]
  },
  {
   "cell_type": "code",
   "execution_count": null,
   "metadata": {},
   "outputs": [],
   "source": []
  },
  {
   "cell_type": "code",
   "execution_count": null,
   "metadata": {},
   "outputs": [],
   "source": []
  }
 ],
 "metadata": {
  "kernelspec": {
   "display_name": "spacy",
   "language": "python",
   "name": "spacy"
  },
  "language_info": {
   "codemirror_mode": {
    "name": "ipython",
    "version": 3
   },
   "file_extension": ".py",
   "mimetype": "text/x-python",
   "name": "python",
   "nbconvert_exporter": "python",
   "pygments_lexer": "ipython3",
   "version": "3.7.6"
  }
 },
 "nbformat": 4,
 "nbformat_minor": 4
}
